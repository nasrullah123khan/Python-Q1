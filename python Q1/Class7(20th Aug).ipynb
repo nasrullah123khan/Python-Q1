{
 "cells": [
  {
   "cell_type": "markdown",
   "id": "6cf3229d",
   "metadata": {},
   "source": [
    "# Functions"
   ]
  },
  {
   "cell_type": "code",
   "execution_count": 5,
   "id": "6ce534cf",
   "metadata": {},
   "outputs": [],
   "source": [
    "# defintion\n",
    "# call\n",
    "#result\n",
    "\n",
    "def nameUpper():\n",
    "    username = input(\"Please tell me your good name! \")\n",
    "    username = username.upper()\n",
    "    print(username)"
   ]
  },
  {
   "cell_type": "code",
   "execution_count": 3,
   "id": "fb7cc313",
   "metadata": {},
   "outputs": [
    {
     "name": "stdout",
     "output_type": "stream",
     "text": [
      "Please tell me your good name! nasir hussain\n",
      "NASIR HUSSAIN\n"
     ]
    }
   ],
   "source": [
    "#function call\n",
    "nameUpper()"
   ]
  },
  {
   "cell_type": "code",
   "execution_count": 39,
   "id": "6aa605ce",
   "metadata": {},
   "outputs": [],
   "source": [
    "def calcSqaure():#parameterless function\n",
    "    a = 10 \n",
    "    sq = a**2\n",
    "    print(sq)    "
   ]
  },
  {
   "cell_type": "code",
   "execution_count": 41,
   "id": "c30b5364",
   "metadata": {},
   "outputs": [
    {
     "name": "stdout",
     "output_type": "stream",
     "text": [
      "100\n"
     ]
    }
   ],
   "source": [
    "calcSqaure()"
   ]
  },
  {
   "cell_type": "code",
   "execution_count": 42,
   "id": "6cc2adee",
   "metadata": {},
   "outputs": [],
   "source": [
    "def calcSqaure(val):#parameterized function\n",
    "    sq = val**2\n",
    "    print(sq)    "
   ]
  },
  {
   "cell_type": "code",
   "execution_count": 43,
   "id": "c3172aec",
   "metadata": {},
   "outputs": [
    {
     "name": "stdout",
     "output_type": "stream",
     "text": [
      "81\n"
     ]
    }
   ],
   "source": [
    "calcSqaure(9)#argument"
   ]
  },
  {
   "cell_type": "code",
   "execution_count": 44,
   "id": "94d28134",
   "metadata": {},
   "outputs": [
    {
     "ename": "TypeError",
     "evalue": "calcSqaure() takes 1 positional argument but 2 were given",
     "output_type": "error",
     "traceback": [
      "\u001b[1;31m---------------------------------------\u001b[0m",
      "\u001b[1;31mTypeError\u001b[0mTraceback (most recent call last)",
      "\u001b[1;32m<ipython-input-44-25480e195b52>\u001b[0m in \u001b[0;36m<module>\u001b[1;34m\u001b[0m\n\u001b[0;32m      1\u001b[0m \u001b[1;31m# signature must be matched to call function\u001b[0m\u001b[1;33m\u001b[0m\u001b[1;33m\u001b[0m\u001b[1;33m\u001b[0m\u001b[0m\n\u001b[1;32m----> 2\u001b[1;33m \u001b[0mcalcSqaure\u001b[0m\u001b[1;33m(\u001b[0m\u001b[1;36m1\u001b[0m\u001b[1;33m,\u001b[0m\u001b[1;36m2\u001b[0m\u001b[1;33m)\u001b[0m\u001b[1;33m\u001b[0m\u001b[1;33m\u001b[0m\u001b[0m\n\u001b[0m",
      "\u001b[1;31mTypeError\u001b[0m: calcSqaure() takes 1 positional argument but 2 were given"
     ]
    }
   ],
   "source": [
    "# signature must be matched to call function\n",
    "calcSqaure(1,2)"
   ]
  },
  {
   "cell_type": "code",
   "execution_count": 45,
   "id": "ecf53912",
   "metadata": {},
   "outputs": [
    {
     "ename": "TypeError",
     "evalue": "unsupported operand type(s) for ** or pow(): 'str' and 'int'",
     "output_type": "error",
     "traceback": [
      "\u001b[1;31m---------------------------------------\u001b[0m",
      "\u001b[1;31mTypeError\u001b[0mTraceback (most recent call last)",
      "\u001b[1;32m<ipython-input-45-1e3bd4f5ec6b>\u001b[0m in \u001b[0;36m<module>\u001b[1;34m\u001b[0m\n\u001b[0;32m      1\u001b[0m \u001b[1;31m# Argument is valid but functionality is not supporting\u001b[0m\u001b[1;33m\u001b[0m\u001b[1;33m\u001b[0m\u001b[1;33m\u001b[0m\u001b[0m\n\u001b[0;32m      2\u001b[0m \u001b[1;31m# the argument\u001b[0m\u001b[1;33m\u001b[0m\u001b[1;33m\u001b[0m\u001b[1;33m\u001b[0m\u001b[0m\n\u001b[1;32m----> 3\u001b[1;33m \u001b[0mcalcSqaure\u001b[0m\u001b[1;33m(\u001b[0m\u001b[1;34m\"hello\"\u001b[0m\u001b[1;33m)\u001b[0m\u001b[1;33m\u001b[0m\u001b[1;33m\u001b[0m\u001b[0m\n\u001b[0m",
      "\u001b[1;32m<ipython-input-42-53e97c0549be>\u001b[0m in \u001b[0;36mcalcSqaure\u001b[1;34m(val)\u001b[0m\n\u001b[0;32m      1\u001b[0m \u001b[1;32mdef\u001b[0m \u001b[0mcalcSqaure\u001b[0m\u001b[1;33m(\u001b[0m\u001b[0mval\u001b[0m\u001b[1;33m)\u001b[0m\u001b[1;33m:\u001b[0m\u001b[1;31m#parameterized function\u001b[0m\u001b[1;33m\u001b[0m\u001b[1;33m\u001b[0m\u001b[0m\n\u001b[1;32m----> 2\u001b[1;33m     \u001b[0msq\u001b[0m \u001b[1;33m=\u001b[0m \u001b[0mval\u001b[0m\u001b[1;33m**\u001b[0m\u001b[1;36m2\u001b[0m\u001b[1;33m\u001b[0m\u001b[1;33m\u001b[0m\u001b[0m\n\u001b[0m\u001b[0;32m      3\u001b[0m     \u001b[0mprint\u001b[0m\u001b[1;33m(\u001b[0m\u001b[0msq\u001b[0m\u001b[1;33m)\u001b[0m\u001b[1;33m\u001b[0m\u001b[1;33m\u001b[0m\u001b[0m\n",
      "\u001b[1;31mTypeError\u001b[0m: unsupported operand type(s) for ** or pow(): 'str' and 'int'"
     ]
    }
   ],
   "source": [
    "# Argument is valid but functionality is not supporting\n",
    "# the argument\n",
    "calcSqaure(\"hello\")"
   ]
  },
  {
   "cell_type": "markdown",
   "id": "ff4deb6a",
   "metadata": {},
   "source": [
    "# How to get result/value back from function"
   ]
  },
  {
   "cell_type": "raw",
   "id": "30172ea4",
   "metadata": {},
   "source": [
    "- local variable : a variable defined inside a function is local\n",
    "\n",
    "    -Local variable can not be used outside the function body"
   ]
  },
  {
   "cell_type": "raw",
   "id": "dd9f1017",
   "metadata": {},
   "source": [
    "Global Variable: All variable defined outside functuon are global variables and can be accessed inside in outise function"
   ]
  },
  {
   "cell_type": "code",
   "execution_count": 46,
   "id": "ef25231a",
   "metadata": {},
   "outputs": [],
   "source": [
    "def calcSqaure(val):#parameterized function\n",
    "    sq = val**2 # sq is local variable\n",
    "    print(sq)   "
   ]
  },
  {
   "cell_type": "code",
   "execution_count": 48,
   "id": "52e1d5bb",
   "metadata": {},
   "outputs": [
    {
     "name": "stdout",
     "output_type": "stream",
     "text": [
      "25\n"
     ]
    }
   ],
   "source": [
    "calcSqaure(5)\n",
    "# Our function is \"printing\" the square of the given argument"
   ]
  },
  {
   "cell_type": "markdown",
   "id": "eddea24e",
   "metadata": {},
   "source": [
    "###### If we want to recover the value from function:\n",
    "    - define a global vairbble \n",
    "    - use a return keyword"
   ]
  },
  {
   "cell_type": "code",
   "execution_count": 51,
   "id": "b0924996",
   "metadata": {},
   "outputs": [],
   "source": [
    "def calcSqaure(val):#parameterized function\n",
    "    square = val**2 # sq is local variable\n",
    "    "
   ]
  },
  {
   "cell_type": "code",
   "execution_count": 52,
   "id": "b9b5d78e",
   "metadata": {},
   "outputs": [
    {
     "name": "stdout",
     "output_type": "stream",
     "text": [
      "None\n"
     ]
    }
   ],
   "source": [
    "print(calcSqaure(25))"
   ]
  },
  {
   "cell_type": "code",
   "execution_count": 54,
   "id": "7618d6e8",
   "metadata": {},
   "outputs": [
    {
     "name": "stdout",
     "output_type": "stream",
     "text": [
      "None\n"
     ]
    }
   ],
   "source": [
    "result = calcSqaure(24)\n",
    "print(result)"
   ]
  },
  {
   "cell_type": "code",
   "execution_count": 55,
   "id": "63b1be26",
   "metadata": {},
   "outputs": [],
   "source": [
    "def calcSqaure(val):#parameterized function\n",
    "    square = val**2 # sq is local variable\n",
    "    return square\n",
    "    print(\"I am after return\") # this line will never be executed"
   ]
  },
  {
   "cell_type": "code",
   "execution_count": 58,
   "id": "88b26811",
   "metadata": {},
   "outputs": [],
   "source": [
    "result = calcSqaure(3)"
   ]
  },
  {
   "cell_type": "code",
   "execution_count": 59,
   "id": "9e9681f3",
   "metadata": {},
   "outputs": [
    {
     "name": "stdout",
     "output_type": "stream",
     "text": [
      "9\n"
     ]
    }
   ],
   "source": [
    "print(result)"
   ]
  },
  {
   "cell_type": "code",
   "execution_count": 60,
   "id": "fbb3eb55",
   "metadata": {},
   "outputs": [],
   "source": [
    "def areaoftriangle(l,h):\n",
    "    area = l*h*0.5\n",
    "    return area , l , h"
   ]
  },
  {
   "cell_type": "code",
   "execution_count": 61,
   "id": "87dfa211",
   "metadata": {},
   "outputs": [],
   "source": [
    "area,l,h = areaoftriangle(5,6)"
   ]
  },
  {
   "cell_type": "code",
   "execution_count": 62,
   "id": "5cac64f9",
   "metadata": {},
   "outputs": [
    {
     "name": "stdout",
     "output_type": "stream",
     "text": [
      "The area of triangle with length 5 and height 6 is 15.0 sq.m\n"
     ]
    }
   ],
   "source": [
    "print(f\"The area of triangle with length {l} and height {h} is {area} sq.m\")"
   ]
  },
  {
   "cell_type": "code",
   "execution_count": 63,
   "id": "0b164b3a",
   "metadata": {},
   "outputs": [
    {
     "data": {
      "text/plain": [
       "(75.0, 10, 15)"
      ]
     },
     "execution_count": 63,
     "metadata": {},
     "output_type": "execute_result"
    }
   ],
   "source": [
    "a =areaoftriangle(10,15)\n",
    "a"
   ]
  },
  {
   "cell_type": "code",
   "execution_count": 64,
   "id": "fbc8b0d0",
   "metadata": {},
   "outputs": [],
   "source": [
    "area , length, width  = a "
   ]
  },
  {
   "cell_type": "code",
   "execution_count": 65,
   "id": "3663d96c",
   "metadata": {},
   "outputs": [
    {
     "data": {
      "text/plain": [
       "(103.5, 9, 23)"
      ]
     },
     "execution_count": 65,
     "metadata": {},
     "output_type": "execute_result"
    }
   ],
   "source": [
    "areaoftriangle(h=23,l=9)# keyword argument"
   ]
  },
  {
   "cell_type": "markdown",
   "id": "46e353e1",
   "metadata": {},
   "source": [
    "# Defualt Parameter"
   ]
  },
  {
   "cell_type": "code",
   "execution_count": 66,
   "id": "893a6558",
   "metadata": {},
   "outputs": [
    {
     "name": "stdout",
     "output_type": "stream",
     "text": [
      "Pakistan\n"
     ]
    }
   ],
   "source": [
    "print(\"Pakistan\")"
   ]
  },
  {
   "cell_type": "code",
   "execution_count": 78,
   "id": "ed1cf933",
   "metadata": {},
   "outputs": [],
   "source": [
    "def salaryCalculator(basic, allounces, perBonus =0):\n",
    "    gross = basic + allounces + perBonus\n",
    "    return gross"
   ]
  },
  {
   "cell_type": "code",
   "execution_count": 79,
   "id": "7c86396f",
   "metadata": {},
   "outputs": [
    {
     "data": {
      "text/plain": [
       "72000"
      ]
     },
     "execution_count": 79,
     "metadata": {},
     "output_type": "execute_result"
    }
   ],
   "source": [
    "salaryCalculator(50000, 12000,10000)"
   ]
  },
  {
   "cell_type": "code",
   "execution_count": 80,
   "id": "3960b677",
   "metadata": {},
   "outputs": [
    {
     "data": {
      "text/plain": [
       "27000"
      ]
     },
     "execution_count": 80,
     "metadata": {},
     "output_type": "execute_result"
    }
   ],
   "source": [
    "salaryCalculator(23000,4000)"
   ]
  },
  {
   "cell_type": "code",
   "execution_count": null,
   "id": "678c959c",
   "metadata": {},
   "outputs": [],
   "source": []
  },
  {
   "cell_type": "code",
   "execution_count": null,
   "id": "7039d2ff",
   "metadata": {},
   "outputs": [],
   "source": []
  },
  {
   "cell_type": "code",
   "execution_count": null,
   "id": "be63e473",
   "metadata": {},
   "outputs": [],
   "source": []
  }
 ],
 "metadata": {
  "kernelspec": {
   "display_name": "Python 3 (ipykernel)",
   "language": "python",
   "name": "python3"
  },
  "language_info": {
   "codemirror_mode": {
    "name": "ipython",
    "version": 3
   },
   "file_extension": ".py",
   "mimetype": "text/x-python",
   "name": "python",
   "nbconvert_exporter": "python",
   "pygments_lexer": "ipython3",
   "version": "3.10.4"
  }
 },
 "nbformat": 4,
 "nbformat_minor": 5
}
