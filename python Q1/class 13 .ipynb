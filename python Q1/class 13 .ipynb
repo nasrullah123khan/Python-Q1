{
 "cells": [
  {
   "cell_type": "markdown",
   "id": "533f9f91",
   "metadata": {},
   "source": [
    "# File Handling"
   ]
  },
  {
   "cell_type": "code",
   "execution_count": 22,
   "id": "508b7830",
   "metadata": {},
   "outputs": [],
   "source": [
    "f = open(\"interview.txt\",\"r\")\n",
    "# f handle (object)"
   ]
  },
  {
   "cell_type": "code",
   "execution_count": 11,
   "id": "76ab07de",
   "metadata": {},
   "outputs": [
    {
     "name": "stdout",
     "output_type": "stream",
     "text": [
      "what is your name\n",
      "my name is nasrullah\n",
      "\n",
      "how are you\n",
      "i am fine\n",
      "\n",
      "\n"
     ]
    }
   ],
   "source": [
    "print(f.read())"
   ]
  },
  {
   "cell_type": "code",
   "execution_count": 13,
   "id": "4bb13ade",
   "metadata": {},
   "outputs": [
    {
     "data": {
      "text/plain": [
       "'asrullah\\n\\nhow are you\\ni am fine\\n\\n'"
      ]
     },
     "execution_count": 13,
     "metadata": {},
     "output_type": "execute_result"
    }
   ],
   "source": [
    "f.seek(30)\n",
    "f.read()"
   ]
  },
  {
   "cell_type": "code",
   "execution_count": 15,
   "id": "6013f9c9",
   "metadata": {},
   "outputs": [
    {
     "name": "stdout",
     "output_type": "stream",
     "text": [
      "what is your name\n",
      "\n"
     ]
    }
   ],
   "source": [
    "print(f.readline())"
   ]
  },
  {
   "cell_type": "code",
   "execution_count": 17,
   "id": "663eef18",
   "metadata": {},
   "outputs": [
    {
     "name": "stdout",
     "output_type": "stream",
     "text": [
      "['what is your name\\n', 'my name is nasrullah\\n', '\\n', 'how are you\\n', 'i am fine\\n', '\\n']\n"
     ]
    }
   ],
   "source": [
    "print(f.readlines())"
   ]
  },
  {
   "cell_type": "code",
   "execution_count": 23,
   "id": "073cd54c",
   "metadata": {},
   "outputs": [
    {
     "name": "stdout",
     "output_type": "stream",
     "text": [
      "what is your name\n",
      "\n",
      "my name is nasrullah\n",
      "\n",
      "\n",
      "\n",
      "how are you\n",
      "\n",
      "i am fine\n",
      "\n",
      "\n",
      "\n"
     ]
    }
   ],
   "source": [
    "for i in f.readlines():\n",
    "    print(i)"
   ]
  },
  {
   "cell_type": "code",
   "execution_count": 24,
   "id": "16dbf210",
   "metadata": {},
   "outputs": [
    {
     "name": "stdout",
     "output_type": "stream",
     "text": [
      "what is your name\n",
      "\n",
      "my name is nasrullah\n",
      "\n",
      "\n",
      "\n",
      "how are you\n",
      "\n",
      "i am fine\n",
      "\n",
      "\n",
      "\n"
     ]
    }
   ],
   "source": [
    "file = open(\"interview.txt\",'r')\n",
    "lines = file.readlines()\n",
    "\n",
    "for line in lines:\n",
    "    print(line)"
   ]
  },
  {
   "cell_type": "code",
   "execution_count": 25,
   "id": "461664f2",
   "metadata": {},
   "outputs": [],
   "source": [
    "file = open(\"interview.txt\",\"r\")"
   ]
  },
  {
   "cell_type": "markdown",
   "id": "625fb48c",
   "metadata": {},
   "source": [
    "# Context Manager"
   ]
  },
  {
   "cell_type": "code",
   "execution_count": 26,
   "id": "22273e71",
   "metadata": {},
   "outputs": [
    {
     "name": "stdout",
     "output_type": "stream",
     "text": [
      "what is your name\n",
      "my name is nasrullah\n",
      "\n",
      "how are you\n",
      "i am fine\n",
      "\n",
      "\n"
     ]
    }
   ],
   "source": [
    "with open(\"interview.txt\",\"r\") as file:\n",
    "    data = file.read()\n",
    "    print(data)\n"
   ]
  },
  {
   "cell_type": "code",
   "execution_count": 27,
   "id": "caf34159",
   "metadata": {},
   "outputs": [],
   "source": [
    "with open(\"interview.txt\",\"w\") as f:\n",
    "    f.write(\"Q: Is your last class\")\n",
    "    f.write(\"A: May be it is\")\n",
    "\n",
    "# writing in an existing file will overwrite the previous text.\n"
   ]
  },
  {
   "cell_type": "code",
   "execution_count": 33,
   "id": "a1a05eab",
   "metadata": {},
   "outputs": [],
   "source": [
    "lst = [\"what is your name\" , \"what is your father name\",\"my name is nasrullah\",\" my father name is makhawar khan\"]"
   ]
  },
  {
   "cell_type": "code",
   "execution_count": 35,
   "id": "e6cb000f",
   "metadata": {},
   "outputs": [],
   "source": [
    "with open(\"lastclass.txt\",\"w\") as f:\n",
    "    f.write(\"Good bye and Good luck\")\n",
    "    f.writelines(lst)"
   ]
  },
  {
   "cell_type": "code",
   "execution_count": 36,
   "id": "240920b5",
   "metadata": {},
   "outputs": [],
   "source": [
    "with open(\"class.txt\",\"w\") as file:\n",
    "    file.writelines('Hello i am nasrullah')"
   ]
  },
  {
   "cell_type": "code",
   "execution_count": 55,
   "id": "ce08355a",
   "metadata": {},
   "outputs": [],
   "source": [
    "with open(\"data.txt\",'r+') as d:\n",
    "    a = d.read()\n",
    "    mylist =  a.split('.')\n",
    "#     print(mylist)\n",
    "    \n",
    "    for i in mylist:\n",
    "        d.write(i+'\\n\\n')\n"
   ]
  },
  {
   "cell_type": "code",
   "execution_count": 60,
   "id": "b533dbf5",
   "metadata": {},
   "outputs": [
    {
     "name": "stdout",
     "output_type": "stream",
     "text": [
      "[['Year  ', 'Event', ' Winner'], ['1995', 'Best-Kept Lawn', 'None'], ['1999', 'Football', 'Shahzad'], ['2005', 'Worldcup', 'Usman']]\n"
     ]
    }
   ],
   "source": [
    "import csv\n",
    "arr = []\n",
    "with open(\"competetion.csv\",\"r\") as f:\n",
    "    content = csv.reader(f)\n",
    "    for cont in content:\n",
    "        arr.append(cont)\n",
    "print(arr)"
   ]
  },
  {
   "cell_type": "code",
   "execution_count": null,
   "id": "8a8c6027",
   "metadata": {},
   "outputs": [],
   "source": []
  }
 ],
 "metadata": {
  "kernelspec": {
   "display_name": "Python 3 (ipykernel)",
   "language": "python",
   "name": "python3"
  },
  "language_info": {
   "codemirror_mode": {
    "name": "ipython",
    "version": 3
   },
   "file_extension": ".py",
   "mimetype": "text/x-python",
   "name": "python",
   "nbconvert_exporter": "python",
   "pygments_lexer": "ipython3",
   "version": "3.10.4"
  }
 },
 "nbformat": 4,
 "nbformat_minor": 5
}
