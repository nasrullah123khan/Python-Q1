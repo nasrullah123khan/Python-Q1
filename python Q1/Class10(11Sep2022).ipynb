{
 "cells": [
  {
   "cell_type": "markdown",
   "id": "53bcea16",
   "metadata": {},
   "source": [
    "# Inheritance"
   ]
  },
  {
   "cell_type": "raw",
   "id": "e5b4e849",
   "metadata": {},
   "source": [
    "- Types of Inheritance\n",
    "    - Single \n",
    "    - Multilevel \n",
    "    - Multiple \n",
    "    "
   ]
  },
  {
   "cell_type": "code",
   "execution_count": 39,
   "id": "e20cc622",
   "metadata": {},
   "outputs": [],
   "source": [
    "class Car():\n",
    "    def __init__(self, brand,model,transmission,engine):\n",
    "        self.car_brand = brand\n",
    "        self.car_model = model\n",
    "        self.car_transmission = transmission\n",
    "        self.car_engine = engine \n",
    "        \n",
    "    def start(self):\n",
    "        print(f\"{self.car_brand},{self.car_model},{self.car_transmission},{self.car_engine}is running\")\n",
    "    \n",
    "    def stop(self):\n",
    "        print(f\"{self.car_brand},{self.car_model},{self.car_transmission},{self.car_engine}is stopped\")\n",
    "    \n",
    "    def fueltank(self):\n",
    "        print(f\"{self.car_brand},{self.car_model},{self.car_transmission},{self.car_engine} filling fueltank\")"
   ]
  },
  {
   "cell_type": "code",
   "execution_count": 40,
   "id": "5ef9302d",
   "metadata": {},
   "outputs": [],
   "source": [
    "car1 = Car(\"Honda\",\"City\",\"CVT\", '1600CC')"
   ]
  },
  {
   "cell_type": "code",
   "execution_count": 41,
   "id": "66e7abd0",
   "metadata": {},
   "outputs": [
    {
     "name": "stdout",
     "output_type": "stream",
     "text": [
      "Honda,City,CVT,1600CCis running\n"
     ]
    }
   ],
   "source": [
    "car1.start()"
   ]
  },
  {
   "cell_type": "code",
   "execution_count": 42,
   "id": "348684f5",
   "metadata": {},
   "outputs": [
    {
     "name": "stdout",
     "output_type": "stream",
     "text": [
      "Honda,City,CVT,1600CCis stopped\n"
     ]
    }
   ],
   "source": [
    "car1.stop()"
   ]
  },
  {
   "cell_type": "code",
   "execution_count": 43,
   "id": "e96d2f09",
   "metadata": {},
   "outputs": [
    {
     "name": "stdout",
     "output_type": "stream",
     "text": [
      "Honda,City,CVT,1600CC filling fueltank\n"
     ]
    }
   ],
   "source": [
    "car1.fueltank()"
   ]
  },
  {
   "cell_type": "code",
   "execution_count": 44,
   "id": "1d680bca",
   "metadata": {},
   "outputs": [],
   "source": [
    "class SportsCar():\n",
    "    def __init__(self,brand,model, transmission,engine,topSpeed, seats):\n",
    "        self.car_brand=brand\n",
    "        self.car_model = model\n",
    "        self.car_transmission = transmission\n",
    "        self.car_engine =engine\n",
    "        self.car_topSpeed = topSpeed\n",
    "        self.car_seats = seats\n",
    "    \n",
    "    def start(self):\n",
    "        print(f\"{self.car_brand},{self.car_model},{self.car_transmission},{self.car_engine}is running\")\n",
    "    \n",
    "    \n",
    "    def stop(self):\n",
    "        print(f\"{self.car_brand},{self.car_model},{self.car_transmission},{self.car_engine}is stopped\")\n",
    "    \n",
    "    \n",
    "    def fueltank(self):\n",
    "        print(f\"{self.car_brand},{self.car_model},{self.car_transmission},{self.car_engine} filling fueltank\")\n",
    "        \n",
    "    \n",
    "    def currentSpeed(self):\n",
    "        print(\"Car is running at highest speed\")"
   ]
  },
  {
   "cell_type": "code",
   "execution_count": 45,
   "id": "50e20f32",
   "metadata": {},
   "outputs": [],
   "source": [
    "sc1 = SportsCar(\"HondaSportCar\",2020, \"Auto\", \"3000CC\",\"500km/h\",1)"
   ]
  },
  {
   "cell_type": "code",
   "execution_count": 46,
   "id": "648a567b",
   "metadata": {},
   "outputs": [
    {
     "name": "stdout",
     "output_type": "stream",
     "text": [
      "HondaSportCar,2020,Auto,3000CCis running\n"
     ]
    }
   ],
   "source": [
    "sc1.start() "
   ]
  },
  {
   "cell_type": "code",
   "execution_count": 47,
   "id": "21d7ac22",
   "metadata": {},
   "outputs": [
    {
     "name": "stdout",
     "output_type": "stream",
     "text": [
      "HondaSportCar,2020,Auto,3000CCis stopped\n"
     ]
    }
   ],
   "source": [
    "sc1.stop()"
   ]
  },
  {
   "cell_type": "code",
   "execution_count": 48,
   "id": "9a500adf",
   "metadata": {},
   "outputs": [
    {
     "name": "stdout",
     "output_type": "stream",
     "text": [
      "HondaSportCar,2020,Auto,3000CC filling fueltank\n"
     ]
    }
   ],
   "source": [
    "sc1.fueltank()"
   ]
  },
  {
   "cell_type": "code",
   "execution_count": 49,
   "id": "075b0e25",
   "metadata": {},
   "outputs": [
    {
     "name": "stdout",
     "output_type": "stream",
     "text": [
      "Car is running at highest speed\n"
     ]
    }
   ],
   "source": [
    "sc1.currentSpeed()"
   ]
  },
  {
   "cell_type": "code",
   "execution_count": 55,
   "id": "3ba3276f",
   "metadata": {},
   "outputs": [],
   "source": [
    "class SportsCar(Car):\n",
    "    def __init__(self,brand,model, transmission,engine,topSpeed, seats):\n",
    "        \n",
    "        super().__init__(brand,model,transmission,engine)\n",
    "        \n",
    "        self.car_topSpeed = topSpeed\n",
    "        self.car_seats = seats\n",
    "           \n",
    "    def currentSpeed(self):\n",
    "        print(f\"Car is running at highest speed {self.car_topSpeed} with {self.car_seats}\")\n",
    "    "
   ]
  },
  {
   "cell_type": "code",
   "execution_count": 56,
   "id": "b1e4b67d",
   "metadata": {},
   "outputs": [],
   "source": [
    "sc2 = SportsCar(\"Sporty\",\"2022\",\"Auto\",\"3000CC\",\"500km/h\",2)"
   ]
  },
  {
   "cell_type": "code",
   "execution_count": 57,
   "id": "481c3c08",
   "metadata": {},
   "outputs": [
    {
     "name": "stdout",
     "output_type": "stream",
     "text": [
      "Sporty,2022,Auto,3000CCis stopped\n"
     ]
    }
   ],
   "source": [
    "sc2.stop()"
   ]
  },
  {
   "cell_type": "code",
   "execution_count": 58,
   "id": "2f941871",
   "metadata": {},
   "outputs": [
    {
     "name": "stdout",
     "output_type": "stream",
     "text": [
      "Sporty,2022,Auto,3000CCis running\n"
     ]
    }
   ],
   "source": [
    "sc2.start()"
   ]
  },
  {
   "cell_type": "code",
   "execution_count": 59,
   "id": "b8606990",
   "metadata": {},
   "outputs": [
    {
     "name": "stdout",
     "output_type": "stream",
     "text": [
      "Car is running at highest speed 500km/h with 2\n"
     ]
    }
   ],
   "source": [
    "sc2.currentSpeed()"
   ]
  },
  {
   "cell_type": "markdown",
   "id": "90743fe4",
   "metadata": {},
   "source": [
    "# Ploymorphism"
   ]
  },
  {
   "cell_type": "code",
   "execution_count": 63,
   "id": "fa75707c",
   "metadata": {},
   "outputs": [],
   "source": [
    "def abc():\n",
    "    print(\"ABC\")\n",
    "def abc(value):\n",
    "    print(value)\n",
    "#two methods with same name butdifferent parameters in a class called as method overloading\n",
    "# but but but python doesnt support method overloading"
   ]
  },
  {
   "cell_type": "code",
   "execution_count": 67,
   "id": "e1c00a75",
   "metadata": {},
   "outputs": [
    {
     "data": {
      "text/plain": [
       "5"
      ]
     },
     "execution_count": 67,
     "metadata": {},
     "output_type": "execute_result"
    }
   ],
   "source": [
    "2+3"
   ]
  },
  {
   "cell_type": "code",
   "execution_count": 68,
   "id": "dd9d7790",
   "metadata": {},
   "outputs": [
    {
     "data": {
      "text/plain": [
       "'PakistanZindabad'"
      ]
     },
     "execution_count": 68,
     "metadata": {},
     "output_type": "execute_result"
    }
   ],
   "source": [
    "\"Pakistan\" + \"Zindabad\""
   ]
  },
  {
   "cell_type": "code",
   "execution_count": 64,
   "id": "6046654f",
   "metadata": {},
   "outputs": [
    {
     "name": "stdout",
     "output_type": "stream",
     "text": [
      "ABC\n"
     ]
    }
   ],
   "source": [
    "abc()"
   ]
  },
  {
   "cell_type": "code",
   "execution_count": 65,
   "id": "ff47df1a",
   "metadata": {},
   "outputs": [],
   "source": [
    "def abc(value):\n",
    "    print(value)"
   ]
  },
  {
   "cell_type": "code",
   "execution_count": 66,
   "id": "d29ec30d",
   "metadata": {},
   "outputs": [
    {
     "ename": "TypeError",
     "evalue": "abc() missing 1 required positional argument: 'value'",
     "output_type": "error",
     "traceback": [
      "\u001b[1;31m---------------------------------------\u001b[0m",
      "\u001b[1;31mTypeError\u001b[0mTraceback (most recent call last)",
      "\u001b[1;32m<ipython-input-66-79c8afb7007d>\u001b[0m in \u001b[0;36m<module>\u001b[1;34m\u001b[0m\n\u001b[1;32m----> 1\u001b[1;33m \u001b[0mabc\u001b[0m\u001b[1;33m(\u001b[0m\u001b[1;33m)\u001b[0m\u001b[1;33m\u001b[0m\u001b[1;33m\u001b[0m\u001b[0m\n\u001b[0m",
      "\u001b[1;31mTypeError\u001b[0m: abc() missing 1 required positional argument: 'value'"
     ]
    }
   ],
   "source": [
    "abc()"
   ]
  },
  {
   "cell_type": "code",
   "execution_count": 84,
   "id": "da746064",
   "metadata": {},
   "outputs": [],
   "source": [
    "class ElectricCar(Car):\n",
    "    def __init__(self,brand,model,transmission,engine,battery):\n",
    "        self.battery = battery\n",
    "        super().__init__(brand,model,transmission,engine)\n",
    "        \n",
    "    def chargeBattery(self):\n",
    "        print(\"Battery is being charged\")    \n",
    "    \n",
    "    def fueltank(self):\n",
    "        print(\"Electric car has no fuel tank\")"
   ]
  },
  {
   "cell_type": "code",
   "execution_count": 78,
   "id": "c63d03c6",
   "metadata": {},
   "outputs": [],
   "source": [
    "ec1 = ElectricCar(\"Tesla\",\"22\",'Auto','600CC',\"EXIDE\")"
   ]
  },
  {
   "cell_type": "code",
   "execution_count": 79,
   "id": "8a4ffe76",
   "metadata": {},
   "outputs": [
    {
     "data": {
      "text/plain": [
       "'EXIDE'"
      ]
     },
     "execution_count": 79,
     "metadata": {},
     "output_type": "execute_result"
    }
   ],
   "source": [
    "ec1.battery"
   ]
  },
  {
   "cell_type": "code",
   "execution_count": 80,
   "id": "135ac85c",
   "metadata": {},
   "outputs": [
    {
     "name": "stdout",
     "output_type": "stream",
     "text": [
      "Tesla,22,Auto,600CCis running\n"
     ]
    }
   ],
   "source": [
    "ec1.start()"
   ]
  },
  {
   "cell_type": "code",
   "execution_count": 81,
   "id": "ece1936d",
   "metadata": {},
   "outputs": [
    {
     "name": "stdout",
     "output_type": "stream",
     "text": [
      "Tesla,22,Auto,600CCis stopped\n"
     ]
    }
   ],
   "source": [
    "ec1.stop()"
   ]
  },
  {
   "cell_type": "code",
   "execution_count": 82,
   "id": "961eac58",
   "metadata": {},
   "outputs": [
    {
     "name": "stdout",
     "output_type": "stream",
     "text": [
      "Battery is being charged\n"
     ]
    }
   ],
   "source": [
    "ec1.chargeBattery()"
   ]
  },
  {
   "cell_type": "code",
   "execution_count": 83,
   "id": "6887f054",
   "metadata": {},
   "outputs": [
    {
     "name": "stdout",
     "output_type": "stream",
     "text": [
      "Electric car has no fuel tank\n"
     ]
    }
   ],
   "source": [
    "ec1.fueltank()"
   ]
  },
  {
   "cell_type": "markdown",
   "id": "8dceb1b9",
   "metadata": {},
   "source": [
    "# Encapsulation"
   ]
  },
  {
   "cell_type": "code",
   "execution_count": 85,
   "id": "906f4f58",
   "metadata": {},
   "outputs": [
    {
     "data": {
      "text/plain": [
       "'600CC'"
      ]
     },
     "execution_count": 85,
     "metadata": {},
     "output_type": "execute_result"
    }
   ],
   "source": [
    "ec1.car_engine"
   ]
  },
  {
   "cell_type": "code",
   "execution_count": 86,
   "id": "275dd996",
   "metadata": {},
   "outputs": [
    {
     "data": {
      "text/plain": [
       "'Auto'"
      ]
     },
     "execution_count": 86,
     "metadata": {},
     "output_type": "execute_result"
    }
   ],
   "source": [
    "ec1.car_transmission"
   ]
  },
  {
   "cell_type": "code",
   "execution_count": 87,
   "id": "1ea07411",
   "metadata": {},
   "outputs": [],
   "source": [
    "ec1.car_engine = \"1000CC\""
   ]
  },
  {
   "cell_type": "code",
   "execution_count": 88,
   "id": "8e9adbb2",
   "metadata": {},
   "outputs": [
    {
     "data": {
      "text/plain": [
       "'1000CC'"
      ]
     },
     "execution_count": 88,
     "metadata": {},
     "output_type": "execute_result"
    }
   ],
   "source": [
    "ec1.car_engine"
   ]
  },
  {
   "cell_type": "code",
   "execution_count": 96,
   "id": "26d08a5c",
   "metadata": {},
   "outputs": [],
   "source": [
    "class ElectricCar(Car):\n",
    "    def __init__(self,brand,model,transmission,engine,battery):\n",
    "        self.battery = battery\n",
    "        super().__init__(brand,model,transmission,engine)\n",
    "        \n",
    "    def chargeBattery(self):\n",
    "        print(\"Battery is being charged\")    \n",
    "    \n",
    "    def fueltank(self):\n",
    "        print(\"Electric car has no fuel tank\")\n",
    "        \n",
    "    def getBattery(self):\n",
    "        print(f\"Installed battery in car is {self.battery}\")\n",
    "    \n",
    "    def setBattery(self,newBattery):\n",
    "        self.battery = newBattery\n",
    "        "
   ]
  },
  {
   "cell_type": "code",
   "execution_count": 97,
   "id": "3bc2d428",
   "metadata": {},
   "outputs": [],
   "source": [
    "ec2 = ElectricCar(\"MG\",\"22\",'Auto','600CC',\"AGS\")"
   ]
  },
  {
   "cell_type": "code",
   "execution_count": 98,
   "id": "4f463027",
   "metadata": {},
   "outputs": [
    {
     "name": "stdout",
     "output_type": "stream",
     "text": [
      "Installed battery in car is AGS\n"
     ]
    }
   ],
   "source": [
    "ec2.getBattery()"
   ]
  },
  {
   "cell_type": "code",
   "execution_count": 99,
   "id": "7d9b8096",
   "metadata": {},
   "outputs": [],
   "source": [
    "ec2.setBattery(\"Atlas\") "
   ]
  },
  {
   "cell_type": "code",
   "execution_count": 100,
   "id": "13e9fb4a",
   "metadata": {},
   "outputs": [
    {
     "name": "stdout",
     "output_type": "stream",
     "text": [
      "Installed battery in car is Atlas\n"
     ]
    }
   ],
   "source": [
    "ec2.getBattery()"
   ]
  },
  {
   "cell_type": "code",
   "execution_count": 127,
   "id": "c124c442",
   "metadata": {},
   "outputs": [],
   "source": [
    "class Student():\n",
    "    def __init__(self,roll,name,course,institute):\n",
    "        self.roll =roll\n",
    "        self.name = name\n",
    "        self.course = course\n",
    "        self.institute = institute\n",
    "    \n",
    "    def getroll(self):\n",
    "        print(f\"Students roll num is {self.roll}\")\n",
    "    \n",
    "    def setroll(self,newRoll):\n",
    "        print(\"Roll number cannot be changed\")\n",
    "    def getname(self):\n",
    "        print(f\"Students roll num is {self.name}\")\n",
    "    \n",
    "    def setname(self,newName):\n",
    "        print(\"Name cannot be changed\")    \n",
    "        \n",
    "    def getrcourse(self):\n",
    "        print(f\"Students course is {self.course}\")\n",
    "    \n",
    "    def setcourse(self,newCourse):\n",
    "        course = ['ai',\"iot\",\"bcc\",\"metverse\", \"cloudcomp\"]\n",
    "        if newCourse in course:\n",
    "            self.course = newCourse\n",
    "        else:\n",
    "            print(\"Applied course is not avialable\")"
   ]
  },
  {
   "cell_type": "code",
   "execution_count": 128,
   "id": "ba7b5cb1",
   "metadata": {},
   "outputs": [],
   "source": [
    "s1 = Student(111,'Asad', \"AI\",\"PIAIC\")"
   ]
  },
  {
   "cell_type": "code",
   "execution_count": 129,
   "id": "c79a6e2a",
   "metadata": {},
   "outputs": [
    {
     "name": "stdout",
     "output_type": "stream",
     "text": [
      "Students roll num is 111\n"
     ]
    }
   ],
   "source": [
    "s1.getroll()"
   ]
  },
  {
   "cell_type": "code",
   "execution_count": 130,
   "id": "bc580365",
   "metadata": {},
   "outputs": [
    {
     "name": "stdout",
     "output_type": "stream",
     "text": [
      "Roll number cannot be changed\n"
     ]
    }
   ],
   "source": [
    "s1.setroll(2222)"
   ]
  },
  {
   "cell_type": "code",
   "execution_count": 131,
   "id": "a526cb89",
   "metadata": {},
   "outputs": [
    {
     "name": "stdout",
     "output_type": "stream",
     "text": [
      "Students roll num is 111\n"
     ]
    }
   ],
   "source": [
    "s1.getroll()"
   ]
  },
  {
   "cell_type": "code",
   "execution_count": 132,
   "id": "fd456ee0",
   "metadata": {},
   "outputs": [
    {
     "name": "stdout",
     "output_type": "stream",
     "text": [
      "Students roll num is AI\n"
     ]
    }
   ],
   "source": [
    "s1.getrcourse()"
   ]
  },
  {
   "cell_type": "code",
   "execution_count": 133,
   "id": "85b8c960",
   "metadata": {},
   "outputs": [
    {
     "name": "stdout",
     "output_type": "stream",
     "text": [
      "Applied course is not avialable\n"
     ]
    }
   ],
   "source": [
    "s1.setcourse(\"DevOps\")"
   ]
  },
  {
   "cell_type": "code",
   "execution_count": 134,
   "id": "58bdaa6f",
   "metadata": {},
   "outputs": [],
   "source": [
    "s1.setcourse('iot')"
   ]
  },
  {
   "cell_type": "code",
   "execution_count": 135,
   "id": "2ee29e83",
   "metadata": {},
   "outputs": [
    {
     "name": "stdout",
     "output_type": "stream",
     "text": [
      "Students roll num is iot\n"
     ]
    }
   ],
   "source": [
    "s1.getrcourse()"
   ]
  },
  {
   "cell_type": "markdown",
   "id": "be673723",
   "metadata": {},
   "source": [
    "# How to make a \".py\" file in jupyter \n",
    " - we will not require t"
   ]
  },
  {
   "cell_type": "code",
   "execution_count": 2,
   "id": "7f5fefe6",
   "metadata": {},
   "outputs": [
    {
     "name": "stdout",
     "output_type": "stream",
     "text": [
      "Writing test.py\n"
     ]
    }
   ],
   "source": [
    "%%writefile test.py\n",
    "def abc():\n",
    "    print(\"Hello\")"
   ]
  },
  {
   "cell_type": "code",
   "execution_count": 4,
   "id": "6d48227f",
   "metadata": {},
   "outputs": [],
   "source": [
    "import test"
   ]
  },
  {
   "cell_type": "code",
   "execution_count": 5,
   "id": "dfd4c512",
   "metadata": {},
   "outputs": [
    {
     "name": "stdout",
     "output_type": "stream",
     "text": [
      "Hello\n"
     ]
    }
   ],
   "source": [
    "test.abc()"
   ]
  },
  {
   "cell_type": "code",
   "execution_count": null,
   "id": "af3315cd",
   "metadata": {},
   "outputs": [],
   "source": []
  }
 ],
 "metadata": {
  "kernelspec": {
   "display_name": "Python 3",
   "language": "python",
   "name": "python3"
  },
  "language_info": {
   "codemirror_mode": {
    "name": "ipython",
    "version": 3
   },
   "file_extension": ".py",
   "mimetype": "text/x-python",
   "name": "python",
   "nbconvert_exporter": "python",
   "pygments_lexer": "ipython3",
   "version": "3.7.4"
  }
 },
 "nbformat": 4,
 "nbformat_minor": 5
}
