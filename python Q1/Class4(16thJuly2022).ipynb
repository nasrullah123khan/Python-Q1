{
 "cells": [
  {
   "cell_type": "markdown",
   "id": "0865dd71",
   "metadata": {},
   "source": [
    "# IF Clause\n",
    "   - if statement\n",
    "   - if esle\n",
    "   - elif\n",
    "   - multiple if's\n",
    "   - nested if's"
   ]
  },
  {
   "cell_type": "code",
   "execution_count": 6,
   "id": "e7a2b302",
   "metadata": {},
   "outputs": [
    {
     "name": "stdout",
     "output_type": "stream",
     "text": [
      "is it raining outside yes/nohuasas\n",
      "Class On time\n"
     ]
    }
   ],
   "source": [
    "status= None\n",
    "isRaining = input(\"is it raining outside yes/no\") \n",
    "\n",
    "if (isRaining =='yes'):  \n",
    "    status = 'Cancel'     \n",
    "else:\n",
    "    status = \"On time\"    \n",
    "    \n",
    "print(f\"Class {status}\")"
   ]
  },
  {
   "cell_type": "code",
   "execution_count": 2,
   "id": "48da7608",
   "metadata": {},
   "outputs": [
    {
     "data": {
      "text/plain": [
       "'Cancel'"
      ]
     },
     "execution_count": 2,
     "metadata": {},
     "output_type": "execute_result"
    }
   ],
   "source": [
    "status"
   ]
  },
  {
   "cell_type": "code",
   "execution_count": 8,
   "id": "bc44d40d",
   "metadata": {},
   "outputs": [
    {
     "name": "stdout",
     "output_type": "stream",
     "text": [
      "Enter your marks78\n",
      "You are Pass \n"
     ]
    }
   ],
   "source": [
    "result = None\n",
    "\n",
    "marks = int(input(\"Enter your marks\"))\n",
    "\n",
    "if (marks >=70):\n",
    "    result = \"Pass\"\n",
    "else:\n",
    "    result=\"Fail\"\n",
    "\n",
    "print(f\"You are {result} \")"
   ]
  },
  {
   "cell_type": "markdown",
   "id": "7d6ab0d3",
   "metadata": {},
   "source": [
    "# Nested if clauses"
   ]
  },
  {
   "cell_type": "code",
   "execution_count": 2,
   "id": "580c4edc",
   "metadata": {},
   "outputs": [],
   "source": [
    "user_id = \"aghanhussain\"\n",
    "password = \"abcd1234\""
   ]
  },
  {
   "cell_type": "code",
   "execution_count": 6,
   "id": "108abd49",
   "metadata": {},
   "outputs": [
    {
     "name": "stdout",
     "output_type": "stream",
     "text": [
      "enter your idaghanhussain\n",
      "enter your password1234abcd\n",
      "Not Allowed\n"
     ]
    }
   ],
   "source": [
    "login_status=None\n",
    "uid = input(\"enter your id\") \n",
    "if user_id==uid:\n",
    "    pwd = input(\"enter your password\")\n",
    "    if password==pwd:\n",
    "        login_status = \"You are welcome\"\n",
    "    else:\n",
    "        login_status = \"Not Allowed\"\n",
    "else:\n",
    "    login_status = \"Not Allowed\"\n",
    "print(login_status)"
   ]
  },
  {
   "cell_type": "code",
   "execution_count": 15,
   "id": "7476e8f4",
   "metadata": {},
   "outputs": [
    {
     "name": "stdout",
     "output_type": "stream",
     "text": [
      "Enter your required brandpolo\n",
      "Enter colorred\n",
      "Enter your shirt sizem\n",
      "Enter your price1200\n",
      "Out of budget\n",
      "you have bought Nothing \n"
     ]
    }
   ],
   "source": [
    "cart = None\n",
    "brand = input(\"Enter your required brand\").lower()\n",
    "if brand == \"polo\":\n",
    "    color = input(\"Enter color\").lower()\n",
    "    if color == \"red\":\n",
    "        size = input(\"Enter your shirt size\").upper()\n",
    "        if size == \"M\":\n",
    "            price = int(input(\"Enter your price\"))\n",
    "            if price <1000:\n",
    "                cart = \"Red Polo Medium Size Shirt\"\n",
    "            else:\n",
    "                print(\"Out of budget\")\n",
    "                cart = 'Nothing'\n",
    "        else:\n",
    "            print(\"size not available\")\n",
    "            cart = 'Nothing'\n",
    "    else:\n",
    "        print(\"Color not available\")\n",
    "        cart = 'Nothing'\n",
    "else:\n",
    "    print(\"Brand not available\")\n",
    "    cart = 'Nothing'\n",
    "print(f\"you have bought {cart} \")    "
   ]
  },
  {
   "cell_type": "markdown",
   "id": "85eb1857",
   "metadata": {},
   "source": [
    "##### Nested if's are similar to and operator"
   ]
  },
  {
   "cell_type": "code",
   "execution_count": 18,
   "id": "590404f5",
   "metadata": {},
   "outputs": [
    {
     "name": "stdout",
     "output_type": "stream",
     "text": [
      "Enter your required brandsndnf\n",
      "Enter colorred\n",
      "Enter your shirt sizeM\n",
      "Enter your price678\n",
      "you have bought Nothing \n"
     ]
    }
   ],
   "source": [
    "brand = input(\"Enter your required brand\").lower()\n",
    "color = input(\"Enter color\").lower()\n",
    "size = input(\"Enter your shirt size\").upper()\n",
    "price = int(input(\"Enter your price\"))\n",
    "\n",
    "if ( (brand==\"polo\") and (color=='red') and (size=='M') and (price <=1000) ):\n",
    "    cart = \"Red Polo Medium Size Shirt\"\n",
    "else:\n",
    "    cart = \"Nothing\"\n",
    "    \n",
    "print(f\"you have bought {cart} \")"
   ]
  },
  {
   "cell_type": "markdown",
   "id": "ecbe0a5b",
   "metadata": {},
   "source": [
    "# Multiple if's"
   ]
  },
  {
   "cell_type": "code",
   "execution_count": 20,
   "id": "8fea92fd",
   "metadata": {},
   "outputs": [
    {
     "name": "stdout",
     "output_type": "stream",
     "text": [
      "Enter marks in python78\n",
      "Enter marks in java75\n",
      "Enter marks in c85\n",
      "Enter marks in go96\n",
      "Enter marks in js45\n",
      "\n",
      "      Result Card\n",
      "      ===========\n",
      "      \n",
      "      Total Marks: 379\n",
      "      Percentage : 75.8\n",
      "      Grade      : B\n",
      "      \n"
     ]
    }
   ],
   "source": [
    "grade = None\n",
    "python = int(input(\"Enter marks in python\"))\n",
    "java = int(input(\"Enter marks in java\"))\n",
    "c = int(input(\"Enter marks in c\"))\n",
    "go = int(input(\"Enter marks in go\"))\n",
    "js = int(input(\"Enter marks in js\"))\n",
    "\n",
    "tot_obt = python + java + c + go + js\n",
    "perc  = tot_obt / 500 *100\n",
    "\n",
    "if perc >=90:\n",
    "    grade = \"A*\"\n",
    "elif perc >=80:\n",
    "    grade = \"A\"\n",
    "elif perc >=70:\n",
    "    grade = \"B\"\n",
    "elif perc >=60:\n",
    "    grade = \"C\"\n",
    "else:\n",
    "    grade = \"U\"\n",
    "print(f\"\"\"\n",
    "      Result Card\n",
    "      ===========\n",
    "      \n",
    "      Total Marks: {tot_obt}\n",
    "      Percentage : {perc}\n",
    "      Grade      : {grade}\n",
    "      \"\"\")"
   ]
  },
  {
   "cell_type": "code",
   "execution_count": null,
   "id": "8812990d",
   "metadata": {},
   "outputs": [],
   "source": []
  }
 ],
 "metadata": {
  "kernelspec": {
   "display_name": "Python 3 (ipykernel)",
   "language": "python",
   "name": "python3"
  },
  "language_info": {
   "codemirror_mode": {
    "name": "ipython",
    "version": 3
   },
   "file_extension": ".py",
   "mimetype": "text/x-python",
   "name": "python",
   "nbconvert_exporter": "python",
   "pygments_lexer": "ipython3",
   "version": "3.10.4"
  }
 },
 "nbformat": 4,
 "nbformat_minor": 5
}
