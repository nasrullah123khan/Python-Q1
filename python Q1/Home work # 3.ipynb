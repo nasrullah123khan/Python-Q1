{
 "cells": [
  {
   "cell_type": "markdown",
   "id": "e40ca090",
   "metadata": {},
   "source": [
    "# IF Clause\n",
    "- if statement\n",
    "- if esle\n",
    "- elif\n",
    "- multiple if's\n",
    "- nested if's"
   ]
  },
  {
   "cell_type": "code",
   "execution_count": 2,
   "id": "b59c724e",
   "metadata": {},
   "outputs": [
    {
     "name": "stdout",
     "output_type": "stream",
     "text": [
      "is it raining outside yes/no: no\n",
      "Class On Time\n"
     ]
    }
   ],
   "source": [
    "status = None\n",
    "isRaining = input(\"is it raining outside yes/no: \")\n",
    "if (isRaining == 'yes'):\n",
    "        status = 'Cancel'\n",
    "else:\n",
    "    status = 'On Time'\n",
    "\n",
    "print(f\"Class {status}\")"
   ]
  },
  {
   "cell_type": "code",
   "execution_count": 7,
   "id": "427c66b5",
   "metadata": {},
   "outputs": [
    {
     "data": {
      "text/plain": [
       "'On Time'"
      ]
     },
     "execution_count": 7,
     "metadata": {},
     "output_type": "execute_result"
    }
   ],
   "source": [
    "status"
   ]
  },
  {
   "cell_type": "code",
   "execution_count": 9,
   "id": "df884479",
   "metadata": {},
   "outputs": [
    {
     "name": "stdout",
     "output_type": "stream",
     "text": [
      "Enter your Marks: 66\n",
      "You are Fail\n"
     ]
    }
   ],
   "source": [
    "result = None\n",
    "marks = int(input(\"Enter your Marks: \"))\n",
    "\n",
    "if(marks >= 70):\n",
    "    result = 'Pass'\n",
    "else:\n",
    "    result = 'Fail'\n",
    "    \n",
    "print(f\"You are {result}\")"
   ]
  },
  {
   "cell_type": "code",
   "execution_count": 10,
   "id": "1e06e511",
   "metadata": {},
   "outputs": [],
   "source": [
    "user_id = \"Nasrullah@gmail.com\"\n",
    "password = \"abcd1234\""
   ]
  },
  {
   "cell_type": "code",
   "execution_count": 13,
   "id": "134d734e",
   "metadata": {},
   "outputs": [
    {
     "name": "stdout",
     "output_type": "stream",
     "text": [
      "Enter your ID: Nasrullah@gmail.com\n",
      "Enter Passwordkaad\n",
      "Not Allowed\n"
     ]
    }
   ],
   "source": [
    "login_status = None\n",
    "uid = input(\"Enter your ID: \")\n",
    "\n",
    "if (user_id == uid):\n",
    "    pwd = input(\"Enter Password\")\n",
    "    \n",
    "    if(password == pwd):\n",
    "        login_status = \"you are Welcome\"\n",
    "    else:\n",
    "        login_status = \"Not Allowed\"\n",
    "    \n",
    "else:\n",
    "    login_status = \"Not Allowed\"\n",
    "print(login_status)"
   ]
  },
  {
   "cell_type": "code",
   "execution_count": 3,
   "id": "bfe9f4ca",
   "metadata": {},
   "outputs": [
    {
     "name": "stdout",
     "output_type": "stream",
     "text": [
      "Enter your required Brand polo\n",
      "Enter your color red\n",
      "Enter your shirt size m\n",
      "Enter your price 900\n",
      "you have bought Red Polo Medium size shirt  \n"
     ]
    }
   ],
   "source": [
    "cart = None\n",
    "brand = input(\"Enter your required Brand \").lower()\n",
    "if (brand == 'polo'):\n",
    "    color = input(\"Enter your color \").lower()\n",
    "    if (color == 'red'):\n",
    "        size = input(\"Enter your shirt size \").upper()\n",
    "        if (size == 'M'):\n",
    "            price = int(input(\"Enter your price \"))\n",
    "            if (price < 1000):\n",
    "                cart = \"Red Polo Medium size shirt \"\n",
    "            else:\n",
    "                print(\"Out of Budget\")\n",
    "                cart = 'Nothing'\n",
    "        else:\n",
    "            print(\"Size Not Available \")\n",
    "            cart = 'Nothing'\n",
    "    else:\n",
    "        print(\"Color Not Available \")\n",
    "        cart = 'Nothing'\n",
    "else:\n",
    "    print(\"Brand Not Available\")\n",
    "    cart = 'Nothing'\n",
    "print(f\"you have bought {cart} \")"
   ]
  },
  {
   "cell_type": "code",
   "execution_count": 4,
   "id": "73ee96b0",
   "metadata": {},
   "outputs": [
    {
     "name": "stdout",
     "output_type": "stream",
     "text": [
      "Enter your Brand polo\n",
      "Enter your Color red\n",
      "Enter your size M\n",
      "Enter your shirt Price 900\n",
      "You have bought Red Polo Medium Size Shirt \n"
     ]
    }
   ],
   "source": [
    "brand = input(\"Enter your Brand \")\n",
    "color = input(\"Enter your Color \")\n",
    "size = input(\"Enter your size \")\n",
    "price = int(input(\"Enter your shirt Price \"))\n",
    "\n",
    "if (brand == 'polo' and color == 'red' and size == 'M' and price <= 1000):\n",
    "    cart = 'Red Polo Medium Size Shirt'\n",
    "else:\n",
    "    cart = 'Nothing'\n",
    "\n",
    "print(f\"You have bought {cart} \")\n"
   ]
  },
  {
   "cell_type": "code",
   "execution_count": 5,
   "id": "5d6962ab",
   "metadata": {},
   "outputs": [
    {
     "name": "stdout",
     "output_type": "stream",
     "text": [
      "Enter marks in python99\n",
      "Enter marks in java87\n",
      "Enter marks in c91\n",
      "Enter marks in go67\n",
      "Enter marks in js77\n",
      "\n",
      "   Result Card\n",
      "   ===========\n",
      "   \n",
      "Total Marks : 421\n",
      "Percentage  : 84.2\n",
      "Grade       : C\n",
      "\n"
     ]
    }
   ],
   "source": [
    "grade = None\n",
    "python = int(input(\"Enter marks in python\"))\n",
    "java = int(input(\"Enter marks in java\"))\n",
    "c = int(input(\"Enter marks in c\"))\n",
    "go = int(input(\"Enter marks in go\"))\n",
    "js = int(input(\"Enter marks in js\"))\n",
    "\n",
    "total = (python + java + c + go + js )\n",
    "perc = total/500*100\n",
    "\n",
    "if perc >= 90:\n",
    "    grade = 'A+'\n",
    "if perc >= 80:\n",
    "    grade = 'A'\n",
    "if perc >= 70:\n",
    "    grade = 'B'\n",
    "if perc >= 60:\n",
    "    grade = 'C'\n",
    "else:\n",
    "    grade = 'U'\n",
    "\n",
    "print(f\"\"\"\n",
    "   Result Card\n",
    "   ===========\n",
    "   \n",
    "Total Marks : {total}\n",
    "Percentage  : {perc}\n",
    "Grade       : {grade}\n",
    "\"\"\")\n"
   ]
  },
  {
   "cell_type": "code",
   "execution_count": null,
   "id": "032be6a7",
   "metadata": {},
   "outputs": [],
   "source": []
  }
 ],
 "metadata": {
  "kernelspec": {
   "display_name": "Python 3 (ipykernel)",
   "language": "python",
   "name": "python3"
  },
  "language_info": {
   "codemirror_mode": {
    "name": "ipython",
    "version": 3
   },
   "file_extension": ".py",
   "mimetype": "text/x-python",
   "name": "python",
   "nbconvert_exporter": "python",
   "pygments_lexer": "ipython3",
   "version": "3.10.4"
  }
 },
 "nbformat": 4,
 "nbformat_minor": 5
}
