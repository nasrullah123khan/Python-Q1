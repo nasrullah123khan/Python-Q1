{
 "cells": [
  {
   "cell_type": "markdown",
   "id": "cb86ffdb",
   "metadata": {},
   "source": [
    "# Object Oriented Programming"
   ]
  },
  {
   "cell_type": "raw",
   "id": "e81d6572",
   "metadata": {},
   "source": [
    " - Class\n",
    " - Object\n",
    " - Attributes\n",
    " - Behaviours"
   ]
  },
  {
   "cell_type": "code",
   "execution_count": 2,
   "id": "8351c7df",
   "metadata": {},
   "outputs": [],
   "source": [
    "# defining class\n",
    " class Student():\n",
    "    pass"
   ]
  },
  {
   "cell_type": "code",
   "execution_count": 3,
   "id": "3613ce68",
   "metadata": {},
   "outputs": [],
   "source": [
    "# object creation\n",
    "student1 = Student()"
   ]
  },
  {
   "cell_type": "code",
   "execution_count": 4,
   "id": "79192cf0",
   "metadata": {},
   "outputs": [],
   "source": [
    "student2 = Student()"
   ]
  },
  {
   "cell_type": "code",
   "execution_count": 10,
   "id": "e1683759",
   "metadata": {},
   "outputs": [],
   "source": [
    "class Student():\n",
    "    # Attributes\n",
    "    name = \"Nasrullah\"\n",
    "    gender = \"Male\"\n",
    "    age = 21\n",
    "    course = \"AI\"\n",
    "    roll = 209\n",
    "    institute = \"SSUET\""
   ]
  },
  {
   "cell_type": "code",
   "execution_count": 11,
   "id": "765c7a91",
   "metadata": {},
   "outputs": [],
   "source": [
    "student1 = Student()"
   ]
  },
  {
   "cell_type": "code",
   "execution_count": 12,
   "id": "17c7eeb8",
   "metadata": {},
   "outputs": [
    {
     "data": {
      "text/plain": [
       "'Nasrullah'"
      ]
     },
     "execution_count": 12,
     "metadata": {},
     "output_type": "execute_result"
    }
   ],
   "source": [
    "student1.name"
   ]
  },
  {
   "cell_type": "code",
   "execution_count": 13,
   "id": "db49b21b",
   "metadata": {},
   "outputs": [],
   "source": [
    "student2 = Student()"
   ]
  },
  {
   "cell_type": "code",
   "execution_count": 14,
   "id": "b75de059",
   "metadata": {},
   "outputs": [
    {
     "data": {
      "text/plain": [
       "'Nasrullah'"
      ]
     },
     "execution_count": 14,
     "metadata": {},
     "output_type": "execute_result"
    }
   ],
   "source": [
    "student2.name"
   ]
  },
  {
   "cell_type": "code",
   "execution_count": 58,
   "id": "cf284b42",
   "metadata": {},
   "outputs": [],
   "source": [
    "class Student():\n",
    "    # instance Attribute -instance mean Object / Method\n",
    "    def __init__(self,name,roll,course,centre):\n",
    "        #Attributes/characteristics/vatiables\n",
    "        self.name = name\n",
    "        self.roll = roll\n",
    "        self.course = course\n",
    "        self.centre = centre\n",
    "        \n",
    "    #behavoiours / functionalities / methods\n",
    "    def appearExame(self,attendence,feesPaid):\n",
    "        if attendence>=75:\n",
    "            if feesPaid:\n",
    "                print(f\"{self.name} is allowed to sit in exame\")\n",
    "            else:\n",
    "                print(f\"{self.name} is not allowed to sit in exame\")\n",
    "        else:\n",
    "            print(f\"{self.name} is not allowed to sit in exame\")\n",
    "    \n",
    "    def studentProfile(self):\n",
    "        print(f\"\"\"\n",
    "            Student Profile\n",
    "            ***************\n",
    "            Name = {self.name}\n",
    "            Roll No = {self.roll}\n",
    "            Course = {self.course}\n",
    "            Centre = {self.centre} \"\"\")\n",
    "        "
   ]
  },
  {
   "cell_type": "code",
   "execution_count": 45,
   "id": "727e83fb",
   "metadata": {},
   "outputs": [],
   "source": [
    "s4 = Student(\"Fahad\",111,\"Web\",\"SSUET\")"
   ]
  },
  {
   "cell_type": "code",
   "execution_count": 46,
   "id": "443475a6",
   "metadata": {},
   "outputs": [
    {
     "name": "stdout",
     "output_type": "stream",
     "text": [
      "Fahad is sitting in exame\n"
     ]
    }
   ],
   "source": [
    "s4.appearExame()"
   ]
  },
  {
   "cell_type": "code",
   "execution_count": 40,
   "id": "c7c91622",
   "metadata": {},
   "outputs": [],
   "source": [
    "s5 = Student(\"Nasr\",111,\"Web\",\"SSUET\")"
   ]
  },
  {
   "cell_type": "code",
   "execution_count": 41,
   "id": "957dfe90",
   "metadata": {},
   "outputs": [
    {
     "name": "stdout",
     "output_type": "stream",
     "text": [
      "Nasr is sitting in exame\n"
     ]
    }
   ],
   "source": [
    "s5.appearExame()"
   ]
  },
  {
   "cell_type": "code",
   "execution_count": 47,
   "id": "f3e1dea2",
   "metadata": {},
   "outputs": [
    {
     "name": "stdout",
     "output_type": "stream",
     "text": [
      "\n",
      "            Student Profile\n",
      "            ***************\n",
      "            Name = Fahad\n",
      "            Roll No = 111\n",
      "            Course = Web\n",
      "            Centre = SSUET \n"
     ]
    }
   ],
   "source": [
    "s4.studentProfile()"
   ]
  },
  {
   "cell_type": "code",
   "execution_count": 18,
   "id": "6f44f84e",
   "metadata": {},
   "outputs": [],
   "source": [
    "s1 = Student(\"Nasrllah\",123,\"AI\",\"SSUET\")"
   ]
  },
  {
   "cell_type": "code",
   "execution_count": 19,
   "id": "7c65853d",
   "metadata": {},
   "outputs": [
    {
     "data": {
      "text/plain": [
       "'Nasrllah'"
      ]
     },
     "execution_count": 19,
     "metadata": {},
     "output_type": "execute_result"
    }
   ],
   "source": [
    "s1.name"
   ]
  },
  {
   "cell_type": "code",
   "execution_count": 23,
   "id": "b013e665",
   "metadata": {},
   "outputs": [],
   "source": [
    "s2 = Student(\"Sana\",123,\"AI\",\"SSUET\")"
   ]
  },
  {
   "cell_type": "code",
   "execution_count": 24,
   "id": "c47b279c",
   "metadata": {},
   "outputs": [
    {
     "data": {
      "text/plain": [
       "'Sana'"
      ]
     },
     "execution_count": 24,
     "metadata": {},
     "output_type": "execute_result"
    }
   ],
   "source": [
    "s2.name"
   ]
  },
  {
   "cell_type": "code",
   "execution_count": 27,
   "id": "7b35c73b",
   "metadata": {},
   "outputs": [],
   "source": [
    "class Car():\n",
    "    def __init__(self,carName,carNo,engineNumber):\n",
    "        self.carName = carName\n",
    "        self.carNo = carNo\n",
    "        self.engineNumber = engineNumber"
   ]
  },
  {
   "cell_type": "code",
   "execution_count": 28,
   "id": "8ed63b18",
   "metadata": {},
   "outputs": [],
   "source": [
    "car = Car(\"Toyota\",1987,77648)"
   ]
  },
  {
   "cell_type": "code",
   "execution_count": 48,
   "id": "c6cd009c",
   "metadata": {},
   "outputs": [
    {
     "data": {
      "text/plain": [
       "'Toyota'"
      ]
     },
     "execution_count": 48,
     "metadata": {},
     "output_type": "execute_result"
    }
   ],
   "source": [
    "car.carName"
   ]
  },
  {
   "cell_type": "code",
   "execution_count": 59,
   "id": "443984db",
   "metadata": {},
   "outputs": [],
   "source": [
    "s6 = Student(\"Hassan\",123,\"Web\",\"SSUET\")"
   ]
  },
  {
   "cell_type": "code",
   "execution_count": 60,
   "id": "cb176361",
   "metadata": {},
   "outputs": [
    {
     "name": "stdout",
     "output_type": "stream",
     "text": [
      "Hassan is allowed to sit in exame\n"
     ]
    }
   ],
   "source": [
    "s6.appearExame(90,True)"
   ]
  },
  {
   "cell_type": "code",
   "execution_count": 62,
   "id": "313bc7cc",
   "metadata": {},
   "outputs": [],
   "source": [
    "s7 = Student(\"Omer\",123,\"Web\",\"SSUET\")"
   ]
  },
  {
   "cell_type": "code",
   "execution_count": 63,
   "id": "8e1aa362",
   "metadata": {},
   "outputs": [
    {
     "name": "stdout",
     "output_type": "stream",
     "text": [
      "Omer is not allowed to sit in exame\n"
     ]
    }
   ],
   "source": [
    "s7.appearExame(60,True)"
   ]
  },
  {
   "cell_type": "code",
   "execution_count": 64,
   "id": "d724b597",
   "metadata": {},
   "outputs": [
    {
     "name": "stdout",
     "output_type": "stream",
     "text": [
      "Omer is not allowed to sit in exame\n"
     ]
    }
   ],
   "source": [
    "s7.appearExame(80,False)"
   ]
  },
  {
   "cell_type": "markdown",
   "id": "3ec85796",
   "metadata": {},
   "source": [
    "# Getters Setters"
   ]
  },
  {
   "cell_type": "code",
   "execution_count": 65,
   "id": "bbe71d06",
   "metadata": {},
   "outputs": [],
   "source": [
    "class Student():\n",
    "    # instance Attribute -instance mean Object / Method\n",
    "    def __init__(self,name,roll,course,centre):\n",
    "        #Attributes/characteristics/vatiables\n",
    "        self.name = name\n",
    "        self.roll = roll\n",
    "        self.course = course\n",
    "        self.centre = centre\n",
    "        \n",
    "    #behavoiours / functionalities / methods\n",
    "    def appearExame(self,attendence,feesPaid):\n",
    "        if attendence>=75:\n",
    "            if feesPaid:\n",
    "                print(f\"{self.name} is allowed to sit in exame\")\n",
    "            else:\n",
    "                print(f\"{self.name} is not allowed to sit in exame\")\n",
    "        else:\n",
    "            print(f\"{self.name} is not allowed to sit in exame\")\n",
    "    \n",
    "    def studentProfile(self):\n",
    "        print(f\"\"\"\n",
    "            Student Profile\n",
    "            ***************\n",
    "            Name = {self.name}\n",
    "            Roll No = {self.roll}\n",
    "            Course = {self.course}\n",
    "            Centre = {self.centre} \"\"\")\n",
    "        \n",
    "    def getName(self):\n",
    "        print(f\"The student name is {self.name}\")\n",
    "    def setName(self, newName):\n",
    "        self.name = newName        "
   ]
  },
  {
   "cell_type": "code",
   "execution_count": 66,
   "id": "c43c8249",
   "metadata": {},
   "outputs": [],
   "source": [
    "s7 = Student(\"Ali\",123,\"Web\",\"SSUET\")"
   ]
  },
  {
   "cell_type": "code",
   "execution_count": 67,
   "id": "52356ddd",
   "metadata": {},
   "outputs": [
    {
     "data": {
      "text/plain": [
       "'Ali'"
      ]
     },
     "execution_count": 67,
     "metadata": {},
     "output_type": "execute_result"
    }
   ],
   "source": [
    "s7.name"
   ]
  },
  {
   "cell_type": "code",
   "execution_count": 68,
   "id": "9332e6e0",
   "metadata": {},
   "outputs": [
    {
     "name": "stdout",
     "output_type": "stream",
     "text": [
      "The student name is Ali\n"
     ]
    }
   ],
   "source": [
    "s7.getName()"
   ]
  },
  {
   "cell_type": "code",
   "execution_count": 69,
   "id": "7a8638fe",
   "metadata": {},
   "outputs": [],
   "source": [
    "s7.setName(\"Kashif\")"
   ]
  },
  {
   "cell_type": "code",
   "execution_count": 71,
   "id": "e595f3d6",
   "metadata": {},
   "outputs": [
    {
     "name": "stdout",
     "output_type": "stream",
     "text": [
      "The student name is Kashif\n"
     ]
    }
   ],
   "source": [
    "s7.getName()"
   ]
  },
  {
   "cell_type": "code",
   "execution_count": 72,
   "id": "168846f4",
   "metadata": {},
   "outputs": [],
   "source": [
    "class Line():\n",
    "    def __init__(self,x1,y1,x2,y2):\n",
    "        self.point_a = (x1,y1)\n",
    "        self.point_b = (x2,y2)\n",
    "    def length(self):\n",
    "        distance = ((self.point_b[0]-self.point_a[0])**2 + (self.point_b[1]-self.point_a[1])**2)**0.5\n",
    "        return distance\n",
    "    def slope(self):\n",
    "        m = (self.point_b[1]-self.point_a[1])/(self.point_b[0]-self.point_a[0])\n",
    "        return m"
   ]
  },
  {
   "cell_type": "markdown",
   "id": "4631465a",
   "metadata": {},
   "source": [
    "# Inheritance"
   ]
  },
  {
   "cell_type": "code",
   "execution_count": 73,
   "id": "b4f37b7f",
   "metadata": {},
   "outputs": [],
   "source": [
    "class CellPhone():\n",
    "    def __init__ (self,model,make,battery):\n",
    "        self.model = model\n",
    "        self.make = make\n",
    "        self,battery = battery\n",
    "        \n",
    "    def makecall():\n",
    "        pass\n",
    "    def recivecall():\n",
    "        pass\n",
    "    def Game():\n",
    "        pass\n",
    "    "
   ]
  },
  {
   "cell_type": "code",
   "execution_count": 74,
   "id": "da8de0a4",
   "metadata": {},
   "outputs": [],
   "source": [
    "class smartPhone(CellPhone):\n",
    "    pass"
   ]
  },
  {
   "cell_type": "code",
   "execution_count": 76,
   "id": "196c777f",
   "metadata": {},
   "outputs": [
    {
     "ename": "TypeError",
     "evalue": "cannot unpack non-iterable int object",
     "output_type": "error",
     "traceback": [
      "\u001b[1;31m---------------------------------------------------------------------------\u001b[0m",
      "\u001b[1;31mTypeError\u001b[0m                                 Traceback (most recent call last)",
      "Input \u001b[1;32mIn [76]\u001b[0m, in \u001b[0;36m<cell line: 1>\u001b[1;34m()\u001b[0m\n\u001b[1;32m----> 1\u001b[0m sp1 \u001b[38;5;241m=\u001b[39m \u001b[43msmartPhone\u001b[49m\u001b[43m(\u001b[49m\u001b[38;5;124;43m\"\u001b[39;49m\u001b[38;5;124;43mAsas\u001b[39;49m\u001b[38;5;124;43m\"\u001b[39;49m\u001b[43m,\u001b[49m\u001b[38;5;124;43m\"\u001b[39;49m\u001b[38;5;124;43mdvdf\u001b[39;49m\u001b[38;5;124;43m\"\u001b[39;49m\u001b[43m,\u001b[49m\u001b[38;5;241;43m2434\u001b[39;49m\u001b[43m)\u001b[49m\n",
      "Input \u001b[1;32mIn [73]\u001b[0m, in \u001b[0;36mCellPhone.__init__\u001b[1;34m(self, model, make, battery)\u001b[0m\n\u001b[0;32m      3\u001b[0m \u001b[38;5;28mself\u001b[39m\u001b[38;5;241m.\u001b[39mmodel \u001b[38;5;241m=\u001b[39m model\n\u001b[0;32m      4\u001b[0m \u001b[38;5;28mself\u001b[39m\u001b[38;5;241m.\u001b[39mmake \u001b[38;5;241m=\u001b[39m make\n\u001b[1;32m----> 5\u001b[0m \u001b[38;5;28mself\u001b[39m,battery \u001b[38;5;241m=\u001b[39m battery\n",
      "\u001b[1;31mTypeError\u001b[0m: cannot unpack non-iterable int object"
     ]
    }
   ],
   "source": [
    "sp1 = smartPhone(\"Asas\",\"dvdf\",2434)"
   ]
  },
  {
   "cell_type": "code",
   "execution_count": null,
   "id": "d840a2f2",
   "metadata": {},
   "outputs": [],
   "source": []
  }
 ],
 "metadata": {
  "kernelspec": {
   "display_name": "Python 3 (ipykernel)",
   "language": "python",
   "name": "python3"
  },
  "language_info": {
   "codemirror_mode": {
    "name": "ipython",
    "version": 3
   },
   "file_extension": ".py",
   "mimetype": "text/x-python",
   "name": "python",
   "nbconvert_exporter": "python",
   "pygments_lexer": "ipython3",
   "version": "3.10.4"
  }
 },
 "nbformat": 4,
 "nbformat_minor": 5
}
