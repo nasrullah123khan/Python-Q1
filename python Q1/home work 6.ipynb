{
 "cells": [
  {
   "cell_type": "markdown",
   "id": "894b93a3",
   "metadata": {},
   "source": [
    "# Functions"
   ]
  },
  {
   "cell_type": "code",
   "execution_count": 2,
   "id": "6d3ed1f2",
   "metadata": {},
   "outputs": [],
   "source": [
    "# defintion\n",
    "# call\n",
    "#result\n",
    "\n",
    "def nameUpper():\n",
    "    username = input(\"Please tell me your Name \")\n",
    "    username = username.upper()\n",
    "    print(username)"
   ]
  },
  {
   "cell_type": "code",
   "execution_count": 4,
   "id": "d5ed487d",
   "metadata": {},
   "outputs": [
    {
     "name": "stdout",
     "output_type": "stream",
     "text": [
      "Please tell me your Name nasrullah\n",
      "NASRULLAH\n"
     ]
    }
   ],
   "source": [
    "#function call \n",
    "nameUpper()"
   ]
  },
  {
   "cell_type": "code",
   "execution_count": 5,
   "id": "ac0caf0f",
   "metadata": {},
   "outputs": [],
   "source": [
    "#parameterless function\n",
    "def calcSquare():\n",
    "    a = 10\n",
    "    sq = 10**2\n",
    "    print(sq)"
   ]
  },
  {
   "cell_type": "code",
   "execution_count": 6,
   "id": "68dc011e",
   "metadata": {},
   "outputs": [
    {
     "name": "stdout",
     "output_type": "stream",
     "text": [
      "100\n"
     ]
    }
   ],
   "source": [
    "calcSquare()"
   ]
  },
  {
   "cell_type": "code",
   "execution_count": 7,
   "id": "9fa0fbdf",
   "metadata": {},
   "outputs": [],
   "source": [
    "def calcSquare(val):\n",
    "    sq = val**2\n",
    "    print(sq)"
   ]
  },
  {
   "cell_type": "code",
   "execution_count": 9,
   "id": "4f3dc7ca",
   "metadata": {},
   "outputs": [
    {
     "name": "stdout",
     "output_type": "stream",
     "text": [
      "81\n"
     ]
    }
   ],
   "source": [
    "calcSquare(9)"
   ]
  },
  {
   "cell_type": "code",
   "execution_count": 10,
   "id": "91034bfd",
   "metadata": {},
   "outputs": [
    {
     "ename": "TypeError",
     "evalue": "calcSquare() takes 1 positional argument but 2 were given",
     "output_type": "error",
     "traceback": [
      "\u001b[1;31m---------------------------------------------------------------------------\u001b[0m",
      "\u001b[1;31mTypeError\u001b[0m                                 Traceback (most recent call last)",
      "Input \u001b[1;32mIn [10]\u001b[0m, in \u001b[0;36m<cell line: 2>\u001b[1;34m()\u001b[0m\n\u001b[0;32m      1\u001b[0m \u001b[38;5;66;03m# signature must be matched to call function\u001b[39;00m\n\u001b[1;32m----> 2\u001b[0m \u001b[43mcalcSquare\u001b[49m\u001b[43m(\u001b[49m\u001b[38;5;241;43m9\u001b[39;49m\u001b[43m,\u001b[49m\u001b[38;5;241;43m1\u001b[39;49m\u001b[43m)\u001b[49m\n",
      "\u001b[1;31mTypeError\u001b[0m: calcSquare() takes 1 positional argument but 2 were given"
     ]
    }
   ],
   "source": [
    "# signature must be matched to call function\n",
    "calcSquare(9,1)"
   ]
  },
  {
   "cell_type": "code",
   "execution_count": 11,
   "id": "67464dc1",
   "metadata": {},
   "outputs": [
    {
     "ename": "TypeError",
     "evalue": "unsupported operand type(s) for ** or pow(): 'str' and 'int'",
     "output_type": "error",
     "traceback": [
      "\u001b[1;31m---------------------------------------------------------------------------\u001b[0m",
      "\u001b[1;31mTypeError\u001b[0m                                 Traceback (most recent call last)",
      "Input \u001b[1;32mIn [11]\u001b[0m, in \u001b[0;36m<cell line: 3>\u001b[1;34m()\u001b[0m\n\u001b[0;32m      1\u001b[0m \u001b[38;5;66;03m# Argument is valid but functionality is not supporting\u001b[39;00m\n\u001b[0;32m      2\u001b[0m \u001b[38;5;66;03m# the argument\u001b[39;00m\n\u001b[1;32m----> 3\u001b[0m \u001b[43mcalcSquare\u001b[49m\u001b[43m(\u001b[49m\u001b[38;5;124;43m\"\u001b[39;49m\u001b[38;5;124;43mHello\u001b[39;49m\u001b[38;5;124;43m\"\u001b[39;49m\u001b[43m)\u001b[49m\n",
      "Input \u001b[1;32mIn [7]\u001b[0m, in \u001b[0;36mcalcSquare\u001b[1;34m(val)\u001b[0m\n\u001b[0;32m      1\u001b[0m \u001b[38;5;28;01mdef\u001b[39;00m \u001b[38;5;21mcalcSquare\u001b[39m(val):\n\u001b[1;32m----> 2\u001b[0m     sq \u001b[38;5;241m=\u001b[39m \u001b[43mval\u001b[49m\u001b[38;5;241;43m*\u001b[39;49m\u001b[38;5;241;43m*\u001b[39;49m\u001b[38;5;241;43m2\u001b[39;49m\n\u001b[0;32m      3\u001b[0m     \u001b[38;5;28mprint\u001b[39m(sq)\n",
      "\u001b[1;31mTypeError\u001b[0m: unsupported operand type(s) for ** or pow(): 'str' and 'int'"
     ]
    }
   ],
   "source": [
    "# Argument is valid but functionality is not supporting\n",
    "# the argument\n",
    "calcSquare(\"Hello\")"
   ]
  },
  {
   "cell_type": "markdown",
   "id": "4db84938",
   "metadata": {},
   "source": [
    "# How to get result/value back from function\n",
    " - local variable : a variable defined inside a function is local\n",
    " -Local variable can not be used outside the function body"
   ]
  },
  {
   "cell_type": "markdown",
   "id": "b9064aca",
   "metadata": {},
   "source": [
    "# Global Variable: \n",
    " - All variable defined outside functuon are global variables and can be accessed inside in outise function"
   ]
  },
  {
   "cell_type": "code",
   "execution_count": 12,
   "id": "ecad167f",
   "metadata": {},
   "outputs": [],
   "source": [
    "def clacSquare(val): #parameterized function\n",
    "    sq = val**2 # sq is local variable\n",
    "    print(sq)"
   ]
  },
  {
   "cell_type": "code",
   "execution_count": 13,
   "id": "86f77939",
   "metadata": {},
   "outputs": [
    {
     "name": "stdout",
     "output_type": "stream",
     "text": [
      "25\n"
     ]
    }
   ],
   "source": [
    "calcSquare(5)\n",
    "# our function is printing the squarer of the given argument"
   ]
  },
  {
   "cell_type": "markdown",
   "id": "f919724d",
   "metadata": {},
   "source": [
    "# If we want to recover the value from function:¶\n",
    "- define a global vairbble \n",
    "- use a return keyword"
   ]
  },
  {
   "cell_type": "code",
   "execution_count": 18,
   "id": "7872036b",
   "metadata": {},
   "outputs": [],
   "source": [
    "def calcSquare(val): # Parameterized function \n",
    "    sq = val**2 # local variable\n",
    "    "
   ]
  },
  {
   "cell_type": "code",
   "execution_count": 19,
   "id": "c2ab1600",
   "metadata": {},
   "outputs": [
    {
     "name": "stdout",
     "output_type": "stream",
     "text": [
      "None\n"
     ]
    }
   ],
   "source": [
    "print(calcSquare(25))"
   ]
  },
  {
   "cell_type": "code",
   "execution_count": 20,
   "id": "7dcbcbaa",
   "metadata": {},
   "outputs": [
    {
     "name": "stdout",
     "output_type": "stream",
     "text": [
      "576\n",
      "None\n"
     ]
    }
   ],
   "source": [
    "result = clacSquare(24)\n",
    "print(result)"
   ]
  },
  {
   "cell_type": "code",
   "execution_count": 13,
   "id": "9ceb36a3",
   "metadata": {},
   "outputs": [],
   "source": [
    "def calcSquare(val): # Parameterized function \n",
    "    square = val**2 # local variable\n",
    "    return square\n",
    "    print(\"I am after return\") # this line will never be executed"
   ]
  },
  {
   "cell_type": "code",
   "execution_count": 14,
   "id": "569f0980",
   "metadata": {},
   "outputs": [],
   "source": [
    "result = calcSquare(3)"
   ]
  },
  {
   "cell_type": "code",
   "execution_count": 15,
   "id": "3a42cce4",
   "metadata": {},
   "outputs": [
    {
     "name": "stdout",
     "output_type": "stream",
     "text": [
      "9\n"
     ]
    }
   ],
   "source": [
    "print(result)"
   ]
  },
  {
   "cell_type": "code",
   "execution_count": 16,
   "id": "d342a739",
   "metadata": {},
   "outputs": [],
   "source": [
    "name = \"Nasrullah\""
   ]
  },
  {
   "cell_type": "code",
   "execution_count": 17,
   "id": "5f6bf784",
   "metadata": {},
   "outputs": [
    {
     "data": {
      "text/plain": [
       "'Nasrullah'"
      ]
     },
     "execution_count": 17,
     "metadata": {},
     "output_type": "execute_result"
    }
   ],
   "source": [
    "name"
   ]
  },
  {
   "cell_type": "code",
   "execution_count": 18,
   "id": "0890fd8f",
   "metadata": {},
   "outputs": [],
   "source": [
    "def areaoftriangle(l,h):\n",
    "    area = l*h*0.5\n",
    "    return area,l,h"
   ]
  },
  {
   "cell_type": "code",
   "execution_count": 20,
   "id": "4ab2e8b8",
   "metadata": {},
   "outputs": [],
   "source": [
    "area,l,h = areaoftriangle(5,6)"
   ]
  },
  {
   "cell_type": "code",
   "execution_count": 21,
   "id": "bfb32e8b",
   "metadata": {},
   "outputs": [
    {
     "name": "stdout",
     "output_type": "stream",
     "text": [
      "the area of triangle with length 5 and height 6 is 15.0 sq.m\n"
     ]
    }
   ],
   "source": [
    "print(f\"the area of triangle with length {l} and height {h} is {area} sq.m\")"
   ]
  },
  {
   "cell_type": "code",
   "execution_count": 22,
   "id": "a6640d6d",
   "metadata": {},
   "outputs": [
    {
     "data": {
      "text/plain": [
       "(75.0, 10, 15)"
      ]
     },
     "execution_count": 22,
     "metadata": {},
     "output_type": "execute_result"
    }
   ],
   "source": [
    "a = areaoftriangle(10,15)\n",
    "a"
   ]
  },
  {
   "cell_type": "code",
   "execution_count": 23,
   "id": "7a1551fb",
   "metadata": {},
   "outputs": [],
   "source": [
    "area , length , width = a"
   ]
  },
  {
   "cell_type": "code",
   "execution_count": 24,
   "id": "84d2b8e9",
   "metadata": {},
   "outputs": [
    {
     "data": {
      "text/plain": [
       "10"
      ]
     },
     "execution_count": 24,
     "metadata": {},
     "output_type": "execute_result"
    }
   ],
   "source": [
    "length"
   ]
  },
  {
   "cell_type": "code",
   "execution_count": 25,
   "id": "951cadd2",
   "metadata": {},
   "outputs": [
    {
     "data": {
      "text/plain": [
       "(103.5, 9, 23)"
      ]
     },
     "execution_count": 25,
     "metadata": {},
     "output_type": "execute_result"
    }
   ],
   "source": [
    "areaoftriangle(h=23,l=9)# key word argument"
   ]
  },
  {
   "cell_type": "markdown",
   "id": "d93a102a",
   "metadata": {},
   "source": [
    "# Defualt Parameter"
   ]
  },
  {
   "cell_type": "code",
   "execution_count": 26,
   "id": "88a72986",
   "metadata": {},
   "outputs": [
    {
     "name": "stdout",
     "output_type": "stream",
     "text": [
      "Pakistan\n"
     ]
    }
   ],
   "source": [
    "print(\"Pakistan\")"
   ]
  },
  {
   "cell_type": "code",
   "execution_count": 28,
   "id": "74e24810",
   "metadata": {},
   "outputs": [],
   "source": [
    "def salaryCalculator(basic , allounce , perBonus=0):\n",
    "    gross = basic + allounce + perBonus\n",
    "    return gross"
   ]
  },
  {
   "cell_type": "code",
   "execution_count": 29,
   "id": "6e91493d",
   "metadata": {},
   "outputs": [
    {
     "data": {
      "text/plain": [
       "72000"
      ]
     },
     "execution_count": 29,
     "metadata": {},
     "output_type": "execute_result"
    }
   ],
   "source": [
    "salaryCalculator(50000,12000,10000)"
   ]
  },
  {
   "cell_type": "code",
   "execution_count": 30,
   "id": "beab6256",
   "metadata": {},
   "outputs": [
    {
     "data": {
      "text/plain": [
       "27000"
      ]
     },
     "execution_count": 30,
     "metadata": {},
     "output_type": "execute_result"
    }
   ],
   "source": [
    "salaryCalculator(23000,4000)"
   ]
  },
  {
   "cell_type": "code",
   "execution_count": null,
   "id": "e70aa929",
   "metadata": {},
   "outputs": [],
   "source": []
  }
 ],
 "metadata": {
  "kernelspec": {
   "display_name": "Python 3 (ipykernel)",
   "language": "python",
   "name": "python3"
  },
  "language_info": {
   "codemirror_mode": {
    "name": "ipython",
    "version": 3
   },
   "file_extension": ".py",
   "mimetype": "text/x-python",
   "name": "python",
   "nbconvert_exporter": "python",
   "pygments_lexer": "ipython3",
   "version": "3.10.4"
  }
 },
 "nbformat": 4,
 "nbformat_minor": 5
}
