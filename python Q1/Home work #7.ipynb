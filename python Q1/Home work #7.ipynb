{
 "cells": [
  {
   "cell_type": "markdown",
   "id": "ce7d751a",
   "metadata": {},
   "source": [
    "# Function Continue...."
   ]
  },
  {
   "cell_type": "raw",
   "id": "e38a518b",
   "metadata": {},
   "source": [
    " - arbitary number of arguments"
   ]
  },
  {
   "cell_type": "code",
   "execution_count": 1,
   "id": "a1b9e35f",
   "metadata": {},
   "outputs": [],
   "source": [
    "def afunction(value):\n",
    "    print(value)"
   ]
  },
  {
   "cell_type": "code",
   "execution_count": 2,
   "id": "181bb1ec",
   "metadata": {},
   "outputs": [
    {
     "name": "stdout",
     "output_type": "stream",
     "text": [
      "Hello\n"
     ]
    }
   ],
   "source": [
    "afunction('Hello')"
   ]
  },
  {
   "cell_type": "code",
   "execution_count": 3,
   "id": "eb19bfd7",
   "metadata": {},
   "outputs": [
    {
     "name": "stdout",
     "output_type": "stream",
     "text": [
      "Nasrullah\n"
     ]
    }
   ],
   "source": [
    "afunction('Nasrullah')"
   ]
  },
  {
   "cell_type": "code",
   "execution_count": 4,
   "id": "013de78d",
   "metadata": {},
   "outputs": [
    {
     "ename": "TypeError",
     "evalue": "afunction() takes 1 positional argument but 3 were given",
     "output_type": "error",
     "traceback": [
      "\u001b[1;31m---------------------------------------------------------------------------\u001b[0m",
      "\u001b[1;31mTypeError\u001b[0m                                 Traceback (most recent call last)",
      "Input \u001b[1;32mIn [4]\u001b[0m, in \u001b[0;36m<cell line: 1>\u001b[1;34m()\u001b[0m\n\u001b[1;32m----> 1\u001b[0m \u001b[43mafunction\u001b[49m\u001b[43m(\u001b[49m\u001b[38;5;124;43m\"\u001b[39;49m\u001b[38;5;124;43mHello\u001b[39;49m\u001b[38;5;124;43m\"\u001b[39;49m\u001b[43m,\u001b[49m\u001b[38;5;124;43m\"\u001b[39;49m\u001b[38;5;124;43mMr\u001b[39;49m\u001b[38;5;124;43m\"\u001b[39;49m\u001b[43m,\u001b[49m\u001b[38;5;124;43m\"\u001b[39;49m\u001b[38;5;124;43mAhmad\u001b[39;49m\u001b[38;5;124;43m\"\u001b[39;49m\u001b[43m)\u001b[49m\n",
      "\u001b[1;31mTypeError\u001b[0m: afunction() takes 1 positional argument but 3 were given"
     ]
    }
   ],
   "source": [
    "afunction(\"Hello\",\"Mr\",\"Ahmad\")"
   ]
  },
  {
   "cell_type": "code",
   "execution_count": 14,
   "id": "8bdf39ba",
   "metadata": {},
   "outputs": [],
   "source": [
    "def afunction(*values):\n",
    "    for name in values:\n",
    "        print(f\"Hello {name}\")"
   ]
  },
  {
   "cell_type": "code",
   "execution_count": 15,
   "id": "8dd1eda4",
   "metadata": {},
   "outputs": [
    {
     "name": "stdout",
     "output_type": "stream",
     "text": [
      "Hello hello\n",
      "Hello Mr.\n",
      "Hello Ahmad\n"
     ]
    }
   ],
   "source": [
    "afunction(\"hello\",\"Mr.\",\"Ahmad\")"
   ]
  },
  {
   "cell_type": "code",
   "execution_count": 16,
   "id": "2de937f3",
   "metadata": {},
   "outputs": [
    {
     "name": "stdout",
     "output_type": "stream",
     "text": [
      "Hello hassan\n",
      "Hello ali\n",
      "Hello ahmed\n"
     ]
    }
   ],
   "source": [
    "afunction(\"hassan\", \"ali\", \"ahmed\")"
   ]
  },
  {
   "cell_type": "code",
   "execution_count": 17,
   "id": "0eca72d7",
   "metadata": {},
   "outputs": [],
   "source": [
    "def userdetails(name,id,*other):\n",
    "    print(name)\n",
    "    print(id)\n",
    "    for d in other:\n",
    "        print(d)"
   ]
  },
  {
   "cell_type": "code",
   "execution_count": 18,
   "id": "981834d7",
   "metadata": {},
   "outputs": [
    {
     "name": "stdout",
     "output_type": "stream",
     "text": [
      "Nasrullah\n",
      "209\n",
      "FName\n",
      "Email\n",
      "contact\n"
     ]
    }
   ],
   "source": [
    "userdetails(\"Nasrullah\",209,\"FName\",\"Email\",\"contact\")"
   ]
  },
  {
   "cell_type": "code",
   "execution_count": null,
   "id": "c0544b77",
   "metadata": {},
   "outputs": [],
   "source": []
  }
 ],
 "metadata": {
  "kernelspec": {
   "display_name": "Python 3 (ipykernel)",
   "language": "python",
   "name": "python3"
  },
  "language_info": {
   "codemirror_mode": {
    "name": "ipython",
    "version": 3
   },
   "file_extension": ".py",
   "mimetype": "text/x-python",
   "name": "python",
   "nbconvert_exporter": "python",
   "pygments_lexer": "ipython3",
   "version": "3.10.4"
  }
 },
 "nbformat": 4,
 "nbformat_minor": 5
}
