{
 "cells": [
  {
   "cell_type": "markdown",
   "id": "f2d517aa",
   "metadata": {},
   "source": [
    "# Function Continue....."
   ]
  },
  {
   "cell_type": "markdown",
   "id": "fbb1529a",
   "metadata": {},
   "source": [
    "#### arbitrary number of arguments"
   ]
  },
  {
   "cell_type": "code",
   "execution_count": 2,
   "id": "a709fe47",
   "metadata": {},
   "outputs": [],
   "source": [
    "def afunction(values):\n",
    "    print(values)"
   ]
  },
  {
   "cell_type": "code",
   "execution_count": 3,
   "id": "f65f9013",
   "metadata": {},
   "outputs": [
    {
     "name": "stdout",
     "output_type": "stream",
     "text": [
      "hello\n"
     ]
    }
   ],
   "source": [
    "afunction('hello')"
   ]
  },
  {
   "cell_type": "code",
   "execution_count": 4,
   "id": "13847d3d",
   "metadata": {},
   "outputs": [
    {
     "ename": "TypeError",
     "evalue": "afunction() takes 1 positional argument but 3 were given",
     "output_type": "error",
     "traceback": [
      "\u001b[1;31m---------------------------------------\u001b[0m",
      "\u001b[1;31mTypeError\u001b[0mTraceback (most recent call last)",
      "\u001b[1;32m<ipython-input-4-50a5918dcf04>\u001b[0m in \u001b[0;36m<module>\u001b[1;34m\u001b[0m\n\u001b[1;32m----> 1\u001b[1;33m \u001b[0mafunction\u001b[0m\u001b[1;33m(\u001b[0m\u001b[1;34m\"hello\"\u001b[0m\u001b[1;33m,\u001b[0m \u001b[1;34m\"mr.\"\u001b[0m\u001b[1;33m,\u001b[0m \u001b[1;34m\"ahmed\"\u001b[0m\u001b[1;33m)\u001b[0m\u001b[1;33m\u001b[0m\u001b[1;33m\u001b[0m\u001b[0m\n\u001b[0m",
      "\u001b[1;31mTypeError\u001b[0m: afunction() takes 1 positional argument but 3 were given"
     ]
    }
   ],
   "source": [
    "afunction(\"hello\", \"mr.\", \"ahmed\")"
   ]
  },
  {
   "cell_type": "code",
   "execution_count": 8,
   "id": "ae0b6003",
   "metadata": {},
   "outputs": [],
   "source": [
    "def afunction(*values):\n",
    "    for name in values:\n",
    "        print(f\"Hello {name}\")"
   ]
  },
  {
   "cell_type": "code",
   "execution_count": 9,
   "id": "968e464d",
   "metadata": {},
   "outputs": [
    {
     "name": "stdout",
     "output_type": "stream",
     "text": [
      "Hello hello\n",
      "Hello mr.\n",
      "Hello ahmed\n"
     ]
    }
   ],
   "source": [
    "afunction(\"hello\", \"mr.\", \"ahmed\")"
   ]
  },
  {
   "cell_type": "code",
   "execution_count": 10,
   "id": "01692225",
   "metadata": {},
   "outputs": [
    {
     "name": "stdout",
     "output_type": "stream",
     "text": [
      "Hello hassan\n",
      "Hello ali\n",
      "Hello ahmed\n"
     ]
    }
   ],
   "source": [
    "afunction(\"hassan\", \"ali\", \"ahmed\")"
   ]
  },
  {
   "cell_type": "code",
   "execution_count": null,
   "id": "97b134a5",
   "metadata": {},
   "outputs": [],
   "source": [
    "def userdetails(name, id,*other):\n",
    "    print(name)\n",
    "    print(id)\n",
    "    for d in other:\n",
    "        print(d)  "
   ]
  },
  {
   "cell_type": "code",
   "execution_count": 12,
   "id": "c573a482",
   "metadata": {},
   "outputs": [
    {
     "name": "stdout",
     "output_type": "stream",
     "text": [
      "wasi\n",
      "121\n",
      "fname\n",
      "email\n",
      "contact\n"
     ]
    }
   ],
   "source": [
    "userdetails(\"wasi\",121, \"fname\",\"email\",\"contact\")"
   ]
  },
  {
   "cell_type": "markdown",
   "id": "582c9e2b",
   "metadata": {},
   "source": [
    "#### Passing a list as argument"
   ]
  },
  {
   "cell_type": "code",
   "execution_count": 48,
   "id": "a3eb0e2a",
   "metadata": {},
   "outputs": [],
   "source": [
    "students = [\"Asad\",\"Aqsa\",\"Danish\",\"Fahad\",\"Kiran\"]"
   ]
  },
  {
   "cell_type": "code",
   "execution_count": 49,
   "id": "01fc48ef",
   "metadata": {},
   "outputs": [
    {
     "data": {
      "text/plain": [
       "['Asad', 'Aqsa', 'Danish', 'Fahad', 'Kiran']"
      ]
     },
     "execution_count": 49,
     "metadata": {},
     "output_type": "execute_result"
    }
   ],
   "source": [
    "def promoteStudent(list_of_st):\n",
    "    promotedSt = []\n",
    "    print(list_of_st)\n",
    "    for a in range(len(list_of_st)):\n",
    "        promotedSt.append(list_of_st.pop())\n",
    "    \n",
    "\n",
    "    print(promotedSt)\n",
    "students"
   ]
  },
  {
   "cell_type": "code",
   "execution_count": 50,
   "id": "f3cd7b04",
   "metadata": {},
   "outputs": [
    {
     "name": "stdout",
     "output_type": "stream",
     "text": [
      "['Asad', 'Aqsa', 'Danish', 'Fahad', 'Kiran']\n",
      "['Kiran', 'Fahad', 'Danish', 'Aqsa', 'Asad']\n"
     ]
    }
   ],
   "source": [
    "promoteStudent(students[:])"
   ]
  },
  {
   "cell_type": "code",
   "execution_count": 51,
   "id": "026beebe",
   "metadata": {},
   "outputs": [
    {
     "data": {
      "text/plain": [
       "['Asad', 'Aqsa', 'Danish', 'Fahad', 'Kiran']"
      ]
     },
     "execution_count": 51,
     "metadata": {},
     "output_type": "execute_result"
    }
   ],
   "source": [
    "students"
   ]
  },
  {
   "cell_type": "code",
   "execution_count": 80,
   "id": "77442d23",
   "metadata": {},
   "outputs": [],
   "source": [
    "def build_profile(first, last, **user_info):\n",
    "    profile = {}\n",
    "    profile['firstname']=first\n",
    "    profile['lastname'] = last\n",
    "    profile['otherdetail'] = user_info\n",
    "    return profile"
   ]
  },
  {
   "cell_type": "code",
   "execution_count": 81,
   "id": "c34ad357",
   "metadata": {},
   "outputs": [],
   "source": [
    "user_profile = build_profile('albert','einstein',\n",
    "                             location='princeton',field='physics')"
   ]
  },
  {
   "cell_type": "code",
   "execution_count": 82,
   "id": "59179adb",
   "metadata": {},
   "outputs": [
    {
     "data": {
      "text/plain": [
       "{'firstname': 'albert',\n",
       " 'lastname': 'einstein',\n",
       " 'otherdetail': {'location': 'princeton', 'field': 'physics'}}"
      ]
     },
     "execution_count": 82,
     "metadata": {},
     "output_type": "execute_result"
    }
   ],
   "source": [
    "user_profile"
   ]
  },
  {
   "cell_type": "code",
   "execution_count": 85,
   "id": "3a1b7c73",
   "metadata": {},
   "outputs": [],
   "source": [
    "def build_profile(first, last, **user_info):\n",
    "    profile = {}\n",
    "    profile['firstname'] = first\n",
    "    profile['lastname']  = last\n",
    "       \n",
    "    for k,v in user_info.items():\n",
    "        profile[k]=v        \n",
    "    return profile"
   ]
  },
  {
   "cell_type": "code",
   "execution_count": 86,
   "id": "127c3760",
   "metadata": {},
   "outputs": [],
   "source": [
    "user_profile = build_profile('albert','einstein',\n",
    "                             location='princeton',field='physics')"
   ]
  },
  {
   "cell_type": "code",
   "execution_count": 87,
   "id": "bc902015",
   "metadata": {},
   "outputs": [
    {
     "data": {
      "text/plain": [
       "{'firstname': 'albert',\n",
       " 'lastname': 'einstein',\n",
       " 'location': 'princeton',\n",
       " 'field': 'physics'}"
      ]
     },
     "execution_count": 87,
     "metadata": {},
     "output_type": "execute_result"
    }
   ],
   "source": [
    "user_profile"
   ]
  },
  {
   "cell_type": "code",
   "execution_count": 88,
   "id": "0f3f4974",
   "metadata": {},
   "outputs": [],
   "source": [
    "def make_album(artist_name,album_title):\n",
    "    music_album  = {}\n",
    "    music_album[\"artist\"]=artist_name\n",
    "    music_album[\"album\"]= album_title\n",
    "    return music_album"
   ]
  },
  {
   "cell_type": "code",
   "execution_count": 90,
   "id": "3261d254",
   "metadata": {},
   "outputs": [
    {
     "data": {
      "text/plain": [
       "{'artist': 'Nasir', 'album': 'Python'}"
      ]
     },
     "execution_count": 90,
     "metadata": {},
     "output_type": "execute_result"
    }
   ],
   "source": [
    "album1 = make_album(\"Nasir\", \"Python\")\n",
    "album1"
   ]
  },
  {
   "cell_type": "code",
   "execution_count": 91,
   "id": "2fa9d25f",
   "metadata": {},
   "outputs": [
    {
     "data": {
      "text/plain": [
       "{'artist': 'Sir Zia', 'album': 'Metaverse'}"
      ]
     },
     "execution_count": 91,
     "metadata": {},
     "output_type": "execute_result"
    }
   ],
   "source": [
    "album2 = make_album(\"Sir Zia\", \"Metaverse\")\n",
    "album2"
   ]
  },
  {
   "cell_type": "code",
   "execution_count": 98,
   "id": "49f20430",
   "metadata": {},
   "outputs": [],
   "source": [
    "def make_album(artist_name,album_title,num_tracks=None):\n",
    "    music_album  = {}\n",
    "    music_album[\"artist\"]=artist_name\n",
    "    music_album[\"album\"]= album_title\n",
    "    if num_tracks:\n",
    "        music_album['tracks'] = num_tracks\n",
    "    return music_album"
   ]
  },
  {
   "cell_type": "code",
   "execution_count": 99,
   "id": "3c7209c9",
   "metadata": {},
   "outputs": [
    {
     "data": {
      "text/plain": [
       "{'artist': 'Sir Zia', 'album': 'Metaverse'}"
      ]
     },
     "execution_count": 99,
     "metadata": {},
     "output_type": "execute_result"
    }
   ],
   "source": [
    "album3 = make_album(\"Sir Zia\", \"Metaverse\")\n",
    "album3"
   ]
  },
  {
   "cell_type": "code",
   "execution_count": 100,
   "id": "ed2de19e",
   "metadata": {},
   "outputs": [
    {
     "data": {
      "text/plain": [
       "{'artist': 'Sir Zia', 'album': 'Metaverse', 'tracks': 52}"
      ]
     },
     "execution_count": 100,
     "metadata": {},
     "output_type": "execute_result"
    }
   ],
   "source": [
    "album4 = make_album(\"Sir Zia\", \"Metaverse\", 52)\n",
    "album4"
   ]
  },
  {
   "cell_type": "code",
   "execution_count": 97,
   "id": "fe00481f",
   "metadata": {},
   "outputs": [
    {
     "name": "stdout",
     "output_type": "stream",
     "text": [
      "Hello\n"
     ]
    }
   ],
   "source": [
    "num_track = 12\n",
    "if num_track:\n",
    "    print(\"Hello\")\n",
    "else:\n",
    "    print('Bye')"
   ]
  },
  {
   "cell_type": "code",
   "execution_count": 101,
   "id": "756f4e5f",
   "metadata": {},
   "outputs": [],
   "source": [
    "a= [1,2,3,4]"
   ]
  },
  {
   "cell_type": "code",
   "execution_count": 103,
   "id": "812da5e6",
   "metadata": {},
   "outputs": [
    {
     "name": "stdout",
     "output_type": "stream",
     "text": [
      "[1, 2, 3, 4]\n",
      "[1, 2, 3]\n",
      "[1, 2]\n",
      "[1]\n"
     ]
    }
   ],
   "source": [
    "if a:\n",
    "    print(a)\n",
    "    a.pop()"
   ]
  },
  {
   "cell_type": "markdown",
   "id": "7393e595",
   "metadata": {},
   "source": [
    "# Modules "
   ]
  },
  {
   "cell_type": "code",
   "execution_count": 104,
   "id": "cf5f9e67",
   "metadata": {},
   "outputs": [],
   "source": [
    "import math "
   ]
  },
  {
   "cell_type": "code",
   "execution_count": 105,
   "id": "95b9e153",
   "metadata": {},
   "outputs": [],
   "source": [
    "import string"
   ]
  },
  {
   "cell_type": "code",
   "execution_count": 106,
   "id": "bfda300f",
   "metadata": {},
   "outputs": [
    {
     "data": {
      "text/plain": [
       "'!\"#$%&\\'()*+,-./:;<=>?@[\\\\]^_`{|}~'"
      ]
     },
     "execution_count": 106,
     "metadata": {},
     "output_type": "execute_result"
    }
   ],
   "source": [
    "string.punctuation"
   ]
  },
  {
   "cell_type": "code",
   "execution_count": 111,
   "id": "f4d22ca9",
   "metadata": {},
   "outputs": [],
   "source": [
    "import mymodule"
   ]
  },
  {
   "cell_type": "code",
   "execution_count": 112,
   "id": "f746e6b5",
   "metadata": {},
   "outputs": [
    {
     "data": {
      "text/plain": [
       "{'firstname': 'nasir', 'lastname': 'hussain', 'other': 'abcd'}"
      ]
     },
     "execution_count": 112,
     "metadata": {},
     "output_type": "execute_result"
    }
   ],
   "source": [
    "mymodule.build_profile('nasir','hussain',other = \"abcd\")"
   ]
  },
  {
   "cell_type": "code",
   "execution_count": 116,
   "id": "5997e784",
   "metadata": {},
   "outputs": [],
   "source": [
    "%run mymodule"
   ]
  },
  {
   "cell_type": "code",
   "execution_count": 117,
   "id": "859651d2",
   "metadata": {},
   "outputs": [],
   "source": [
    "from mymodule import make_album"
   ]
  },
  {
   "cell_type": "code",
   "execution_count": 118,
   "id": "e816a281",
   "metadata": {},
   "outputs": [
    {
     "data": {
      "text/plain": [
       "{'artist': 'xyz', 'album': 'titl', 'tracks': 45}"
      ]
     },
     "execution_count": 118,
     "metadata": {},
     "output_type": "execute_result"
    }
   ],
   "source": [
    "make_album(\"xyz\",\"titl\",45)"
   ]
  },
  {
   "cell_type": "code",
   "execution_count": 119,
   "id": "6210169b",
   "metadata": {},
   "outputs": [],
   "source": [
    "import mymodule as mm"
   ]
  },
  {
   "cell_type": "code",
   "execution_count": 120,
   "id": "3a0b13e9",
   "metadata": {},
   "outputs": [
    {
     "data": {
      "text/plain": [
       "{'artist': 'xyz', 'album': 'titl', 'tracks': 45}"
      ]
     },
     "execution_count": 120,
     "metadata": {},
     "output_type": "execute_result"
    }
   ],
   "source": [
    "mm.make_album(\"xyz\",\"titl\",45)"
   ]
  },
  {
   "cell_type": "code",
   "execution_count": null,
   "id": "78337764",
   "metadata": {},
   "outputs": [],
   "source": []
  }
 ],
 "metadata": {
  "kernelspec": {
   "display_name": "Python 3 (ipykernel)",
   "language": "python",
   "name": "python3"
  },
  "language_info": {
   "codemirror_mode": {
    "name": "ipython",
    "version": 3
   },
   "file_extension": ".py",
   "mimetype": "text/x-python",
   "name": "python",
   "nbconvert_exporter": "python",
   "pygments_lexer": "ipython3",
   "version": "3.10.4"
  }
 },
 "nbformat": 4,
 "nbformat_minor": 5
}
