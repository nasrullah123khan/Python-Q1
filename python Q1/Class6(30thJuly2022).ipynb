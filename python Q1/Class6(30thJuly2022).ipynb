{
 "cells": [
  {
   "cell_type": "markdown",
   "id": "375c3645",
   "metadata": {},
   "source": [
    "# Loops\n",
    " - for loop\n",
    " - while loop"
   ]
  },
  {
   "cell_type": "markdown",
   "id": "cb00cb76",
   "metadata": {},
   "source": [
    "### Print your name ten times\n",
    "I you are to print your name 10 times without using loop "
   ]
  },
  {
   "cell_type": "code",
   "execution_count": 1,
   "id": "5ddbccc9",
   "metadata": {},
   "outputs": [
    {
     "name": "stdout",
     "output_type": "stream",
     "text": [
      "Nasir Hussain\n",
      "Nasir Hussain\n",
      "Nasir Hussain\n",
      "Nasir Hussain\n",
      "Nasir Hussain\n",
      "Nasir Hussain\n",
      "Nasir Hussain\n",
      "Nasir Hussain\n",
      "Nasir Hussain\n",
      "Nasir Hussain\n"
     ]
    }
   ],
   "source": [
    "print(\"Nasir Hussain\")\n",
    "print(\"Nasir Hussain\")\n",
    "print(\"Nasir Hussain\")\n",
    "print(\"Nasir Hussain\")\n",
    "print(\"Nasir Hussain\")\n",
    "print(\"Nasir Hussain\")\n",
    "print(\"Nasir Hussain\")\n",
    "print(\"Nasir Hussain\")\n",
    "print(\"Nasir Hussain\")\n",
    "print(\"Nasir Hussain\")"
   ]
  },
  {
   "cell_type": "raw",
   "id": "9c4a73b1",
   "metadata": {},
   "source": [
    "A loop helps us to do repeated task efficiently with less code. \n",
    "A loop reduces the size of code\n",
    "A loop allows reuseability of code\n",
    "A loop structures our code well. "
   ]
  },
  {
   "cell_type": "markdown",
   "id": "ba006388",
   "metadata": {},
   "source": [
    "# Iterating a list using a for loop "
   ]
  },
  {
   "cell_type": "code",
   "execution_count": 4,
   "id": "a615c4e1",
   "metadata": {},
   "outputs": [],
   "source": [
    "students = [\"Asad\",\"Ali\",\"Daad\",\"Hassan\"] "
   ]
  },
  {
   "cell_type": "code",
   "execution_count": 7,
   "id": "3fb92896",
   "metadata": {},
   "outputs": [
    {
     "name": "stdout",
     "output_type": "stream",
     "text": [
      "asad\n",
      "ali\n",
      "daad\n",
      "hassan\n"
     ]
    }
   ],
   "source": [
    "for student in students:#iterate\n",
    "    print(student.lower())  \n",
    "# step1: one by one every item in the list wil be assigned to variable student\n",
    "# step2: it enters in loops body where variable strudent gets printed\n",
    "# step3: loop agains reacheds to srating point like fetches next items from list\n"
   ]
  },
  {
   "cell_type": "code",
   "execution_count": 5,
   "id": "1ee33e0c",
   "metadata": {},
   "outputs": [
    {
     "name": "stdout",
     "output_type": "stream",
     "text": [
      "P\n",
      "a\n",
      "k\n",
      "i\n",
      "s\n",
      "t\n",
      "a\n",
      "n\n"
     ]
    }
   ],
   "source": [
    "for char in \"Pakistan\":\n",
    "    print(char)"
   ]
  },
  {
   "cell_type": "code",
   "execution_count": 6,
   "id": "ab16332b",
   "metadata": {},
   "outputs": [
    {
     "ename": "TypeError",
     "evalue": "'int' object is not iterable",
     "output_type": "error",
     "traceback": [
      "\u001b[1;31m---------------------------------------\u001b[0m",
      "\u001b[1;31mTypeError\u001b[0mTraceback (most recent call last)",
      "\u001b[1;32m<ipython-input-6-41bcedaa48ea>\u001b[0m in \u001b[0;36m<module>\u001b[1;34m\u001b[0m\n\u001b[1;32m----> 1\u001b[1;33m \u001b[1;32mfor\u001b[0m \u001b[0mnum\u001b[0m \u001b[1;32min\u001b[0m \u001b[1;36m5001\u001b[0m\u001b[1;33m:\u001b[0m\u001b[1;33m\u001b[0m\u001b[1;33m\u001b[0m\u001b[0m\n\u001b[0m\u001b[0;32m      2\u001b[0m     \u001b[0mprint\u001b[0m\u001b[1;33m(\u001b[0m\u001b[0mnum\u001b[0m\u001b[1;33m)\u001b[0m\u001b[1;33m\u001b[0m\u001b[1;33m\u001b[0m\u001b[0m\n",
      "\u001b[1;31mTypeError\u001b[0m: 'int' object is not iterable"
     ]
    }
   ],
   "source": [
    "for num in 5001:\n",
    "    print(num)"
   ]
  },
  {
   "cell_type": "code",
   "execution_count": 23,
   "id": "1c4fd043",
   "metadata": {},
   "outputs": [
    {
     "name": "stdout",
     "output_type": "stream",
     "text": [
      "0 Hello\n",
      "1 Hello\n",
      "2 Hello\n",
      "3 Hello\n",
      "4 Hello\n"
     ]
    }
   ],
   "source": [
    "for a in range(5):\n",
    "    print(a,\"Hello\")"
   ]
  },
  {
   "cell_type": "code",
   "execution_count": 12,
   "id": "b9b2b5e4",
   "metadata": {},
   "outputs": [
    {
     "name": "stdout",
     "output_type": "stream",
     "text": [
      "1 Python\n",
      "2 Python\n",
      "3 Python\n",
      "4 Python\n"
     ]
    }
   ],
   "source": [
    "for a in range(1,5):\n",
    "    print(a, \"Python\")"
   ]
  },
  {
   "cell_type": "code",
   "execution_count": 15,
   "id": "350106ee",
   "metadata": {},
   "outputs": [
    {
     "name": "stdout",
     "output_type": "stream",
     "text": [
      "1\n",
      "3\n",
      "5\n",
      "7\n",
      "9\n",
      "11\n",
      "13\n",
      "15\n",
      "17\n",
      "19\n"
     ]
    }
   ],
   "source": [
    "for a in range(1,20,2):#(starting,ending-1,step)\n",
    "    print(a)"
   ]
  },
  {
   "cell_type": "code",
   "execution_count": 16,
   "id": "64ace0ad",
   "metadata": {},
   "outputs": [
    {
     "name": "stdout",
     "output_type": "stream",
     "text": [
      "2\n",
      "4\n",
      "6\n",
      "8\n",
      "10\n",
      "12\n",
      "14\n",
      "16\n",
      "18\n"
     ]
    }
   ],
   "source": [
    "for a in range(2,20,2):#(starting,ending-1,step)\n",
    "    print(a)"
   ]
  },
  {
   "cell_type": "code",
   "execution_count": 3,
   "id": "510c7eec",
   "metadata": {},
   "outputs": [
    {
     "name": "stdout",
     "output_type": "stream",
     "text": [
      "10\n",
      "9\n",
      "8\n",
      "7\n",
      "6\n",
      "5\n",
      "4\n",
      "3\n",
      "2\n",
      "1\n"
     ]
    }
   ],
   "source": [
    "for a in range(10,0,-1):\n",
    "    print(a)"
   ]
  },
  {
   "cell_type": "markdown",
   "id": "a08ddd49",
   "metadata": {},
   "source": [
    "# Break , Continue"
   ]
  },
  {
   "cell_type": "code",
   "execution_count": 26,
   "id": "11af93e3",
   "metadata": {},
   "outputs": [
    {
     "name": "stdout",
     "output_type": "stream",
     "text": [
      "0\n",
      "1\n",
      "2\n"
     ]
    }
   ],
   "source": [
    "for a in range(5):\n",
    "    if a==3:\n",
    "        break\n",
    "    print(a)"
   ]
  },
  {
   "cell_type": "code",
   "execution_count": 27,
   "id": "23413e46",
   "metadata": {},
   "outputs": [
    {
     "name": "stdout",
     "output_type": "stream",
     "text": [
      "0\n",
      "1\n",
      "2\n",
      "4\n"
     ]
    }
   ],
   "source": [
    "for a in range(5):\n",
    "    if a==3:\n",
    "        continue\n",
    "    print(a)"
   ]
  },
  {
   "cell_type": "code",
   "execution_count": 19,
   "id": "02912c4c",
   "metadata": {},
   "outputs": [
    {
     "name": "stdout",
     "output_type": "stream",
     "text": [
      "asad\n"
     ]
    }
   ],
   "source": [
    "for student in students:#iterate\n",
    "    if student.endswith(\"i\"):\n",
    "        break\n",
    "    print(student.lower())"
   ]
  },
  {
   "cell_type": "code",
   "execution_count": 28,
   "id": "d8d15103",
   "metadata": {},
   "outputs": [
    {
     "name": "stdout",
     "output_type": "stream",
     "text": [
      "asad\n",
      "daad\n",
      "hassan\n"
     ]
    }
   ],
   "source": [
    "for student in students:#iterate\n",
    "    if student.endswith(\"i\"):\n",
    "        continue\n",
    "    print(student.lower()) "
   ]
  },
  {
   "cell_type": "code",
   "execution_count": 1,
   "id": "48c52ca0",
   "metadata": {},
   "outputs": [
    {
     "name": "stdout",
     "output_type": "stream",
     "text": [
      "1\n",
      "2\n",
      "3\n",
      "4\n",
      "5\n",
      "6\n",
      "8\n",
      "9\n"
     ]
    }
   ],
   "source": [
    "for a in range(0,10):\n",
    "    if a%7==0:\n",
    "        continue\n",
    "    print(a)"
   ]
  },
  {
   "cell_type": "code",
   "execution_count": 24,
   "id": "941f7393",
   "metadata": {},
   "outputs": [
    {
     "name": "stdout",
     "output_type": "stream",
     "text": [
      "0 Hello\n",
      "1 Hello\n",
      "2 Hello\n"
     ]
    }
   ],
   "source": [
    "for a in range(5):\n",
    "    if a==3:\n",
    "        break\n",
    "    print(a,\"Hello\")"
   ]
  },
  {
   "cell_type": "code",
   "execution_count": 31,
   "id": "eed4f1c5",
   "metadata": {},
   "outputs": [
    {
     "name": "stdout",
     "output_type": "stream",
     "text": [
      "[1, 3, 5, 7, 9, 11, 13, 15, 17, 19]\n"
     ]
    }
   ],
   "source": [
    "#i need a list of odd numbers between 1,20\n",
    "odd = []\n",
    "for num in range(1,21):\n",
    "    if num%2!=0:\n",
    "        odd.append(num)\n",
    "print(odd)    "
   ]
  },
  {
   "cell_type": "code",
   "execution_count": 10,
   "id": "47127bf8",
   "metadata": {},
   "outputs": [
    {
     "name": "stdout",
     "output_type": "stream",
     "text": [
      "[2, 4, 6, 8, 10, 12, 14, 16, 18, 20]\n"
     ]
    }
   ],
   "source": [
    "#i need a list of even numbers between 1,20\n",
    "evens = []\n",
    "for num in range(1,21):\n",
    "    if num%2==0:\n",
    "        evens.append(num)\n",
    "print(evens)    "
   ]
  },
  {
   "cell_type": "markdown",
   "id": "002350a8",
   "metadata": {},
   "source": [
    "# List Comprehension"
   ]
  },
  {
   "cell_type": "code",
   "execution_count": 18,
   "id": "f01c9b9a",
   "metadata": {},
   "outputs": [
    {
     "data": {
      "text/plain": [
       "[1, 3, 5, 7, 9, 11, 13, 15, 17, 19]"
      ]
     },
     "execution_count": 18,
     "metadata": {},
     "output_type": "execute_result"
    }
   ],
   "source": [
    "#odds list using only if in list comprehension\n",
    "[a for a in range(1,21) if a%2!=0]"
   ]
  },
  {
   "cell_type": "code",
   "execution_count": 19,
   "id": "1b882a37",
   "metadata": {},
   "outputs": [
    {
     "data": {
      "text/plain": [
       "[2, 4, 6, 8, 10, 12, 14, 16, 18, 20]"
      ]
     },
     "execution_count": 19,
     "metadata": {},
     "output_type": "execute_result"
    }
   ],
   "source": [
    "#evens list using only if in list comprehension\n",
    "[a for a in range(1,21) if a%2==0]"
   ]
  },
  {
   "cell_type": "raw",
   "id": "8ebab81a",
   "metadata": {},
   "source": [
    "Write a program that takes 5 values from user and classify them as odds and even in odds and evens list "
   ]
  },
  {
   "cell_type": "code",
   "execution_count": 20,
   "id": "f123b074",
   "metadata": {},
   "outputs": [
    {
     "name": "stdout",
     "output_type": "stream",
     "text": [
      "Enter a number2\n",
      "Enter a number3\n",
      "Enter a number4\n",
      "Enter a number5\n",
      "Enter a number6\n",
      "[2, 4, 6] [3, 5]\n"
     ]
    }
   ],
   "source": [
    "odds =[]\n",
    "evens= []\n",
    "for a in range(5):\n",
    "    num = int(input(\"Enter a number\"))\n",
    "    if num%2==0:\n",
    "        evens.append(num)\n",
    "    else:\n",
    "        odds.append(num)\n",
    "        \n",
    "print(evens,odds)        "
   ]
  },
  {
   "cell_type": "code",
   "execution_count": 14,
   "id": "085b5ec0",
   "metadata": {},
   "outputs": [
    {
     "name": "stdout",
     "output_type": "stream",
     "text": [
      "Enter a number3\n",
      "3 is odd\n",
      "Enter a number4\n",
      "4 is even\n",
      "Enter a number5\n",
      "5 is odd\n",
      "Enter a number6\n",
      "6 is even\n",
      "Enter a number7\n",
      "7 is odd\n"
     ]
    }
   ],
   "source": [
    "for a in range(5):\n",
    "    num = int(input(\"Enter a number\"))\n",
    "    if num%2==0:\n",
    "        print(f\"{num} is even\")\n",
    "    else:\n",
    "        print(f\"{num} is odd\") "
   ]
  },
  {
   "cell_type": "markdown",
   "id": "1f672e6c",
   "metadata": {},
   "source": [
    "##### Writing if else together in list comprehension"
   ]
  },
  {
   "cell_type": "code",
   "execution_count": 17,
   "id": "a12cfb9c",
   "metadata": {},
   "outputs": [
    {
     "data": {
      "text/plain": [
       "['1 is odd',\n",
       " '2 is even',\n",
       " '3 is odd',\n",
       " '4 is even',\n",
       " '5 is odd',\n",
       " '6 is even',\n",
       " '7 is odd',\n",
       " '8 is even',\n",
       " '9 is odd',\n",
       " '10 is even',\n",
       " '11 is odd',\n",
       " '12 is even',\n",
       " '13 is odd',\n",
       " '14 is even',\n",
       " '15 is odd',\n",
       " '16 is even',\n",
       " '17 is odd',\n",
       " '18 is even',\n",
       " '19 is odd',\n",
       " '20 is even']"
      ]
     },
     "execution_count": 17,
     "metadata": {},
     "output_type": "execute_result"
    }
   ],
   "source": [
    "[f\"{a} is even\" if a%2==0 else f\"{a} is odd\" for a in range(1,21)]"
   ]
  },
  {
   "cell_type": "code",
   "execution_count": 38,
   "id": "efc1b977",
   "metadata": {},
   "outputs": [
    {
     "name": "stdout",
     "output_type": "stream",
     "text": [
      "['mango', 'orange', 'orange', 'mango', 'orange', 'orange', 'mango', 'orange', 'orange', 'mango']\n"
     ]
    }
   ],
   "source": [
    "fruits = [\"mango\" if i%3==0 else \"orange\" for i in range(10)]\n",
    "print(fruits)"
   ]
  },
  {
   "cell_type": "raw",
   "id": "5d7b9c7a",
   "metadata": {},
   "source": [
    "Write a program that takes any number of values from user and classify them as odds and even in odds and evens list "
   ]
  },
  {
   "cell_type": "code",
   "execution_count": 23,
   "id": "19a842e7",
   "metadata": {},
   "outputs": [],
   "source": [
    "# Using split we can take as many input as given by user's wish.\n",
    "# The inputs will be stored in form of list \n",
    "# we can then iterate the list to use in code. "
   ]
  },
  {
   "cell_type": "code",
   "execution_count": 22,
   "id": "f5cebc6d",
   "metadata": {},
   "outputs": [
    {
     "name": "stdout",
     "output_type": "stream",
     "text": [
      "Enter a number1,2,3,4,5,6,7\n",
      "[2, 4, 6] [1, 3, 5, 7]\n"
     ]
    }
   ],
   "source": [
    "odds =[]\n",
    "evens= []\n",
    "nums = input(\"Enter a number\").split(\",\")\n",
    "for num in nums:\n",
    "    \n",
    "    num = int(num)\n",
    "\n",
    "    if (num)%2==0:\n",
    "        evens.append(num)\n",
    "    else:\n",
    "        odds.append(num)\n",
    "print(evens,odds)       "
   ]
  },
  {
   "cell_type": "code",
   "execution_count": 4,
   "id": "4c788576",
   "metadata": {},
   "outputs": [
    {
     "data": {
      "text/plain": [
       "([2, 4], [1, 3, 5])"
      ]
     },
     "execution_count": 4,
     "metadata": {},
     "output_type": "execute_result"
    }
   ],
   "source": [
    "evens,odds"
   ]
  },
  {
   "cell_type": "code",
   "execution_count": 60,
   "id": "26cac3ef",
   "metadata": {},
   "outputs": [
    {
     "name": "stdout",
     "output_type": "stream",
     "text": [
      "1,2,3,4,5,6,7,8,9,0\n"
     ]
    }
   ],
   "source": [
    "nums = input().split(\",\")"
   ]
  },
  {
   "cell_type": "code",
   "execution_count": 61,
   "id": "5ca28506",
   "metadata": {},
   "outputs": [
    {
     "data": {
      "text/plain": [
       "['1', '2', '3', '4', '5', '6', '7', '8', '9', '0']"
      ]
     },
     "execution_count": 61,
     "metadata": {},
     "output_type": "execute_result"
    }
   ],
   "source": [
    "nums"
   ]
  },
  {
   "cell_type": "code",
   "execution_count": 59,
   "id": "4bbc6da5",
   "metadata": {},
   "outputs": [
    {
     "data": {
      "text/plain": [
       "['P', 'kist', 'n']"
      ]
     },
     "execution_count": 59,
     "metadata": {},
     "output_type": "execute_result"
    }
   ],
   "source": [
    "\"Pakistan\".split(\"a\")"
   ]
  },
  {
   "cell_type": "code",
   "execution_count": 67,
   "id": "37401e5d",
   "metadata": {},
   "outputs": [
    {
     "name": "stdout",
     "output_type": "stream",
     "text": [
      "\n"
     ]
    },
    {
     "ename": "ValueError",
     "evalue": "invalid literal for int() with base 10: ''",
     "output_type": "error",
     "traceback": [
      "\u001b[1;31m---------------------------------------\u001b[0m",
      "\u001b[1;31mValueError\u001b[0mTraceback (most recent call last)",
      "\u001b[1;32m<ipython-input-67-2217776a002e>\u001b[0m in \u001b[0;36m<module>\u001b[1;34m\u001b[0m\n\u001b[0;32m      1\u001b[0m \u001b[0mnums\u001b[0m \u001b[1;33m=\u001b[0m \u001b[0minput\u001b[0m\u001b[1;33m(\u001b[0m\u001b[1;33m)\u001b[0m\u001b[1;33m.\u001b[0m\u001b[0msplit\u001b[0m\u001b[1;33m(\u001b[0m\u001b[1;34m\",\"\u001b[0m\u001b[1;33m)\u001b[0m\u001b[1;33m\u001b[0m\u001b[1;33m\u001b[0m\u001b[0m\n\u001b[0;32m      2\u001b[0m \u001b[1;32mfor\u001b[0m \u001b[0ma\u001b[0m \u001b[1;32min\u001b[0m \u001b[0mnums\u001b[0m\u001b[1;33m:\u001b[0m\u001b[1;33m\u001b[0m\u001b[1;33m\u001b[0m\u001b[0m\n\u001b[1;32m----> 3\u001b[1;33m     \u001b[0ma\u001b[0m \u001b[1;33m=\u001b[0m \u001b[0mint\u001b[0m\u001b[1;33m(\u001b[0m\u001b[0ma\u001b[0m\u001b[1;33m)\u001b[0m\u001b[1;33m\u001b[0m\u001b[1;33m\u001b[0m\u001b[0m\n\u001b[0m\u001b[0;32m      4\u001b[0m \u001b[1;33m\u001b[0m\u001b[0m\n",
      "\u001b[1;31mValueError\u001b[0m: invalid literal for int() with base 10: ''"
     ]
    }
   ],
   "source": [
    "nums = input().split(\",\")\n",
    "for a in nums:\n",
    "    a = int(a)\n",
    "    "
   ]
  },
  {
   "cell_type": "markdown",
   "id": "671af2ce",
   "metadata": {},
   "source": [
    "# While loop"
   ]
  },
  {
   "cell_type": "code",
   "execution_count": 6,
   "id": "18858af7",
   "metadata": {},
   "outputs": [
    {
     "name": "stdout",
     "output_type": "stream",
     "text": [
      "0\n",
      "1\n",
      "2\n",
      "3\n",
      "4\n",
      "5\n",
      "6\n",
      "7\n",
      "8\n",
      "9\n"
     ]
    }
   ],
   "source": [
    "a=0#12,3,4,5,6,7,8,9,10\n",
    "while a<10:\n",
    "    print(a)\n",
    "    a +=1"
   ]
  },
  {
   "cell_type": "code",
   "execution_count": 7,
   "id": "ec278aa1",
   "metadata": {},
   "outputs": [
    {
     "name": "stdout",
     "output_type": "stream",
     "text": [
      "10\n",
      "9\n",
      "8\n",
      "7\n",
      "6\n",
      "5\n",
      "4\n",
      "3\n",
      "2\n",
      "1\n"
     ]
    }
   ],
   "source": [
    "a=10#987654321\n",
    "while a>0:\n",
    "    print(a)\n",
    "    a -=1"
   ]
  },
  {
   "cell_type": "code",
   "execution_count": 8,
   "id": "e1defc7c",
   "metadata": {},
   "outputs": [
    {
     "name": "stdout",
     "output_type": "stream",
     "text": [
      "Enter a guest name or press q to exitHamza\n",
      "Enter a guest name or press q to exitNasir\n",
      "Enter a guest name or press q to exitABC\n",
      "Enter a guest name or press q to exitq\n"
     ]
    },
    {
     "data": {
      "text/plain": [
       "['Hamza', 'Nasir', 'ABC']"
      ]
     },
     "execution_count": 8,
     "metadata": {},
     "output_type": "execute_result"
    }
   ],
   "source": [
    "guest_list = []\n",
    "flag = True\n",
    "while flag:\n",
    "    guest_name = input(\"Enter a guest name or press q to exit\")\n",
    "    if guest_name == \"q\":\n",
    "        flag =False\n",
    "    else:\n",
    "        guest_list.append(guest_name)\n",
    "guest_list"
   ]
  },
  {
   "cell_type": "markdown",
   "id": "983c339c",
   "metadata": {},
   "source": [
    "# Dictionary"
   ]
  },
  {
   "cell_type": "code",
   "execution_count": 13,
   "id": "d6ce5713",
   "metadata": {},
   "outputs": [],
   "source": [
    "alist = []\n",
    "atuple = ()\n",
    "aset={2}\n",
    "adict = {\"name\":\"SSUET\"}"
   ]
  },
  {
   "cell_type": "code",
   "execution_count": 14,
   "id": "844be2da",
   "metadata": {},
   "outputs": [
    {
     "data": {
      "text/plain": [
       "(set, dict)"
      ]
     },
     "execution_count": 14,
     "metadata": {},
     "output_type": "execute_result"
    }
   ],
   "source": [
    "type(aset),type(adict)"
   ]
  },
  {
   "cell_type": "code",
   "execution_count": 15,
   "id": "6987f8ea",
   "metadata": {},
   "outputs": [],
   "source": [
    "student1 = {'roll':123, \"name\":'Fahad','course':\"AI\", \"Status\":True}"
   ]
  },
  {
   "cell_type": "code",
   "execution_count": 16,
   "id": "fada5cc5",
   "metadata": {},
   "outputs": [
    {
     "data": {
      "text/plain": [
       "'Fahad'"
      ]
     },
     "execution_count": 16,
     "metadata": {},
     "output_type": "execute_result"
    }
   ],
   "source": [
    "student1['name']"
   ]
  },
  {
   "cell_type": "code",
   "execution_count": 18,
   "id": "eb03d2cb",
   "metadata": {},
   "outputs": [
    {
     "data": {
      "text/plain": [
       "'AI'"
      ]
     },
     "execution_count": 18,
     "metadata": {},
     "output_type": "execute_result"
    }
   ],
   "source": [
    "student1['course']"
   ]
  },
  {
   "cell_type": "code",
   "execution_count": 19,
   "id": "cf91acae",
   "metadata": {},
   "outputs": [],
   "source": [
    "student1['email']=\"fahad@gmail;.com\""
   ]
  },
  {
   "cell_type": "code",
   "execution_count": 20,
   "id": "d2cf38a1",
   "metadata": {},
   "outputs": [
    {
     "data": {
      "text/plain": [
       "{'roll': 123,\n",
       " 'name': 'Fahad',\n",
       " 'course': 'AI',\n",
       " 'Status': True,\n",
       " 'email': 'fahad@gmail;.com'}"
      ]
     },
     "execution_count": 20,
     "metadata": {},
     "output_type": "execute_result"
    }
   ],
   "source": [
    "student1"
   ]
  },
  {
   "cell_type": "code",
   "execution_count": 21,
   "id": "8ebd5fbc",
   "metadata": {},
   "outputs": [],
   "source": [
    "del student1['roll']"
   ]
  },
  {
   "cell_type": "code",
   "execution_count": 22,
   "id": "404f6a1e",
   "metadata": {},
   "outputs": [
    {
     "data": {
      "text/plain": [
       "{'name': 'Fahad', 'course': 'AI', 'Status': True, 'email': 'fahad@gmail;.com'}"
      ]
     },
     "execution_count": 22,
     "metadata": {},
     "output_type": "execute_result"
    }
   ],
   "source": [
    "student1"
   ]
  },
  {
   "cell_type": "code",
   "execution_count": 23,
   "id": "075f2132",
   "metadata": {},
   "outputs": [
    {
     "name": "stdout",
     "output_type": "stream",
     "text": [
      "name\n",
      "course\n",
      "Status\n",
      "email\n"
     ]
    }
   ],
   "source": [
    "for a  in student1:\n",
    "    print(a)"
   ]
  },
  {
   "cell_type": "code",
   "execution_count": 24,
   "id": "a37ecb46",
   "metadata": {},
   "outputs": [
    {
     "name": "stdout",
     "output_type": "stream",
     "text": [
      "Fahad\n",
      "AI\n",
      "True\n",
      "fahad@gmail;.com\n"
     ]
    }
   ],
   "source": [
    "for key in student1:\n",
    "    print(student1[key])"
   ]
  },
  {
   "cell_type": "code",
   "execution_count": 25,
   "id": "8bdd881a",
   "metadata": {},
   "outputs": [
    {
     "name": "stdout",
     "output_type": "stream",
     "text": [
      "name\n",
      "course\n",
      "Status\n",
      "email\n"
     ]
    }
   ],
   "source": [
    "for key in student1.keys():\n",
    "    print(key)"
   ]
  },
  {
   "cell_type": "code",
   "execution_count": 27,
   "id": "1310be57",
   "metadata": {},
   "outputs": [
    {
     "name": "stdout",
     "output_type": "stream",
     "text": [
      "Fahad\n",
      "AI\n",
      "True\n",
      "fahad@gmail;.com\n"
     ]
    }
   ],
   "source": [
    "for key in student1.keys():\n",
    "    print(student1[key])"
   ]
  },
  {
   "cell_type": "code",
   "execution_count": 28,
   "id": "19e8d44b",
   "metadata": {},
   "outputs": [
    {
     "name": "stdout",
     "output_type": "stream",
     "text": [
      "Fahad\n",
      "AI\n",
      "True\n",
      "fahad@gmail;.com\n"
     ]
    }
   ],
   "source": [
    "for value in student1.values():\n",
    "    print(value)"
   ]
  },
  {
   "cell_type": "code",
   "execution_count": 29,
   "id": "c542d66e",
   "metadata": {},
   "outputs": [
    {
     "name": "stdout",
     "output_type": "stream",
     "text": [
      "name Fahad\n",
      "course AI\n",
      "Status True\n",
      "email fahad@gmail;.com\n"
     ]
    }
   ],
   "source": [
    "for k,v in student1.items():\n",
    "    print(k,v)"
   ]
  },
  {
   "cell_type": "markdown",
   "id": "bc38b8e4",
   "metadata": {},
   "source": [
    "# Paking or unpacking "
   ]
  },
  {
   "cell_type": "code",
   "execution_count": 31,
   "id": "bf38810d",
   "metadata": {},
   "outputs": [],
   "source": [
    "alist = [22,33]\n",
    "#packing"
   ]
  },
  {
   "cell_type": "code",
   "execution_count": 32,
   "id": "945bc8a7",
   "metadata": {},
   "outputs": [],
   "source": [
    "asad,fahad = alist\n",
    "#unpack"
   ]
  },
  {
   "cell_type": "code",
   "execution_count": 33,
   "id": "6e5ed95b",
   "metadata": {},
   "outputs": [
    {
     "data": {
      "text/plain": [
       "22"
      ]
     },
     "execution_count": 33,
     "metadata": {},
     "output_type": "execute_result"
    }
   ],
   "source": [
    "asad"
   ]
  },
  {
   "cell_type": "code",
   "execution_count": 34,
   "id": "54494b77",
   "metadata": {},
   "outputs": [
    {
     "data": {
      "text/plain": [
       "33"
      ]
     },
     "execution_count": 34,
     "metadata": {},
     "output_type": "execute_result"
    }
   ],
   "source": [
    "fahad"
   ]
  },
  {
   "cell_type": "code",
   "execution_count": 35,
   "id": "da1e8cce",
   "metadata": {},
   "outputs": [],
   "source": [
    "a =100, 200"
   ]
  },
  {
   "cell_type": "code",
   "execution_count": 36,
   "id": "36875639",
   "metadata": {},
   "outputs": [
    {
     "data": {
      "text/plain": [
       "(100, 200)"
      ]
     },
     "execution_count": 36,
     "metadata": {},
     "output_type": "execute_result"
    }
   ],
   "source": [
    "a"
   ]
  },
  {
   "cell_type": "code",
   "execution_count": 41,
   "id": "08409a91",
   "metadata": {},
   "outputs": [],
   "source": [
    "q = a"
   ]
  },
  {
   "cell_type": "code",
   "execution_count": 38,
   "id": "97801676",
   "metadata": {},
   "outputs": [
    {
     "data": {
      "text/plain": [
       "100"
      ]
     },
     "execution_count": 38,
     "metadata": {},
     "output_type": "execute_result"
    }
   ],
   "source": [
    "q"
   ]
  },
  {
   "cell_type": "code",
   "execution_count": 39,
   "id": "c5dc5aab",
   "metadata": {},
   "outputs": [
    {
     "data": {
      "text/plain": [
       "200"
      ]
     },
     "execution_count": 39,
     "metadata": {},
     "output_type": "execute_result"
    }
   ],
   "source": [
    "w\n"
   ]
  },
  {
   "cell_type": "code",
   "execution_count": 40,
   "id": "745c6fda",
   "metadata": {},
   "outputs": [
    {
     "name": "stdout",
     "output_type": "stream",
     "text": [
      "('name', 'Fahad')\n",
      "('course', 'AI')\n",
      "('Status', True)\n",
      "('email', 'fahad@gmail;.com')\n"
     ]
    }
   ],
   "source": [
    "for a  in student1.items():\n",
    "    print(a)"
   ]
  },
  {
   "cell_type": "code",
   "execution_count": null,
   "id": "3f5b6d0c",
   "metadata": {},
   "outputs": [],
   "source": []
  }
 ],
 "metadata": {
  "kernelspec": {
   "display_name": "Python 3 (ipykernel)",
   "language": "python",
   "name": "python3"
  },
  "language_info": {
   "codemirror_mode": {
    "name": "ipython",
    "version": 3
   },
   "file_extension": ".py",
   "mimetype": "text/x-python",
   "name": "python",
   "nbconvert_exporter": "python",
   "pygments_lexer": "ipython3",
   "version": "3.10.4"
  }
 },
 "nbformat": 4,
 "nbformat_minor": 5
}
