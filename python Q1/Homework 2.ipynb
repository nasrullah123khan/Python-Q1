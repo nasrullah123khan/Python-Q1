{
 "cells": [
  {
   "cell_type": "code",
   "execution_count": 1,
   "id": "92a3ef1e",
   "metadata": {},
   "outputs": [
    {
     "name": "stdout",
     "output_type": "stream",
     "text": [
      "Enter your name: Nasrullah\n"
     ]
    }
   ],
   "source": [
    "name = input(\"Enter your name: \")"
   ]
  },
  {
   "cell_type": "code",
   "execution_count": 2,
   "id": "7d4805d9",
   "metadata": {},
   "outputs": [
    {
     "name": "stdout",
     "output_type": "stream",
     "text": [
      "Nasrullah\n",
      "<class 'str'>\n"
     ]
    }
   ],
   "source": [
    "print(name)\n",
    "print(type(name))"
   ]
  },
  {
   "cell_type": "code",
   "execution_count": 3,
   "id": "6cea9be3",
   "metadata": {},
   "outputs": [
    {
     "name": "stdout",
     "output_type": "stream",
     "text": [
      "Tell me your age: 22\n",
      "22\n",
      "<class 'str'>\n"
     ]
    }
   ],
   "source": [
    "age = input(\"Tell me your age: \")\n",
    "print(age)\n",
    "print(type(age))"
   ]
  },
  {
   "cell_type": "code",
   "execution_count": 5,
   "id": "61359073",
   "metadata": {},
   "outputs": [
    {
     "name": "stdout",
     "output_type": "stream",
     "text": [
      "Tell me your age: 20\n",
      "20\n",
      "<class 'int'>\n"
     ]
    }
   ],
   "source": [
    "age = int(input(\"Tell me your age: \"))\n",
    "print(age)\n",
    "print(type(age))"
   ]
  },
  {
   "cell_type": "markdown",
   "id": "14896aa3",
   "metadata": {},
   "source": [
    "# more than one input"
   ]
  },
  {
   "cell_type": "code",
   "execution_count": 8,
   "id": "f982ba27",
   "metadata": {},
   "outputs": [
    {
     "name": "stdout",
     "output_type": "stream",
     "text": [
      "Tell me your age: 22,21\n"
     ]
    }
   ],
   "source": [
    "asad,usman = input(\"Tell me your age: \").split(',')"
   ]
  },
  {
   "cell_type": "code",
   "execution_count": 9,
   "id": "e2df5b18",
   "metadata": {},
   "outputs": [
    {
     "name": "stdout",
     "output_type": "stream",
     "text": [
      "22\n"
     ]
    }
   ],
   "source": [
    "print(asad)"
   ]
  },
  {
   "cell_type": "code",
   "execution_count": 10,
   "id": "d8ff5bca",
   "metadata": {},
   "outputs": [
    {
     "name": "stdout",
     "output_type": "stream",
     "text": [
      "21\n"
     ]
    }
   ],
   "source": [
    "print(usman)"
   ]
  },
  {
   "cell_type": "code",
   "execution_count": 16,
   "id": "b57f3f20",
   "metadata": {},
   "outputs": [
    {
     "name": "stdout",
     "output_type": "stream",
     "text": [
      "\n",
      "the age of usman is 21\n",
      "the age of asad is 22\n",
      "\n",
      "\n"
     ]
    }
   ],
   "source": [
    "print(f\"\"\"\n",
    "the age of usman is {usman}\n",
    "the age of asad is {asad}\n",
    "\n",
    "\"\"\")"
   ]
  },
  {
   "cell_type": "code",
   "execution_count": 13,
   "id": "76a8dd89",
   "metadata": {},
   "outputs": [
    {
     "data": {
      "text/plain": [
       "'22'"
      ]
     },
     "execution_count": 13,
     "metadata": {},
     "output_type": "execute_result"
    }
   ],
   "source": [
    "asad"
   ]
  },
  {
   "cell_type": "code",
   "execution_count": 17,
   "id": "d20128a7",
   "metadata": {},
   "outputs": [
    {
     "data": {
      "text/plain": [
       "int"
      ]
     },
     "execution_count": 17,
     "metadata": {},
     "output_type": "execute_result"
    }
   ],
   "source": [
    "type(100)"
   ]
  },
  {
   "cell_type": "code",
   "execution_count": 19,
   "id": "4da668f0",
   "metadata": {},
   "outputs": [
    {
     "data": {
      "text/plain": [
       "str"
      ]
     },
     "execution_count": 19,
     "metadata": {},
     "output_type": "execute_result"
    }
   ],
   "source": [
    "(type(\"500\"))"
   ]
  },
  {
   "cell_type": "markdown",
   "id": "72cb993c",
   "metadata": {},
   "source": [
    "# type casting\n",
    "- changing the data type of a value to another data type is called typecasting"
   ]
  },
  {
   "cell_type": "code",
   "execution_count": 1,
   "id": "a05ee1e1",
   "metadata": {},
   "outputs": [
    {
     "data": {
      "text/plain": [
       "int"
      ]
     },
     "execution_count": 1,
     "metadata": {},
     "output_type": "execute_result"
    }
   ],
   "source": [
    "type(100)"
   ]
  },
  {
   "cell_type": "code",
   "execution_count": 2,
   "id": "0745a28b",
   "metadata": {},
   "outputs": [
    {
     "data": {
      "text/plain": [
       "str"
      ]
     },
     "execution_count": 2,
     "metadata": {},
     "output_type": "execute_result"
    }
   ],
   "source": [
    "type(str(100))"
   ]
  },
  {
   "cell_type": "code",
   "execution_count": 4,
   "id": "b41ad6ee",
   "metadata": {},
   "outputs": [
    {
     "data": {
      "text/plain": [
       "int"
      ]
     },
     "execution_count": 4,
     "metadata": {},
     "output_type": "execute_result"
    }
   ],
   "source": [
    "type(int(\"500\"))"
   ]
  },
  {
   "cell_type": "code",
   "execution_count": 5,
   "id": "15b0d29c",
   "metadata": {},
   "outputs": [
    {
     "ename": "ValueError",
     "evalue": "invalid literal for int() with base 10: 'Nasr'",
     "output_type": "error",
     "traceback": [
      "\u001b[1;31m---------------------------------------------------------------------------\u001b[0m",
      "\u001b[1;31mValueError\u001b[0m                                Traceback (most recent call last)",
      "Input \u001b[1;32mIn [5]\u001b[0m, in \u001b[0;36m<cell line: 1>\u001b[1;34m()\u001b[0m\n\u001b[1;32m----> 1\u001b[0m \u001b[38;5;28mtype\u001b[39m(\u001b[38;5;28;43mint\u001b[39;49m\u001b[43m(\u001b[49m\u001b[38;5;124;43m\"\u001b[39;49m\u001b[38;5;124;43mNasr\u001b[39;49m\u001b[38;5;124;43m\"\u001b[39;49m\u001b[43m)\u001b[49m)\n",
      "\u001b[1;31mValueError\u001b[0m: invalid literal for int() with base 10: 'Nasr'"
     ]
    }
   ],
   "source": [
    "type(int(\"Nasr\"))"
   ]
  },
  {
   "cell_type": "code",
   "execution_count": 6,
   "id": "ee11a621",
   "metadata": {},
   "outputs": [
    {
     "data": {
      "text/plain": [
       "str"
      ]
     },
     "execution_count": 6,
     "metadata": {},
     "output_type": "execute_result"
    }
   ],
   "source": [
    "type(\"Nasr\")"
   ]
  },
  {
   "cell_type": "code",
   "execution_count": 7,
   "id": "452465b8",
   "metadata": {},
   "outputs": [
    {
     "ename": "ValueError",
     "evalue": "invalid literal for int() with base 10: 'asad'",
     "output_type": "error",
     "traceback": [
      "\u001b[1;31m---------------------------------------------------------------------------\u001b[0m",
      "\u001b[1;31mValueError\u001b[0m                                Traceback (most recent call last)",
      "Input \u001b[1;32mIn [7]\u001b[0m, in \u001b[0;36m<cell line: 1>\u001b[1;34m()\u001b[0m\n\u001b[1;32m----> 1\u001b[0m \u001b[38;5;28;43mint\u001b[39;49m\u001b[43m(\u001b[49m\u001b[38;5;124;43m\"\u001b[39;49m\u001b[38;5;124;43masad\u001b[39;49m\u001b[38;5;124;43m\"\u001b[39;49m\u001b[43m)\u001b[49m\n",
      "\u001b[1;31mValueError\u001b[0m: invalid literal for int() with base 10: 'asad'"
     ]
    }
   ],
   "source": [
    "int(\"asad\")"
   ]
  },
  {
   "cell_type": "markdown",
   "id": "2edcaa87",
   "metadata": {},
   "source": [
    "# String\n",
    "- Python has a string class\n",
    "- Every String created in python is an object og string class\n",
    "- Every string has all the string functions of string class"
   ]
  },
  {
   "cell_type": "code",
   "execution_count": 8,
   "id": "32f8098b",
   "metadata": {},
   "outputs": [],
   "source": [
    "country = \"Pakistan\""
   ]
  },
  {
   "cell_type": "code",
   "execution_count": 9,
   "id": "faa3e934",
   "metadata": {},
   "outputs": [
    {
     "data": {
      "text/plain": [
       "'pakistan'"
      ]
     },
     "execution_count": 9,
     "metadata": {},
     "output_type": "execute_result"
    }
   ],
   "source": [
    "country.lower()"
   ]
  },
  {
   "cell_type": "code",
   "execution_count": 10,
   "id": "fbca71c5",
   "metadata": {},
   "outputs": [
    {
     "data": {
      "text/plain": [
       "'PAKISTAN'"
      ]
     },
     "execution_count": 10,
     "metadata": {},
     "output_type": "execute_result"
    }
   ],
   "source": [
    "country.upper()"
   ]
  },
  {
   "cell_type": "code",
   "execution_count": 11,
   "id": "a608963e",
   "metadata": {},
   "outputs": [
    {
     "data": {
      "text/plain": [
       "'Pakistan'"
      ]
     },
     "execution_count": 11,
     "metadata": {},
     "output_type": "execute_result"
    }
   ],
   "source": [
    "country.title()"
   ]
  },
  {
   "cell_type": "code",
   "execution_count": 12,
   "id": "38529cca",
   "metadata": {},
   "outputs": [],
   "source": [
    "sentence = \"hi, welcome to python word\""
   ]
  },
  {
   "cell_type": "code",
   "execution_count": 15,
   "id": "a4b56955",
   "metadata": {},
   "outputs": [
    {
     "data": {
      "text/plain": [
       "'Hi, welcome to python word'"
      ]
     },
     "execution_count": 15,
     "metadata": {},
     "output_type": "execute_result"
    }
   ],
   "source": [
    "sentence.capitalize()"
   ]
  },
  {
   "cell_type": "code",
   "execution_count": 17,
   "id": "b4d9081f",
   "metadata": {},
   "outputs": [
    {
     "data": {
      "text/plain": [
       "1"
      ]
     },
     "execution_count": 17,
     "metadata": {},
     "output_type": "execute_result"
    }
   ],
   "source": [
    "sentence.count('p')"
   ]
  },
  {
   "cell_type": "code",
   "execution_count": 18,
   "id": "132bef9e",
   "metadata": {},
   "outputs": [
    {
     "data": {
      "text/plain": [
       "False"
      ]
     },
     "execution_count": 18,
     "metadata": {},
     "output_type": "execute_result"
    }
   ],
   "source": [
    "sentence.endswith('ld')"
   ]
  },
  {
   "cell_type": "code",
   "execution_count": 19,
   "id": "b8f57a8c",
   "metadata": {},
   "outputs": [
    {
     "data": {
      "text/plain": [
       "True"
      ]
     },
     "execution_count": 19,
     "metadata": {},
     "output_type": "execute_result"
    }
   ],
   "source": [
    "sentence.startswith(\"h\")"
   ]
  },
  {
   "cell_type": "code",
   "execution_count": 21,
   "id": "39a394cb",
   "metadata": {},
   "outputs": [
    {
     "data": {
      "text/plain": [
       "4"
      ]
     },
     "execution_count": 21,
     "metadata": {},
     "output_type": "execute_result"
    }
   ],
   "source": [
    "sentence.find(\"w\")"
   ]
  },
  {
   "cell_type": "code",
   "execution_count": 24,
   "id": "314da984",
   "metadata": {},
   "outputs": [],
   "source": [
    "text = \"Hello my friends\""
   ]
  },
  {
   "cell_type": "code",
   "execution_count": 25,
   "id": "5cf87125",
   "metadata": {},
   "outputs": [
    {
     "data": {
      "text/plain": [
       "'l'"
      ]
     },
     "execution_count": 25,
     "metadata": {},
     "output_type": "execute_result"
    }
   ],
   "source": [
    "text[3]"
   ]
  },
  {
   "cell_type": "code",
   "execution_count": 26,
   "id": "e69a448f",
   "metadata": {},
   "outputs": [
    {
     "data": {
      "text/plain": [
       "'e'"
      ]
     },
     "execution_count": 26,
     "metadata": {},
     "output_type": "execute_result"
    }
   ],
   "source": [
    "text[-4]"
   ]
  },
  {
   "cell_type": "code",
   "execution_count": 27,
   "id": "34df3c1e",
   "metadata": {},
   "outputs": [
    {
     "data": {
      "text/plain": [
       "'Hello my friends'"
      ]
     },
     "execution_count": 27,
     "metadata": {},
     "output_type": "execute_result"
    }
   ],
   "source": [
    "text"
   ]
  },
  {
   "cell_type": "code",
   "execution_count": 28,
   "id": "43828bb3",
   "metadata": {},
   "outputs": [
    {
     "data": {
      "text/plain": [
       "1"
      ]
     },
     "execution_count": 28,
     "metadata": {},
     "output_type": "execute_result"
    }
   ],
   "source": [
    "text.find(\"e\")"
   ]
  },
  {
   "cell_type": "code",
   "execution_count": 29,
   "id": "b29e0ba8",
   "metadata": {},
   "outputs": [
    {
     "data": {
      "text/plain": [
       "12"
      ]
     },
     "execution_count": 29,
     "metadata": {},
     "output_type": "execute_result"
    }
   ],
   "source": [
    "text.find(\"e\",2)"
   ]
  },
  {
   "cell_type": "code",
   "execution_count": 31,
   "id": "f22bf716",
   "metadata": {},
   "outputs": [
    {
     "data": {
      "text/plain": [
       "7"
      ]
     },
     "execution_count": 31,
     "metadata": {},
     "output_type": "execute_result"
    }
   ],
   "source": [
    "text.index(\"y\")"
   ]
  },
  {
   "cell_type": "code",
   "execution_count": 32,
   "id": "b2f36a5e",
   "metadata": {},
   "outputs": [
    {
     "data": {
      "text/plain": [
       "False"
      ]
     },
     "execution_count": 32,
     "metadata": {},
     "output_type": "execute_result"
    }
   ],
   "source": [
    "text.isalnum()"
   ]
  },
  {
   "cell_type": "code",
   "execution_count": 33,
   "id": "5a386b59",
   "metadata": {},
   "outputs": [
    {
     "data": {
      "text/plain": [
       "False"
      ]
     },
     "execution_count": 33,
     "metadata": {},
     "output_type": "execute_result"
    }
   ],
   "source": [
    "text.isalpha()"
   ]
  },
  {
   "cell_type": "code",
   "execution_count": 34,
   "id": "e95d6bb9",
   "metadata": {},
   "outputs": [
    {
     "data": {
      "text/plain": [
       "True"
      ]
     },
     "execution_count": 34,
     "metadata": {},
     "output_type": "execute_result"
    }
   ],
   "source": [
    "text.isascii()"
   ]
  },
  {
   "cell_type": "code",
   "execution_count": 36,
   "id": "3622d2d5",
   "metadata": {},
   "outputs": [
    {
     "data": {
      "text/plain": [
       "'N'"
      ]
     },
     "execution_count": 36,
     "metadata": {},
     "output_type": "execute_result"
    }
   ],
   "source": [
    "chr(78)"
   ]
  },
  {
   "cell_type": "markdown",
   "id": "5b5f96e4",
   "metadata": {},
   "source": [
    "# Conacatenation\n",
    "- joining two or more strings together is called concatenation"
   ]
  },
  {
   "cell_type": "code",
   "execution_count": 37,
   "id": "3fe5fb65",
   "metadata": {},
   "outputs": [],
   "source": [
    "first_name = \"Nasrullah\"\n",
    "last_name = \"Khan\""
   ]
  },
  {
   "cell_type": "code",
   "execution_count": 42,
   "id": "8d1a1809",
   "metadata": {},
   "outputs": [
    {
     "name": "stdout",
     "output_type": "stream",
     "text": [
      "Name: Nasrullah Khan\n",
      " Age: 22\n"
     ]
    }
   ],
   "source": [
    "print(\"Name: \"+first_name+\" \"+last_name+\"\\n Age: \"+str(22))"
   ]
  },
  {
   "cell_type": "code",
   "execution_count": 56,
   "id": "82d7e31d",
   "metadata": {},
   "outputs": [
    {
     "name": "stdout",
     "output_type": "stream",
     "text": [
      "Enter your Name Nasrullah\n",
      "Enter your Age 222\n",
      "User Name is Nasrullah and Age is 222\n"
     ]
    }
   ],
   "source": [
    "userName = input(\"Enter your Name \")\n",
    "userAge = int(input(\"Enter your Age \"))\n",
    "print(\"User Name is \" + userName + \" and Age is \" + str(userAge))"
   ]
  },
  {
   "cell_type": "code",
   "execution_count": 57,
   "id": "28251a2f",
   "metadata": {},
   "outputs": [],
   "source": [
    "after_ten_year = userAge + 10"
   ]
  },
  {
   "cell_type": "code",
   "execution_count": 59,
   "id": "d10a0dc5",
   "metadata": {},
   "outputs": [
    {
     "data": {
      "text/plain": [
       "232"
      ]
     },
     "execution_count": 59,
     "metadata": {},
     "output_type": "execute_result"
    }
   ],
   "source": [
    "after_ten_year"
   ]
  },
  {
   "cell_type": "code",
   "execution_count": 61,
   "id": "43aa49de",
   "metadata": {},
   "outputs": [
    {
     "name": "stdout",
     "output_type": "stream",
     "text": [
      "Enter your Name Nasrullah\n",
      "Enter your Age 22\n",
      "user Name is Nasrullah and age is 22 \n"
     ]
    }
   ],
   "source": [
    "userName = input(\"Enter your Name \")\n",
    "userAge = int(input(\"Enter your Age \"))\n",
    "print(\"user Name is {} and age is {} \".format(userName,userAge))"
   ]
  },
  {
   "cell_type": "code",
   "execution_count": 62,
   "id": "d3049d5f",
   "metadata": {},
   "outputs": [
    {
     "name": "stdout",
     "output_type": "stream",
     "text": [
      "User Name is Nasrullah and Age is 22 \n"
     ]
    }
   ],
   "source": [
    "print(\"User Name is {0} and Age is {1} \".format(\"Nasrullah\",22))"
   ]
  },
  {
   "cell_type": "code",
   "execution_count": 65,
   "id": "d66533f5",
   "metadata": {},
   "outputs": [
    {
     "name": "stdout",
     "output_type": "stream",
     "text": [
      "User Name is 22 and Age is Nasrullah\n"
     ]
    }
   ],
   "source": [
    "print(\"User Name is {1} and Age is {0}\".format(\"Nasrullah\",22))"
   ]
  },
  {
   "cell_type": "code",
   "execution_count": 66,
   "id": "d5b9ec80",
   "metadata": {},
   "outputs": [
    {
     "name": "stdout",
     "output_type": "stream",
     "text": [
      "User Name is Nasrullah and Age is 22 Nasrullah\n"
     ]
    }
   ],
   "source": [
    "print(\"User Name is {0} and Age is {1} {0}\".format(\"Nasrullah\",22))"
   ]
  },
  {
   "cell_type": "markdown",
   "id": "370d2db4",
   "metadata": {},
   "source": [
    "# f- method"
   ]
  },
  {
   "cell_type": "code",
   "execution_count": 67,
   "id": "6aee1655",
   "metadata": {},
   "outputs": [
    {
     "name": "stdout",
     "output_type": "stream",
     "text": [
      "Enter Name Nasrullah\n",
      "Enger Age 22\n"
     ]
    },
    {
     "data": {
      "text/plain": [
       "'User Name is Nasrullah and user Age is 22'"
      ]
     },
     "execution_count": 67,
     "metadata": {},
     "output_type": "execute_result"
    }
   ],
   "source": [
    "name = input(\"Enter Name \")\n",
    "age = int(input(\"Enger Age \"))\n",
    "f\"User Name is {name} and user Age is {age}\""
   ]
  },
  {
   "cell_type": "markdown",
   "id": "48e93088",
   "metadata": {},
   "source": [
    "# Multiple line strings"
   ]
  },
  {
   "cell_type": "code",
   "execution_count": 3,
   "id": "71f68243",
   "metadata": {},
   "outputs": [
    {
     "name": "stdout",
     "output_type": "stream",
     "text": [
      "I am learning python. \n",
      " and we are in karachi\n"
     ]
    }
   ],
   "source": [
    "print(\"I am learning python. \\n and we are in karachi\")"
   ]
  },
  {
   "cell_type": "code",
   "execution_count": 4,
   "id": "dd8c1494",
   "metadata": {},
   "outputs": [],
   "source": [
    "a_single_quote_Stirng_value = 'I am single quote string value'"
   ]
  },
  {
   "cell_type": "code",
   "execution_count": 5,
   "id": "c6526785",
   "metadata": {},
   "outputs": [],
   "source": [
    "double_quote_string_value = \"I am double quote string value\""
   ]
  },
  {
   "cell_type": "code",
   "execution_count": 6,
   "id": "dd64a6aa",
   "metadata": {},
   "outputs": [],
   "source": [
    "a_triple_quote_string_value = '''i am a triple quote string value'''"
   ]
  },
  {
   "cell_type": "code",
   "execution_count": 7,
   "id": "c0b0a93a",
   "metadata": {},
   "outputs": [],
   "source": [
    "triple_double_quote_string_value = \"\"\"i am a triple double quote string vlue\"\"\""
   ]
  },
  {
   "cell_type": "code",
   "execution_count": 8,
   "id": "6f3989fb",
   "metadata": {},
   "outputs": [
    {
     "name": "stdout",
     "output_type": "stream",
     "text": [
      "Enter your Namenasrullah\n",
      "Enter your Father NameMakhawar khan\n",
      "Enter your course NameAI\n",
      "Enter your batch2022\n",
      "Enter your centerSir syed university\n"
     ]
    }
   ],
   "source": [
    "name = input(\"Enter your Name\")\n",
    "father = input(\"Enter your Father Name\")\n",
    "course = input(\"Enter your course Name\")\n",
    "batch = int(input(\"Enter your batch\"))\n",
    "center = input(\"Enter your center\")"
   ]
  },
  {
   "cell_type": "code",
   "execution_count": 11,
   "id": "17f0feef",
   "metadata": {},
   "outputs": [
    {
     "name": "stdout",
     "output_type": "stream",
     "text": [
      "\n",
      "    ID Card\n",
      "Name   : nasrullah\n",
      "Father : Makhawar khan\n",
      "Course : AI\n",
      "Batch  : 2022\n",
      "Center : Sir syed university\n",
      "\n",
      "\n",
      "\n"
     ]
    }
   ],
   "source": [
    "print(f\"\"\"\n",
    "    ID Card\n",
    "Name   : {name}\n",
    "Father : {father}\n",
    "Course : {course}\n",
    "Batch  : {batch}\n",
    "Center : {center}\n",
    "\n",
    "\n",
    "\"\"\")"
   ]
  },
  {
   "cell_type": "code",
   "execution_count": null,
   "id": "17a5bb43",
   "metadata": {},
   "outputs": [],
   "source": []
  }
 ],
 "metadata": {
  "kernelspec": {
   "display_name": "Python 3 (ipykernel)",
   "language": "python",
   "name": "python3"
  },
  "language_info": {
   "codemirror_mode": {
    "name": "ipython",
    "version": 3
   },
   "file_extension": ".py",
   "mimetype": "text/x-python",
   "name": "python",
   "nbconvert_exporter": "python",
   "pygments_lexer": "ipython3",
   "version": "3.10.4"
  }
 },
 "nbformat": 4,
 "nbformat_minor": 5
}
