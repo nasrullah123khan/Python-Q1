{
 "cells": [
  {
   "cell_type": "raw",
   "id": "1f33f38f",
   "metadata": {},
   "source": [
    "- List\n",
    "- Set\n",
    "- Tuple\n",
    "- Dictionary"
   ]
  },
  {
   "cell_type": "code",
   "execution_count": 1,
   "id": "c58722b4",
   "metadata": {},
   "outputs": [],
   "source": [
    "students = []"
   ]
  },
  {
   "cell_type": "code",
   "execution_count": 2,
   "id": "97fddfb5",
   "metadata": {},
   "outputs": [
    {
     "data": {
      "text/plain": [
       "list"
      ]
     },
     "execution_count": 2,
     "metadata": {},
     "output_type": "execute_result"
    }
   ],
   "source": [
    "type(students)"
   ]
  },
  {
   "cell_type": "code",
   "execution_count": 3,
   "id": "b450f1e1",
   "metadata": {},
   "outputs": [
    {
     "data": {
      "text/plain": [
       "0"
      ]
     },
     "execution_count": 3,
     "metadata": {},
     "output_type": "execute_result"
    }
   ],
   "source": [
    "len(students)"
   ]
  },
  {
   "cell_type": "code",
   "execution_count": 4,
   "id": "69610e0a",
   "metadata": {},
   "outputs": [],
   "source": [
    "students = [\"Asad\",\"Ali\",\"Daad\",\"Hassan\"]"
   ]
  },
  {
   "cell_type": "code",
   "execution_count": 5,
   "id": "77fd4239",
   "metadata": {},
   "outputs": [
    {
     "data": {
      "text/plain": [
       "['Asad', 'Ali', 'Daad', 'Hassan']"
      ]
     },
     "execution_count": 5,
     "metadata": {},
     "output_type": "execute_result"
    }
   ],
   "source": [
    "students"
   ]
  },
  {
   "cell_type": "code",
   "execution_count": 6,
   "id": "f2d7cd19",
   "metadata": {},
   "outputs": [
    {
     "data": {
      "text/plain": [
       "'Daad'"
      ]
     },
     "execution_count": 6,
     "metadata": {},
     "output_type": "execute_result"
    }
   ],
   "source": [
    "students[2]"
   ]
  },
  {
   "cell_type": "code",
   "execution_count": 7,
   "id": "6c59d4ae",
   "metadata": {},
   "outputs": [
    {
     "data": {
      "text/plain": [
       "'Daad'"
      ]
     },
     "execution_count": 7,
     "metadata": {},
     "output_type": "execute_result"
    }
   ],
   "source": [
    "students[-2]"
   ]
  },
  {
   "cell_type": "code",
   "execution_count": 8,
   "id": "275fd61b",
   "metadata": {},
   "outputs": [],
   "source": [
    "miscList = [\"Nasrullah\",12,True,3.71,[11,22,33]]"
   ]
  },
  {
   "cell_type": "code",
   "execution_count": 9,
   "id": "75e3ad2a",
   "metadata": {},
   "outputs": [
    {
     "data": {
      "text/plain": [
       "3.71"
      ]
     },
     "execution_count": 9,
     "metadata": {},
     "output_type": "execute_result"
    }
   ],
   "source": [
    "miscList[3]"
   ]
  },
  {
   "cell_type": "code",
   "execution_count": 10,
   "id": "390b12ec",
   "metadata": {},
   "outputs": [
    {
     "data": {
      "text/plain": [
       "[11, 22, 33]"
      ]
     },
     "execution_count": 10,
     "metadata": {},
     "output_type": "execute_result"
    }
   ],
   "source": [
    "miscList[-1]"
   ]
  },
  {
   "cell_type": "code",
   "execution_count": 14,
   "id": "0c1fa485",
   "metadata": {},
   "outputs": [
    {
     "data": {
      "text/plain": [
       "33"
      ]
     },
     "execution_count": 14,
     "metadata": {},
     "output_type": "execute_result"
    }
   ],
   "source": [
    "miscList[-1][2]"
   ]
  },
  {
   "cell_type": "code",
   "execution_count": 15,
   "id": "326b58f3",
   "metadata": {},
   "outputs": [],
   "source": [
    "miscList[2] = False"
   ]
  },
  {
   "cell_type": "code",
   "execution_count": 17,
   "id": "8c4753c1",
   "metadata": {},
   "outputs": [
    {
     "data": {
      "text/plain": [
       "['Nasrullah', 12, False, 3.71, [11, 22, 33]]"
      ]
     },
     "execution_count": 17,
     "metadata": {},
     "output_type": "execute_result"
    }
   ],
   "source": [
    "miscList"
   ]
  },
  {
   "cell_type": "code",
   "execution_count": 18,
   "id": "09195b0d",
   "metadata": {},
   "outputs": [],
   "source": [
    "miscList[2] = 'Hello'"
   ]
  },
  {
   "cell_type": "code",
   "execution_count": 19,
   "id": "34fa0366",
   "metadata": {},
   "outputs": [
    {
     "data": {
      "text/plain": [
       "['Nasrullah', 12, 'Hello', 3.71, [11, 22, 33]]"
      ]
     },
     "execution_count": 19,
     "metadata": {},
     "output_type": "execute_result"
    }
   ],
   "source": [
    "miscList"
   ]
  },
  {
   "cell_type": "code",
   "execution_count": 20,
   "id": "f3cf0f06",
   "metadata": {},
   "outputs": [
    {
     "data": {
      "text/plain": [
       "['Nasrullah', 12, 'Hello', 3.71, [11, 22, 33]]"
      ]
     },
     "execution_count": 20,
     "metadata": {},
     "output_type": "execute_result"
    }
   ],
   "source": [
    "miscList"
   ]
  },
  {
   "cell_type": "markdown",
   "id": "bd239f69",
   "metadata": {},
   "source": [
    "# Inserting in a list\n",
    "-append() -insert()"
   ]
  },
  {
   "cell_type": "code",
   "execution_count": 21,
   "id": "69838f7c",
   "metadata": {},
   "outputs": [],
   "source": [
    "miscList.append(1000)"
   ]
  },
  {
   "cell_type": "code",
   "execution_count": 22,
   "id": "b9856887",
   "metadata": {},
   "outputs": [
    {
     "data": {
      "text/plain": [
       "['Nasrullah', 12, 'Hello', 3.71, [11, 22, 33], 1000]"
      ]
     },
     "execution_count": 22,
     "metadata": {},
     "output_type": "execute_result"
    }
   ],
   "source": [
    "miscList"
   ]
  },
  {
   "cell_type": "code",
   "execution_count": 23,
   "id": "52e09568",
   "metadata": {},
   "outputs": [
    {
     "data": {
      "text/plain": [
       "['Asad', 'Ali', 'Daad', 'Hassan']"
      ]
     },
     "execution_count": 23,
     "metadata": {},
     "output_type": "execute_result"
    }
   ],
   "source": [
    "students"
   ]
  },
  {
   "cell_type": "code",
   "execution_count": 24,
   "id": "f051054c",
   "metadata": {},
   "outputs": [],
   "source": [
    "students.insert(2,\"Rehan\")"
   ]
  },
  {
   "cell_type": "code",
   "execution_count": 25,
   "id": "9922184a",
   "metadata": {},
   "outputs": [
    {
     "data": {
      "text/plain": [
       "['Asad', 'Ali', 'Rehan', 'Daad', 'Hassan']"
      ]
     },
     "execution_count": 25,
     "metadata": {},
     "output_type": "execute_result"
    }
   ],
   "source": [
    "students"
   ]
  },
  {
   "cell_type": "code",
   "execution_count": 26,
   "id": "834aa794",
   "metadata": {},
   "outputs": [
    {
     "data": {
      "text/plain": [
       "['Asad', 'Ali', ['Rehan', 'Rayyan', 'Farhan'], 'Rehan', 'Daad', 'Hassan']"
      ]
     },
     "execution_count": 26,
     "metadata": {},
     "output_type": "execute_result"
    }
   ],
   "source": [
    "students.insert(2,[\"Rehan\",\"Rayyan\",\"Farhan\"])\n",
    "students"
   ]
  },
  {
   "cell_type": "markdown",
   "id": "f9f86f68",
   "metadata": {},
   "source": [
    "# Delete or remove members from list\n",
    "- del\n",
    "- remove\n",
    "- pop"
   ]
  },
  {
   "cell_type": "code",
   "execution_count": 28,
   "id": "30f7dc3e",
   "metadata": {},
   "outputs": [
    {
     "data": {
      "text/plain": [
       "['Nasrullah', 12, 3.71, [11, 22, 33], 1000]"
      ]
     },
     "execution_count": 28,
     "metadata": {},
     "output_type": "execute_result"
    }
   ],
   "source": [
    "del miscList[2]\n",
    "miscList"
   ]
  },
  {
   "cell_type": "code",
   "execution_count": 29,
   "id": "c3ff772e",
   "metadata": {},
   "outputs": [
    {
     "data": {
      "text/plain": [
       "['Asad', 'Ali', ['Rehan', 'Rayyan', 'Farhan'], 'Rehan', 'Daad', 'Hassan']"
      ]
     },
     "execution_count": 29,
     "metadata": {},
     "output_type": "execute_result"
    }
   ],
   "source": [
    "students"
   ]
  },
  {
   "cell_type": "code",
   "execution_count": 30,
   "id": "e516ac2e",
   "metadata": {},
   "outputs": [
    {
     "data": {
      "text/plain": [
       "['Asad', 'Ali', ['Rehan', 'Rayyan', 'Farhan'], 'Daad', 'Hassan']"
      ]
     },
     "execution_count": 30,
     "metadata": {},
     "output_type": "execute_result"
    }
   ],
   "source": [
    "students.remove(\"Rehan\")\n",
    "students"
   ]
  },
  {
   "cell_type": "code",
   "execution_count": 31,
   "id": "03faca8a",
   "metadata": {},
   "outputs": [],
   "source": [
    "students.insert(1,\"Ali\")"
   ]
  },
  {
   "cell_type": "code",
   "execution_count": 32,
   "id": "e562a15c",
   "metadata": {},
   "outputs": [
    {
     "data": {
      "text/plain": [
       "['Asad', 'Ali', 'Ali', ['Rehan', 'Rayyan', 'Farhan'], 'Daad', 'Hassan']"
      ]
     },
     "execution_count": 32,
     "metadata": {},
     "output_type": "execute_result"
    }
   ],
   "source": [
    "students"
   ]
  },
  {
   "cell_type": "code",
   "execution_count": 43,
   "id": "9856f3fa",
   "metadata": {},
   "outputs": [
    {
     "data": {
      "text/plain": [
       "['Asad',\n",
       " 'Ali',\n",
       " 'Ali',\n",
       " ['Rehan', 'Rayyan', 'Farhan'],\n",
       " 'Daad',\n",
       " 'Hassan',\n",
       " 'Python',\n",
       " 'Python',\n",
       " 'Python',\n",
       " 'Python',\n",
       " 'Python']"
      ]
     },
     "execution_count": 43,
     "metadata": {},
     "output_type": "execute_result"
    }
   ],
   "source": [
    "students.insert(10,\"Python\")\n",
    "students"
   ]
  },
  {
   "cell_type": "code",
   "execution_count": 41,
   "id": "6eb9bc5b",
   "metadata": {},
   "outputs": [
    {
     "ename": "IndexError",
     "evalue": "list index out of range",
     "output_type": "error",
     "traceback": [
      "\u001b[1;31m---------------------------------------------------------------------------\u001b[0m",
      "\u001b[1;31mIndexError\u001b[0m                                Traceback (most recent call last)",
      "Input \u001b[1;32mIn [41]\u001b[0m, in \u001b[0;36m<cell line: 1>\u001b[1;34m()\u001b[0m\n\u001b[1;32m----> 1\u001b[0m \u001b[43mstudents\u001b[49m\u001b[43m[\u001b[49m\u001b[38;5;241;43m10\u001b[39;49m\u001b[43m]\u001b[49m\n",
      "\u001b[1;31mIndexError\u001b[0m: list index out of range"
     ]
    }
   ],
   "source": [
    "students[10]"
   ]
  },
  {
   "cell_type": "code",
   "execution_count": 44,
   "id": "9d8fd681",
   "metadata": {},
   "outputs": [
    {
     "data": {
      "text/plain": [
       "'Python'"
      ]
     },
     "execution_count": 44,
     "metadata": {},
     "output_type": "execute_result"
    }
   ],
   "source": [
    "students[6]"
   ]
  },
  {
   "cell_type": "code",
   "execution_count": 45,
   "id": "92ec9acd",
   "metadata": {},
   "outputs": [
    {
     "data": {
      "text/plain": [
       "6"
      ]
     },
     "execution_count": 45,
     "metadata": {},
     "output_type": "execute_result"
    }
   ],
   "source": [
    "students.index(\"Python\")"
   ]
  },
  {
   "cell_type": "code",
   "execution_count": 46,
   "id": "75904ac2",
   "metadata": {},
   "outputs": [],
   "source": [
    "students.remove(\"Python\")"
   ]
  },
  {
   "cell_type": "code",
   "execution_count": 47,
   "id": "aae07b5f",
   "metadata": {},
   "outputs": [
    {
     "data": {
      "text/plain": [
       "['Asad',\n",
       " 'Ali',\n",
       " 'Ali',\n",
       " ['Rehan', 'Rayyan', 'Farhan'],\n",
       " 'Daad',\n",
       " 'Hassan',\n",
       " 'Python',\n",
       " 'Python',\n",
       " 'Python',\n",
       " 'Python']"
      ]
     },
     "execution_count": 47,
     "metadata": {},
     "output_type": "execute_result"
    }
   ],
   "source": [
    "students"
   ]
  },
  {
   "cell_type": "code",
   "execution_count": 48,
   "id": "d2322833",
   "metadata": {},
   "outputs": [
    {
     "data": {
      "text/plain": [
       "'Python'"
      ]
     },
     "execution_count": 48,
     "metadata": {},
     "output_type": "execute_result"
    }
   ],
   "source": [
    "students.pop()"
   ]
  },
  {
   "cell_type": "code",
   "execution_count": 52,
   "id": "5a09a585",
   "metadata": {},
   "outputs": [
    {
     "name": "stdout",
     "output_type": "stream",
     "text": [
      "['Asad', 'Ali', 'Ali', ['Rehan', 'Rayyan', 'Farhan'], 'Daad']\n"
     ]
    },
    {
     "data": {
      "text/plain": [
       "'Hassan'"
      ]
     },
     "execution_count": 52,
     "metadata": {},
     "output_type": "execute_result"
    }
   ],
   "source": [
    "poped_value = students.pop()\n",
    "print(students)\n",
    "poped_value"
   ]
  },
  {
   "cell_type": "code",
   "execution_count": 53,
   "id": "faebdfba",
   "metadata": {},
   "outputs": [
    {
     "data": {
      "text/plain": [
       "'Hassan'"
      ]
     },
     "execution_count": 53,
     "metadata": {},
     "output_type": "execute_result"
    }
   ],
   "source": [
    "poped_value"
   ]
  },
  {
   "cell_type": "code",
   "execution_count": 54,
   "id": "cf837e8c",
   "metadata": {},
   "outputs": [],
   "source": [
    "students.append(poped_value)"
   ]
  },
  {
   "cell_type": "code",
   "execution_count": 55,
   "id": "fa6c9111",
   "metadata": {},
   "outputs": [
    {
     "data": {
      "text/plain": [
       "['Asad', 'Ali', 'Ali', ['Rehan', 'Rayyan', 'Farhan'], 'Daad', 'Hassan']"
      ]
     },
     "execution_count": 55,
     "metadata": {},
     "output_type": "execute_result"
    }
   ],
   "source": [
    "students"
   ]
  },
  {
   "cell_type": "code",
   "execution_count": 56,
   "id": "59db7227",
   "metadata": {},
   "outputs": [
    {
     "data": {
      "text/plain": [
       "'Hassan'"
      ]
     },
     "execution_count": 56,
     "metadata": {},
     "output_type": "execute_result"
    }
   ],
   "source": [
    "students.pop()"
   ]
  },
  {
   "cell_type": "code",
   "execution_count": 57,
   "id": "4f05770d",
   "metadata": {},
   "outputs": [
    {
     "data": {
      "text/plain": [
       "['Asad', 'Ali', 'Ali', ['Rehan', 'Rayyan', 'Farhan'], 'Daad']"
      ]
     },
     "execution_count": 57,
     "metadata": {},
     "output_type": "execute_result"
    }
   ],
   "source": [
    "students"
   ]
  },
  {
   "cell_type": "code",
   "execution_count": 64,
   "id": "794b78ed",
   "metadata": {},
   "outputs": [],
   "source": [
    "students.insert(3,poped_value)"
   ]
  },
  {
   "cell_type": "code",
   "execution_count": 65,
   "id": "e03bfd25",
   "metadata": {},
   "outputs": [
    {
     "data": {
      "text/plain": [
       "['Asad',\n",
       " 'Ali',\n",
       " 'Ali',\n",
       " 'Hassan',\n",
       " 'Hassan',\n",
       " ['Rehan', 'Rayyan', 'Farhan'],\n",
       " 'Daad']"
      ]
     },
     "execution_count": 65,
     "metadata": {},
     "output_type": "execute_result"
    }
   ],
   "source": [
    "students"
   ]
  },
  {
   "cell_type": "code",
   "execution_count": 66,
   "id": "e7755a04",
   "metadata": {},
   "outputs": [
    {
     "data": {
      "text/plain": [
       "['Nasrullah', 12, 3.71, [11, 22, 33], 1000]"
      ]
     },
     "execution_count": 66,
     "metadata": {},
     "output_type": "execute_result"
    }
   ],
   "source": [
    "miscList"
   ]
  },
  {
   "cell_type": "code",
   "execution_count": 67,
   "id": "96a99b27",
   "metadata": {},
   "outputs": [],
   "source": [
    "miscList.clear()"
   ]
  },
  {
   "cell_type": "code",
   "execution_count": 68,
   "id": "3515feef",
   "metadata": {},
   "outputs": [
    {
     "data": {
      "text/plain": [
       "[]"
      ]
     },
     "execution_count": 68,
     "metadata": {},
     "output_type": "execute_result"
    }
   ],
   "source": [
    "miscList"
   ]
  },
  {
   "cell_type": "markdown",
   "id": "e08dc2c1",
   "metadata": {},
   "source": [
    "# Copying a list\n",
    "- copy()\n",
    "\n",
    "- [:]\n",
    "\n",
    "- lista=listb"
   ]
  },
  {
   "cell_type": "code",
   "execution_count": 70,
   "id": "5e383026",
   "metadata": {},
   "outputs": [
    {
     "data": {
      "text/plain": [
       "['Asad',\n",
       " 'Ali',\n",
       " 'Ali',\n",
       " 'Hassan',\n",
       " 'Hassan',\n",
       " ['Rehan', 'Rayyan', 'Farhan'],\n",
       " 'Daad']"
      ]
     },
     "execution_count": 70,
     "metadata": {},
     "output_type": "execute_result"
    }
   ],
   "source": [
    "students"
   ]
  },
  {
   "cell_type": "code",
   "execution_count": 2,
   "id": "f943f94d",
   "metadata": {},
   "outputs": [],
   "source": [
    "student = [\"Asad\",\"Ali\",\"Daad\",\"Hassan\"]"
   ]
  },
  {
   "cell_type": "code",
   "execution_count": 3,
   "id": "e9ee5099",
   "metadata": {},
   "outputs": [
    {
     "data": {
      "text/plain": [
       "['Asad', 'Ali', 'Daad', 'Hassan']"
      ]
     },
     "execution_count": 3,
     "metadata": {},
     "output_type": "execute_result"
    }
   ],
   "source": [
    "student"
   ]
  },
  {
   "cell_type": "code",
   "execution_count": 4,
   "id": "196eede4",
   "metadata": {},
   "outputs": [],
   "source": [
    "newst = student"
   ]
  },
  {
   "cell_type": "code",
   "execution_count": 5,
   "id": "1b3be574",
   "metadata": {},
   "outputs": [
    {
     "data": {
      "text/plain": [
       "['Asad', 'Ali', 'Daad', 'Hassan']"
      ]
     },
     "execution_count": 5,
     "metadata": {},
     "output_type": "execute_result"
    }
   ],
   "source": [
    "newst"
   ]
  },
  {
   "cell_type": "code",
   "execution_count": 6,
   "id": "4d8a7541",
   "metadata": {},
   "outputs": [],
   "source": [
    "newst.append(\"Asad\")"
   ]
  },
  {
   "cell_type": "code",
   "execution_count": 8,
   "id": "8c123522",
   "metadata": {},
   "outputs": [
    {
     "data": {
      "text/plain": [
       "['Asad', 'Ali', 'Daad', 'Hassan', 'Asad']"
      ]
     },
     "execution_count": 8,
     "metadata": {},
     "output_type": "execute_result"
    }
   ],
   "source": [
    "student"
   ]
  },
  {
   "cell_type": "code",
   "execution_count": 9,
   "id": "138427ff",
   "metadata": {},
   "outputs": [],
   "source": [
    "myst = student.copy()"
   ]
  },
  {
   "cell_type": "code",
   "execution_count": 10,
   "id": "c3e80b01",
   "metadata": {},
   "outputs": [
    {
     "data": {
      "text/plain": [
       "['Asad', 'Ali', 'Daad', 'Hassan', 'Asad']"
      ]
     },
     "execution_count": 10,
     "metadata": {},
     "output_type": "execute_result"
    }
   ],
   "source": [
    "myst"
   ]
  },
  {
   "cell_type": "code",
   "execution_count": 14,
   "id": "69579498",
   "metadata": {},
   "outputs": [],
   "source": [
    "student.remove(\"Asad\")"
   ]
  },
  {
   "cell_type": "code",
   "execution_count": 15,
   "id": "b6d45bc7",
   "metadata": {},
   "outputs": [
    {
     "data": {
      "text/plain": [
       "['Asad', 'Ali', 'Daad', 'Hassan', 'Asad']"
      ]
     },
     "execution_count": 15,
     "metadata": {},
     "output_type": "execute_result"
    }
   ],
   "source": [
    "myst"
   ]
  },
  {
   "cell_type": "code",
   "execution_count": 17,
   "id": "ecd52503",
   "metadata": {},
   "outputs": [
    {
     "data": {
      "text/plain": [
       "['Asad', 'Ali', 'Daad', 'Hassan', 'Asad']"
      ]
     },
     "execution_count": 17,
     "metadata": {},
     "output_type": "execute_result"
    }
   ],
   "source": [
    "myst"
   ]
  },
  {
   "cell_type": "code",
   "execution_count": 18,
   "id": "e8fe5695",
   "metadata": {},
   "outputs": [],
   "source": [
    "yourst = student[:]"
   ]
  },
  {
   "cell_type": "code",
   "execution_count": 19,
   "id": "e4f52346",
   "metadata": {},
   "outputs": [
    {
     "data": {
      "text/plain": [
       "1"
      ]
     },
     "execution_count": 19,
     "metadata": {},
     "output_type": "execute_result"
    }
   ],
   "source": [
    "student.count(\"Ali\")"
   ]
  },
  {
   "cell_type": "code",
   "execution_count": 20,
   "id": "ec133590",
   "metadata": {},
   "outputs": [
    {
     "data": {
      "text/plain": [
       "1"
      ]
     },
     "execution_count": 20,
     "metadata": {},
     "output_type": "execute_result"
    }
   ],
   "source": [
    "student.count('Ali')"
   ]
  },
  {
   "cell_type": "code",
   "execution_count": 21,
   "id": "f45c2ef0",
   "metadata": {},
   "outputs": [],
   "source": [
    "name = \"shahzad Ahsan\""
   ]
  },
  {
   "cell_type": "code",
   "execution_count": 22,
   "id": "39b7b203",
   "metadata": {},
   "outputs": [
    {
     "data": {
      "text/plain": [
       "'h'"
      ]
     },
     "execution_count": 22,
     "metadata": {},
     "output_type": "execute_result"
    }
   ],
   "source": [
    "name[3]"
   ]
  },
  {
   "cell_type": "code",
   "execution_count": 24,
   "id": "1d2025fc",
   "metadata": {},
   "outputs": [
    {
     "data": {
      "text/plain": [
       "0"
      ]
     },
     "execution_count": 24,
     "metadata": {},
     "output_type": "execute_result"
    }
   ],
   "source": [
    "name.count(\"H\")"
   ]
  },
  {
   "cell_type": "code",
   "execution_count": 25,
   "id": "de47dbab",
   "metadata": {},
   "outputs": [
    {
     "data": {
      "text/plain": [
       "['Ali', 'Daad', 'Hassan', 'Hello', 'Python']"
      ]
     },
     "execution_count": 25,
     "metadata": {},
     "output_type": "execute_result"
    }
   ],
   "source": [
    "student+[\"Hello\",\"Python\"]"
   ]
  },
  {
   "cell_type": "code",
   "execution_count": 26,
   "id": "9d4f129e",
   "metadata": {},
   "outputs": [],
   "source": [
    "student.extend(['A',\"B\",'C'])"
   ]
  },
  {
   "cell_type": "code",
   "execution_count": 27,
   "id": "1f72b7dc",
   "metadata": {},
   "outputs": [
    {
     "data": {
      "text/plain": [
       "['Ali', 'Daad', 'Hassan', 'A', 'B', 'C']"
      ]
     },
     "execution_count": 27,
     "metadata": {},
     "output_type": "execute_result"
    }
   ],
   "source": [
    "student"
   ]
  },
  {
   "cell_type": "code",
   "execution_count": 28,
   "id": "60894e0d",
   "metadata": {},
   "outputs": [],
   "source": [
    "student.append([\"A\",'B',\"C\"])"
   ]
  },
  {
   "cell_type": "code",
   "execution_count": 29,
   "id": "b1c513b6",
   "metadata": {},
   "outputs": [
    {
     "data": {
      "text/plain": [
       "['Ali', 'Daad', 'Hassan', 'A', 'B', 'C', ['A', 'B', 'C']]"
      ]
     },
     "execution_count": 29,
     "metadata": {},
     "output_type": "execute_result"
    }
   ],
   "source": [
    "student"
   ]
  },
  {
   "cell_type": "code",
   "execution_count": 30,
   "id": "c054a46a",
   "metadata": {},
   "outputs": [],
   "source": [
    "student.extend(\"Pakistan\")"
   ]
  },
  {
   "cell_type": "code",
   "execution_count": 31,
   "id": "114dc24f",
   "metadata": {},
   "outputs": [
    {
     "data": {
      "text/plain": [
       "['Ali',\n",
       " 'Daad',\n",
       " 'Hassan',\n",
       " 'A',\n",
       " 'B',\n",
       " 'C',\n",
       " ['A', 'B', 'C'],\n",
       " 'P',\n",
       " 'a',\n",
       " 'k',\n",
       " 'i',\n",
       " 's',\n",
       " 't',\n",
       " 'a',\n",
       " 'n']"
      ]
     },
     "execution_count": 31,
     "metadata": {},
     "output_type": "execute_result"
    }
   ],
   "source": [
    "student"
   ]
  },
  {
   "cell_type": "code",
   "execution_count": 32,
   "id": "eafdc556",
   "metadata": {},
   "outputs": [
    {
     "ename": "TypeError",
     "evalue": "'int' object is not iterable",
     "output_type": "error",
     "traceback": [
      "\u001b[1;31m---------------------------------------------------------------------------\u001b[0m",
      "\u001b[1;31mTypeError\u001b[0m                                 Traceback (most recent call last)",
      "Input \u001b[1;32mIn [32]\u001b[0m, in \u001b[0;36m<cell line: 1>\u001b[1;34m()\u001b[0m\n\u001b[1;32m----> 1\u001b[0m \u001b[43mstudent\u001b[49m\u001b[38;5;241;43m.\u001b[39;49m\u001b[43mextend\u001b[49m\u001b[43m(\u001b[49m\u001b[38;5;241;43m5555\u001b[39;49m\u001b[43m)\u001b[49m\n",
      "\u001b[1;31mTypeError\u001b[0m: 'int' object is not iterable"
     ]
    }
   ],
   "source": [
    "student.extend(5555)"
   ]
  },
  {
   "cell_type": "code",
   "execution_count": 33,
   "id": "cbcc99c6",
   "metadata": {},
   "outputs": [],
   "source": [
    "student.extend(\"55555\")"
   ]
  },
  {
   "cell_type": "code",
   "execution_count": 34,
   "id": "addd1fae",
   "metadata": {},
   "outputs": [
    {
     "data": {
      "text/plain": [
       "['Ali',\n",
       " 'Daad',\n",
       " 'Hassan',\n",
       " 'A',\n",
       " 'B',\n",
       " 'C',\n",
       " ['A', 'B', 'C'],\n",
       " 'P',\n",
       " 'a',\n",
       " 'k',\n",
       " 'i',\n",
       " 's',\n",
       " 't',\n",
       " 'a',\n",
       " 'n',\n",
       " '5',\n",
       " '5',\n",
       " '5',\n",
       " '5',\n",
       " '5']"
      ]
     },
     "execution_count": 34,
     "metadata": {},
     "output_type": "execute_result"
    }
   ],
   "source": [
    "student"
   ]
  },
  {
   "cell_type": "markdown",
   "id": "0ae8af9f",
   "metadata": {},
   "source": [
    "# extend() again"
   ]
  },
  {
   "cell_type": "code",
   "execution_count": 35,
   "id": "777239f1",
   "metadata": {},
   "outputs": [],
   "source": [
    "a = [22,33]"
   ]
  },
  {
   "cell_type": "code",
   "execution_count": 36,
   "id": "da43a192",
   "metadata": {},
   "outputs": [],
   "source": [
    "a.append([44,55])"
   ]
  },
  {
   "cell_type": "code",
   "execution_count": 37,
   "id": "244c1648",
   "metadata": {},
   "outputs": [
    {
     "data": {
      "text/plain": [
       "[22, 33, [44, 55]]"
      ]
     },
     "execution_count": 37,
     "metadata": {},
     "output_type": "execute_result"
    }
   ],
   "source": [
    "a"
   ]
  },
  {
   "cell_type": "code",
   "execution_count": 38,
   "id": "573edffb",
   "metadata": {},
   "outputs": [],
   "source": [
    "z = ['a','g','y']"
   ]
  },
  {
   "cell_type": "code",
   "execution_count": 39,
   "id": "c32bee3d",
   "metadata": {},
   "outputs": [],
   "source": [
    "a.extend(z)"
   ]
  },
  {
   "cell_type": "code",
   "execution_count": 40,
   "id": "e14aaa2d",
   "metadata": {},
   "outputs": [
    {
     "data": {
      "text/plain": [
       "[22, 33, [44, 55], 'a', 'g', 'y']"
      ]
     },
     "execution_count": 40,
     "metadata": {},
     "output_type": "execute_result"
    }
   ],
   "source": [
    "a"
   ]
  },
  {
   "cell_type": "markdown",
   "id": "55f442b8",
   "metadata": {},
   "source": [
    "# Slicing"
   ]
  },
  {
   "cell_type": "code",
   "execution_count": 41,
   "id": "59840619",
   "metadata": {},
   "outputs": [],
   "source": [
    "nums = [11,22,33,44,55,66,77,88,99,100]"
   ]
  },
  {
   "cell_type": "code",
   "execution_count": 42,
   "id": "3f03a54e",
   "metadata": {},
   "outputs": [
    {
     "data": {
      "text/plain": [
       "33"
      ]
     },
     "execution_count": 42,
     "metadata": {},
     "output_type": "execute_result"
    }
   ],
   "source": [
    "nums[2]"
   ]
  },
  {
   "cell_type": "code",
   "execution_count": 43,
   "id": "5444b213",
   "metadata": {},
   "outputs": [],
   "source": [
    "nums2 = nums[:]"
   ]
  },
  {
   "cell_type": "code",
   "execution_count": 44,
   "id": "c3a0b04d",
   "metadata": {},
   "outputs": [
    {
     "data": {
      "text/plain": [
       "[11, 22, 33, 44, 55, 66, 77, 88, 99, 100]"
      ]
     },
     "execution_count": 44,
     "metadata": {},
     "output_type": "execute_result"
    }
   ],
   "source": [
    "nums2"
   ]
  },
  {
   "cell_type": "code",
   "execution_count": 45,
   "id": "21a18863",
   "metadata": {},
   "outputs": [],
   "source": [
    "nums3 = nums[2:5]"
   ]
  },
  {
   "cell_type": "code",
   "execution_count": 46,
   "id": "30d3a3ef",
   "metadata": {},
   "outputs": [
    {
     "data": {
      "text/plain": [
       "[33, 44, 55]"
      ]
     },
     "execution_count": 46,
     "metadata": {},
     "output_type": "execute_result"
    }
   ],
   "source": [
    "nums3"
   ]
  },
  {
   "cell_type": "code",
   "execution_count": 47,
   "id": "adaa5d55",
   "metadata": {},
   "outputs": [
    {
     "data": {
      "text/plain": [
       "([11, 22, 33, 44, 55, 66], [11, 22, 33, 44, 55, 66])"
      ]
     },
     "execution_count": 47,
     "metadata": {},
     "output_type": "execute_result"
    }
   ],
   "source": [
    "nums[0:6],nums[:6]"
   ]
  },
  {
   "cell_type": "code",
   "execution_count": 48,
   "id": "09668b85",
   "metadata": {},
   "outputs": [
    {
     "data": {
      "text/plain": [
       "([77, 88, 99], [77, 88, 99, 100], [77, 88, 99])"
      ]
     },
     "execution_count": 48,
     "metadata": {},
     "output_type": "execute_result"
    }
   ],
   "source": [
    "nums[6:9],nums[6:],nums[6:-1]"
   ]
  },
  {
   "cell_type": "code",
   "execution_count": 49,
   "id": "5cad563e",
   "metadata": {},
   "outputs": [
    {
     "data": {
      "text/plain": [
       "[77, 88, 99, 100]"
      ]
     },
     "execution_count": 49,
     "metadata": {},
     "output_type": "execute_result"
    }
   ],
   "source": [
    "nums[6:300]"
   ]
  },
  {
   "cell_type": "code",
   "execution_count": 50,
   "id": "2620483d",
   "metadata": {},
   "outputs": [
    {
     "data": {
      "text/plain": [
       "([77, 88, 99], [77, 88, 99], [77, 88, 99, 100])"
      ]
     },
     "execution_count": 50,
     "metadata": {},
     "output_type": "execute_result"
    }
   ],
   "source": [
    "nums[6:9],nums[6:-1],nums[6:]"
   ]
  },
  {
   "cell_type": "code",
   "execution_count": 51,
   "id": "6b1b86ba",
   "metadata": {},
   "outputs": [
    {
     "data": {
      "text/plain": [
       "([77, 88, 99, 100], [77, 88, 99], [77, 88, 99])"
      ]
     },
     "execution_count": 51,
     "metadata": {},
     "output_type": "execute_result"
    }
   ],
   "source": [
    "nums[6:],nums[6:-1],nums[6:9]"
   ]
  },
  {
   "cell_type": "code",
   "execution_count": 52,
   "id": "6d129879",
   "metadata": {},
   "outputs": [
    {
     "data": {
      "text/plain": [
       "[11, 22, 33, 44, 55, 66, 77, 88, 99, 100]"
      ]
     },
     "execution_count": 52,
     "metadata": {},
     "output_type": "execute_result"
    }
   ],
   "source": [
    "nums"
   ]
  },
  {
   "cell_type": "code",
   "execution_count": 53,
   "id": "c4362367",
   "metadata": {},
   "outputs": [
    {
     "data": {
      "text/plain": [
       "[]"
      ]
     },
     "execution_count": 53,
     "metadata": {},
     "output_type": "execute_result"
    }
   ],
   "source": [
    "nums[-1:-6]"
   ]
  },
  {
   "cell_type": "code",
   "execution_count": 54,
   "id": "832c1f0b",
   "metadata": {},
   "outputs": [
    {
     "data": {
      "text/plain": [
       "[11, 33, 55, 77]"
      ]
     },
     "execution_count": 54,
     "metadata": {},
     "output_type": "execute_result"
    }
   ],
   "source": [
    "nums[0:8:2]"
   ]
  },
  {
   "cell_type": "code",
   "execution_count": 56,
   "id": "376add09",
   "metadata": {},
   "outputs": [
    {
     "data": {
      "text/plain": [
       "[11, 44, 77, 100]"
      ]
     },
     "execution_count": 56,
     "metadata": {},
     "output_type": "execute_result"
    }
   ],
   "source": [
    "nums[::3]"
   ]
  },
  {
   "cell_type": "code",
   "execution_count": 57,
   "id": "8cbbdf14",
   "metadata": {},
   "outputs": [
    {
     "data": {
      "text/plain": [
       "[100, 99, 88, 77, 66, 55, 44, 33, 22, 11]"
      ]
     },
     "execution_count": 57,
     "metadata": {},
     "output_type": "execute_result"
    }
   ],
   "source": [
    "nums[::-1]"
   ]
  },
  {
   "cell_type": "code",
   "execution_count": 59,
   "id": "c65ab7b7",
   "metadata": {},
   "outputs": [
    {
     "data": {
      "text/plain": [
       "[77, 66, 55]"
      ]
     },
     "execution_count": 59,
     "metadata": {},
     "output_type": "execute_result"
    }
   ],
   "source": [
    "nums[6:3:-1]"
   ]
  },
  {
   "cell_type": "code",
   "execution_count": 63,
   "id": "d6b34c77",
   "metadata": {},
   "outputs": [
    {
     "data": {
      "text/plain": [
       "[77, 66, 55]"
      ]
     },
     "execution_count": 63,
     "metadata": {},
     "output_type": "execute_result"
    }
   ],
   "source": [
    "nums[-4:3:-1]"
   ]
  },
  {
   "cell_type": "code",
   "execution_count": 64,
   "id": "c8e62769",
   "metadata": {},
   "outputs": [
    {
     "data": {
      "text/plain": [
       "[11, 22, 33, 44, 55, 66, 77, 88, 99, 100]"
      ]
     },
     "execution_count": 64,
     "metadata": {},
     "output_type": "execute_result"
    }
   ],
   "source": [
    "nums"
   ]
  },
  {
   "cell_type": "code",
   "execution_count": 68,
   "id": "33d58f96",
   "metadata": {},
   "outputs": [
    {
     "data": {
      "text/plain": [
       "[]"
      ]
     },
     "execution_count": 68,
     "metadata": {},
     "output_type": "execute_result"
    }
   ],
   "source": [
    "nums[-4:7:-1]"
   ]
  },
  {
   "cell_type": "code",
   "execution_count": 69,
   "id": "792f6afb",
   "metadata": {},
   "outputs": [
    {
     "data": {
      "text/plain": [
       "[77, 88, 99]"
      ]
     },
     "execution_count": 69,
     "metadata": {},
     "output_type": "execute_result"
    }
   ],
   "source": [
    "nums[-4:-1]"
   ]
  },
  {
   "cell_type": "code",
   "execution_count": 70,
   "id": "c1cf4ab8",
   "metadata": {},
   "outputs": [
    {
     "data": {
      "text/plain": [
       "[11, 22, 33, 44, 55, 66, 77, 88, 99, 100]"
      ]
     },
     "execution_count": 70,
     "metadata": {},
     "output_type": "execute_result"
    }
   ],
   "source": [
    "nums"
   ]
  },
  {
   "cell_type": "code",
   "execution_count": 71,
   "id": "2496cc0b",
   "metadata": {},
   "outputs": [
    {
     "data": {
      "text/plain": [
       "[100, 11]"
      ]
     },
     "execution_count": 71,
     "metadata": {},
     "output_type": "execute_result"
    }
   ],
   "source": [
    "nums[-1::-9]"
   ]
  },
  {
   "cell_type": "code",
   "execution_count": 72,
   "id": "064e90a9",
   "metadata": {},
   "outputs": [
    {
     "data": {
      "text/plain": [
       "[11, 100]"
      ]
     },
     "execution_count": 72,
     "metadata": {},
     "output_type": "execute_result"
    }
   ],
   "source": [
    "nums[::9]"
   ]
  },
  {
   "cell_type": "markdown",
   "id": "f948613a",
   "metadata": {},
   "source": [
    "# tuple"
   ]
  },
  {
   "cell_type": "code",
   "execution_count": 73,
   "id": "84ee2ae4",
   "metadata": {},
   "outputs": [],
   "source": [
    "atup = (2,3,4,5,6,7,8)"
   ]
  },
  {
   "cell_type": "code",
   "execution_count": 74,
   "id": "77e5a422",
   "metadata": {},
   "outputs": [
    {
     "data": {
      "text/plain": [
       "tuple"
      ]
     },
     "execution_count": 74,
     "metadata": {},
     "output_type": "execute_result"
    }
   ],
   "source": [
    "type(atup)"
   ]
  },
  {
   "cell_type": "code",
   "execution_count": 75,
   "id": "22abb6bb",
   "metadata": {},
   "outputs": [
    {
     "data": {
      "text/plain": [
       "2"
      ]
     },
     "execution_count": 75,
     "metadata": {},
     "output_type": "execute_result"
    }
   ],
   "source": [
    "atup[0]"
   ]
  },
  {
   "cell_type": "code",
   "execution_count": 76,
   "id": "9e60d5ce",
   "metadata": {},
   "outputs": [
    {
     "data": {
      "text/plain": [
       "(5, 6, 7)"
      ]
     },
     "execution_count": 76,
     "metadata": {},
     "output_type": "execute_result"
    }
   ],
   "source": [
    "atup[3:6]"
   ]
  },
  {
   "cell_type": "code",
   "execution_count": 77,
   "id": "d75f8629",
   "metadata": {},
   "outputs": [],
   "source": [
    "aset = {1,2,3,4,5,2,3,4}"
   ]
  },
  {
   "cell_type": "code",
   "execution_count": 79,
   "id": "34786c47",
   "metadata": {},
   "outputs": [
    {
     "data": {
      "text/plain": [
       "set"
      ]
     },
     "execution_count": 79,
     "metadata": {},
     "output_type": "execute_result"
    }
   ],
   "source": [
    "type(aset)"
   ]
  },
  {
   "cell_type": "code",
   "execution_count": 80,
   "id": "25a4ad67",
   "metadata": {},
   "outputs": [
    {
     "data": {
      "text/plain": [
       "{1, 2, 3, 4, 5}"
      ]
     },
     "execution_count": 80,
     "metadata": {},
     "output_type": "execute_result"
    }
   ],
   "source": [
    "aset"
   ]
  },
  {
   "cell_type": "code",
   "execution_count": 81,
   "id": "990ce917",
   "metadata": {},
   "outputs": [],
   "source": [
    "alist = [1,2,3,4,5,56,6,7,8,9]"
   ]
  },
  {
   "cell_type": "code",
   "execution_count": 82,
   "id": "61c9105e",
   "metadata": {},
   "outputs": [
    {
     "data": {
      "text/plain": [
       "[1, 2, 3, 4, 5, 6, 7, 8, 9, 56]"
      ]
     },
     "execution_count": 82,
     "metadata": {},
     "output_type": "execute_result"
    }
   ],
   "source": [
    "list(set(alist))"
   ]
  },
  {
   "cell_type": "code",
   "execution_count": 84,
   "id": "f92e464f",
   "metadata": {},
   "outputs": [
    {
     "data": {
      "text/plain": [
       "list"
      ]
     },
     "execution_count": 84,
     "metadata": {},
     "output_type": "execute_result"
    }
   ],
   "source": [
    "type(alist)"
   ]
  },
  {
   "cell_type": "code",
   "execution_count": null,
   "id": "e53e8608",
   "metadata": {},
   "outputs": [],
   "source": []
  }
 ],
 "metadata": {
  "kernelspec": {
   "display_name": "Python 3 (ipykernel)",
   "language": "python",
   "name": "python3"
  },
  "language_info": {
   "codemirror_mode": {
    "name": "ipython",
    "version": 3
   },
   "file_extension": ".py",
   "mimetype": "text/x-python",
   "name": "python",
   "nbconvert_exporter": "python",
   "pygments_lexer": "ipython3",
   "version": "3.10.4"
  }
 },
 "nbformat": 4,
 "nbformat_minor": 5
}
