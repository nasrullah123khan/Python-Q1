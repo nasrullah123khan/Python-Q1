{
 "cells": [
  {
   "cell_type": "raw",
   "id": "f029de4f",
   "metadata": {},
   "source": [
    "postgre sql"
   ]
  },
  {
   "cell_type": "code",
   "execution_count": 1,
   "id": "e2a17d7b",
   "metadata": {},
   "outputs": [
    {
     "name": "stdout",
     "output_type": "stream",
     "text": [
      "Collecting psycopg2\n",
      "  Downloading psycopg2-2.9.4-cp310-cp310-win_amd64.whl (1.2 MB)\n",
      "Installing collected packages: psycopg2\n",
      "Successfully installed psycopg2-2.9.4\n"
     ]
    }
   ],
   "source": [
    "! pip install psycopg2"
   ]
  },
  {
   "cell_type": "code",
   "execution_count": null,
   "id": "14576de4",
   "metadata": {},
   "outputs": [],
   "source": [
    "# login credentials\n",
    "\n",
    "host_name = \"localhost\"\n",
    "database = \"postgres\"\n",
    "user_name = \"postgres\"\n",
    "pwd = \"Nasrullah6756\"\n",
    "port_id = 6756\n",
    "\n",
    "conn = None\n",
    "cur = None\n",
    "\n",
    "try:\n",
    "    #########Connection Object##########\n",
    "    conn = psycopg2.connect(host = host_name, dbname = database, user = user_name, password = pwd, port = port_id)"
   ]
  }
 ],
 "metadata": {
  "kernelspec": {
   "display_name": "Python 3 (ipykernel)",
   "language": "python",
   "name": "python3"
  },
  "language_info": {
   "codemirror_mode": {
    "name": "ipython",
    "version": 3
   },
   "file_extension": ".py",
   "mimetype": "text/x-python",
   "name": "python",
   "nbconvert_exporter": "python",
   "pygments_lexer": "ipython3",
   "version": "3.10.4"
  }
 },
 "nbformat": 4,
 "nbformat_minor": 5
}
