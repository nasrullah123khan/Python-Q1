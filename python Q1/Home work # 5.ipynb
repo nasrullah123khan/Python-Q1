{
 "cells": [
  {
   "cell_type": "markdown",
   "id": "67e4cf19",
   "metadata": {},
   "source": [
    "# Loops\n",
    "- for loop\n",
    "- while loop"
   ]
  },
  {
   "cell_type": "code",
   "execution_count": 24,
   "id": "26403db3",
   "metadata": {},
   "outputs": [],
   "source": [
    "students = [\"Asad\",\"Ali\",\"Daad\",\"Hassan\"]"
   ]
  },
  {
   "cell_type": "code",
   "execution_count": 25,
   "id": "172fc8be",
   "metadata": {},
   "outputs": [
    {
     "name": "stdout",
     "output_type": "stream",
     "text": [
      "asad\n",
      "ali\n",
      "daad\n",
      "hassan\n"
     ]
    }
   ],
   "source": [
    "for student in students:\n",
    "    print(student.lower())"
   ]
  },
  {
   "cell_type": "code",
   "execution_count": 26,
   "id": "cfb09624",
   "metadata": {},
   "outputs": [
    {
     "name": "stdout",
     "output_type": "stream",
     "text": [
      "P\n",
      "A\n",
      "K\n",
      "I\n",
      "S\n",
      "T\n",
      "A\n",
      "N\n"
     ]
    }
   ],
   "source": [
    "for char in \"pakistan\":\n",
    "    print(char.upper())"
   ]
  },
  {
   "cell_type": "code",
   "execution_count": 27,
   "id": "56c6f8c7",
   "metadata": {},
   "outputs": [
    {
     "ename": "TypeError",
     "evalue": "'int' object is not iterable",
     "output_type": "error",
     "traceback": [
      "\u001b[1;31m---------------------------------------------------------------------------\u001b[0m",
      "\u001b[1;31mTypeError\u001b[0m                                 Traceback (most recent call last)",
      "Input \u001b[1;32mIn [27]\u001b[0m, in \u001b[0;36m<cell line: 1>\u001b[1;34m()\u001b[0m\n\u001b[1;32m----> 1\u001b[0m \u001b[38;5;28;01mfor\u001b[39;00m num \u001b[38;5;129;01min\u001b[39;00m \u001b[38;5;241m5001\u001b[39m:\n\u001b[0;32m      2\u001b[0m     \u001b[38;5;28mprint\u001b[39m(num)\n",
      "\u001b[1;31mTypeError\u001b[0m: 'int' object is not iterable"
     ]
    }
   ],
   "source": [
    "for num in 5001:\n",
    "    print(num)"
   ]
  },
  {
   "cell_type": "code",
   "execution_count": 28,
   "id": "679596aa",
   "metadata": {},
   "outputs": [
    {
     "name": "stdout",
     "output_type": "stream",
     "text": [
      "0 Hello\n",
      "1 Hello\n",
      "2 Hello\n",
      "3 Hello\n",
      "4 Hello\n"
     ]
    }
   ],
   "source": [
    "for a in range(5):\n",
    "    print(a,\"Hello\")"
   ]
  },
  {
   "cell_type": "code",
   "execution_count": 29,
   "id": "be778924",
   "metadata": {},
   "outputs": [
    {
     "name": "stdout",
     "output_type": "stream",
     "text": [
      "1 Python\n",
      "2 Python\n",
      "3 Python\n",
      "4 Python\n"
     ]
    }
   ],
   "source": [
    "for a in range(1,5):\n",
    "    print(a,\"Python\")"
   ]
  },
  {
   "cell_type": "code",
   "execution_count": 30,
   "id": "c37bf9ad",
   "metadata": {},
   "outputs": [
    {
     "name": "stdout",
     "output_type": "stream",
     "text": [
      "1\n",
      "3\n",
      "5\n",
      "7\n",
      "9\n",
      "11\n",
      "13\n",
      "15\n",
      "17\n",
      "19\n"
     ]
    }
   ],
   "source": [
    "for a in range(1,20,2):\n",
    "    print(a)"
   ]
  },
  {
   "cell_type": "code",
   "execution_count": 31,
   "id": "412cd00f",
   "metadata": {},
   "outputs": [
    {
     "name": "stdout",
     "output_type": "stream",
     "text": [
      "2\n",
      "4\n",
      "6\n",
      "8\n",
      "10\n",
      "12\n",
      "14\n",
      "16\n",
      "18\n"
     ]
    }
   ],
   "source": [
    "for a in range(2,20,2):\n",
    "    print(a)"
   ]
  },
  {
   "cell_type": "code",
   "execution_count": 32,
   "id": "f22314d7",
   "metadata": {},
   "outputs": [
    {
     "name": "stdout",
     "output_type": "stream",
     "text": [
      "10\n",
      "9\n",
      "8\n",
      "7\n",
      "6\n",
      "5\n",
      "4\n",
      "3\n",
      "2\n",
      "1\n"
     ]
    }
   ],
   "source": [
    "for a in range(10,0,-1):\n",
    "    print(a)"
   ]
  },
  {
   "cell_type": "markdown",
   "id": "acd245ca",
   "metadata": {},
   "source": [
    "# Break , Continue"
   ]
  },
  {
   "cell_type": "code",
   "execution_count": 33,
   "id": "aba7c9eb",
   "metadata": {},
   "outputs": [
    {
     "name": "stdout",
     "output_type": "stream",
     "text": [
      "0\n",
      "1\n",
      "2\n"
     ]
    }
   ],
   "source": [
    "for a in range(5):\n",
    "    if a==3:\n",
    "        break\n",
    "    print(a)"
   ]
  },
  {
   "cell_type": "code",
   "execution_count": 34,
   "id": "33c172fe",
   "metadata": {},
   "outputs": [
    {
     "name": "stdout",
     "output_type": "stream",
     "text": [
      "0\n",
      "1\n",
      "2\n",
      "4\n"
     ]
    }
   ],
   "source": [
    "for a in range(5):\n",
    "    if a==3:\n",
    "        continue\n",
    "    print(a)"
   ]
  },
  {
   "cell_type": "code",
   "execution_count": 35,
   "id": "2a72b0bf",
   "metadata": {},
   "outputs": [
    {
     "data": {
      "text/plain": [
       "['Asad', 'Ali', 'Daad', 'Hassan']"
      ]
     },
     "execution_count": 35,
     "metadata": {},
     "output_type": "execute_result"
    }
   ],
   "source": [
    "students"
   ]
  },
  {
   "cell_type": "code",
   "execution_count": 41,
   "id": "640cadbe",
   "metadata": {},
   "outputs": [
    {
     "name": "stdout",
     "output_type": "stream",
     "text": [
      "asad\n"
     ]
    }
   ],
   "source": [
    "for student in students:\n",
    "    if student.endswith(\"i\"):\n",
    "        break\n",
    "    print(student.lower())"
   ]
  },
  {
   "cell_type": "code",
   "execution_count": 43,
   "id": "016d5360",
   "metadata": {},
   "outputs": [
    {
     "name": "stdout",
     "output_type": "stream",
     "text": [
      "asad\n",
      "daad\n",
      "hassan\n"
     ]
    }
   ],
   "source": [
    "for student in students:#iterate\n",
    "    if student.endswith(\"i\"):\n",
    "        continue\n",
    "    print(student.lower())"
   ]
  },
  {
   "cell_type": "code",
   "execution_count": 44,
   "id": "c9dfc7fb",
   "metadata": {},
   "outputs": [
    {
     "name": "stdout",
     "output_type": "stream",
     "text": [
      "1\n",
      "2\n",
      "3\n",
      "4\n",
      "5\n",
      "6\n",
      "8\n",
      "9\n"
     ]
    }
   ],
   "source": [
    "for a in range(0,10):\n",
    "    if a%7==0:\n",
    "        continue\n",
    "    print(a)"
   ]
  },
  {
   "cell_type": "code",
   "execution_count": 45,
   "id": "75ba79a7",
   "metadata": {},
   "outputs": [
    {
     "name": "stdout",
     "output_type": "stream",
     "text": [
      "1\n",
      "2\n",
      "3\n",
      "4\n",
      "5\n",
      "6\n",
      "8\n",
      "9\n"
     ]
    }
   ],
   "source": [
    "for a in range(0,10):\n",
    "    if a%7==0:\n",
    "        continue\n",
    "    print(a)"
   ]
  },
  {
   "cell_type": "code",
   "execution_count": 46,
   "id": "118af93c",
   "metadata": {},
   "outputs": [
    {
     "name": "stdout",
     "output_type": "stream",
     "text": [
      "0\n",
      "1\n",
      "2\n"
     ]
    }
   ],
   "source": [
    "for a in range(5):\n",
    "    if a==3:\n",
    "        break\n",
    "    print(a)"
   ]
  },
  {
   "cell_type": "code",
   "execution_count": 48,
   "id": "e3d476fa",
   "metadata": {},
   "outputs": [
    {
     "name": "stdout",
     "output_type": "stream",
     "text": [
      "[1, 3, 5, 7, 9, 11, 13, 15, 17, 19]\n"
     ]
    }
   ],
   "source": [
    "odd = []\n",
    "for num in range(1,21):\n",
    "    if num%2!=0:\n",
    "        odd.append(num)\n",
    "print(odd)"
   ]
  },
  {
   "cell_type": "code",
   "execution_count": 1,
   "id": "b05d5607",
   "metadata": {},
   "outputs": [
    {
     "name": "stdout",
     "output_type": "stream",
     "text": [
      "[0, 2, 4, 6, 8, 10, 12, 14, 16, 18, 20]\n"
     ]
    }
   ],
   "source": [
    "even = []\n",
    "for num in range(0,21):\n",
    "    if num%2==0:\n",
    "        even.append(num)\n",
    "print(even)"
   ]
  },
  {
   "cell_type": "markdown",
   "id": "cf78040d",
   "metadata": {},
   "source": [
    "# List Comprehension"
   ]
  },
  {
   "cell_type": "code",
   "execution_count": 2,
   "id": "a3833597",
   "metadata": {},
   "outputs": [
    {
     "data": {
      "text/plain": [
       "[1, 3, 5, 7, 9, 11, 13, 15, 17, 19, 21, 23, 25, 27, 29]"
      ]
     },
     "execution_count": 2,
     "metadata": {},
     "output_type": "execute_result"
    }
   ],
   "source": [
    "[a for a in range(1,31) if a%2!=0]"
   ]
  },
  {
   "cell_type": "code",
   "execution_count": 3,
   "id": "2f354d6b",
   "metadata": {},
   "outputs": [
    {
     "data": {
      "text/plain": [
       "[2, 4, 6, 8, 10, 12, 14, 16, 18, 20]"
      ]
     },
     "execution_count": 3,
     "metadata": {},
     "output_type": "execute_result"
    }
   ],
   "source": [
    "[a for a in range(1,21) if a%2==0]"
   ]
  },
  {
   "cell_type": "code",
   "execution_count": 6,
   "id": "abd695ba",
   "metadata": {},
   "outputs": [
    {
     "name": "stdout",
     "output_type": "stream",
     "text": [
      "Enter Number: 23\n",
      "Enter Number: 53\n",
      "Enter Number: 45\n",
      "Enter Number: 64\n",
      "Enter Number: 223\n",
      "Even Number[64] and Odd Number [23, 53, 45, 223]\n"
     ]
    }
   ],
   "source": [
    "# Write a program that takes 5 values from user and classify them as odds and even in odds and evens list \n",
    "\n",
    "odd = []\n",
    "even = []\n",
    "\n",
    "for a in range(5):\n",
    "    num = int(input(\"Enter Number: \"))\n",
    "    \n",
    "    if num%2==0:\n",
    "        even.append(num)\n",
    "    else:\n",
    "        odd.append(num)\n",
    "print(f\"Even Number{even} and Odd Number {odd}\")"
   ]
  },
  {
   "cell_type": "code",
   "execution_count": 7,
   "id": "343bd9cd",
   "metadata": {},
   "outputs": [
    {
     "name": "stdout",
     "output_type": "stream",
     "text": [
      "Enter Number 1\n",
      "1 is Odd\n",
      "Enter Number 3\n",
      "3 is Odd\n",
      "Enter Number 4\n",
      "4 is Even\n",
      "Enter Number 2\n",
      "2 is Even\n",
      "Enter Number 6\n",
      "6 is Even\n"
     ]
    }
   ],
   "source": [
    "for a in range(5):\n",
    "    number = int(input(\"Enter Number \"))\n",
    "    if number%2==0:\n",
    "        print(f\"{number} is Even\")\n",
    "    else:\n",
    "        print(f\"{number} is Odd\")"
   ]
  },
  {
   "cell_type": "markdown",
   "id": "47a44513",
   "metadata": {},
   "source": [
    "# Writing if else together in list comprehension"
   ]
  },
  {
   "cell_type": "code",
   "execution_count": 8,
   "id": "6940fe3a",
   "metadata": {},
   "outputs": [
    {
     "name": "stdout",
     "output_type": "stream",
     "text": [
      "1 is Odd\n",
      "2 is Even\n",
      "3 is Odd\n",
      "4 is Even\n",
      "5 is Odd\n",
      "6 is Even\n",
      "7 is Odd\n",
      "8 is Even\n",
      "9 is Odd\n",
      "10 is Even\n",
      "11 is Odd\n",
      "12 is Even\n",
      "13 is Odd\n",
      "14 is Even\n",
      "15 is Odd\n",
      "16 is Even\n",
      "17 is Odd\n",
      "18 is Even\n",
      "19 is Odd\n",
      "20 is Even\n"
     ]
    },
    {
     "data": {
      "text/plain": [
       "[None,\n",
       " None,\n",
       " None,\n",
       " None,\n",
       " None,\n",
       " None,\n",
       " None,\n",
       " None,\n",
       " None,\n",
       " None,\n",
       " None,\n",
       " None,\n",
       " None,\n",
       " None,\n",
       " None,\n",
       " None,\n",
       " None,\n",
       " None,\n",
       " None,\n",
       " None]"
      ]
     },
     "execution_count": 8,
     "metadata": {},
     "output_type": "execute_result"
    }
   ],
   "source": [
    "[print(f\"{a} is Even\")if a%2==0 else print(f\"{a} is Odd\") for a in range(1,21)]"
   ]
  },
  {
   "cell_type": "code",
   "execution_count": 9,
   "id": "519121d0",
   "metadata": {},
   "outputs": [
    {
     "name": "stdout",
     "output_type": "stream",
     "text": [
      "['mango', 'orange', 'orange', 'mango', 'orange', 'orange', 'mango', 'orange', 'orange', 'mango']\n"
     ]
    }
   ],
   "source": [
    "fruits = ['mango' if a%3==0 else 'orange' for a in range(10)]\n",
    "print(fruits)"
   ]
  },
  {
   "cell_type": "markdown",
   "id": "735979b4",
   "metadata": {},
   "source": [
    "# Write a program that takes any number of values from user and classify them as odds and even in odds and evens list "
   ]
  },
  {
   "cell_type": "code",
   "execution_count": 13,
   "id": "a1f1b634",
   "metadata": {},
   "outputs": [
    {
     "name": "stdout",
     "output_type": "stream",
     "text": [
      "Enter a number 1,2,3,4,5,6,7,8,9\n",
      "[2, 4, 6, 8] [1, 3, 5, 7, 9]\n"
     ]
    }
   ],
   "source": [
    "odd = []\n",
    "even = []\n",
    "\n",
    "nums = input(\"Enter a number \").split(',')\n",
    "for num in nums:\n",
    "        \n",
    "        num = int(num)\n",
    "        if num%2==0:\n",
    "            even.append(num)\n",
    "        else:\n",
    "            odd.append(num)\n",
    "print(even,odd)"
   ]
  },
  {
   "cell_type": "code",
   "execution_count": 14,
   "id": "b21a3311",
   "metadata": {},
   "outputs": [
    {
     "data": {
      "text/plain": [
       "([2, 4, 6, 8], [1, 3, 5, 7, 9])"
      ]
     },
     "execution_count": 14,
     "metadata": {},
     "output_type": "execute_result"
    }
   ],
   "source": [
    "even,odd"
   ]
  },
  {
   "cell_type": "code",
   "execution_count": 15,
   "id": "3bc35d83",
   "metadata": {},
   "outputs": [
    {
     "name": "stdout",
     "output_type": "stream",
     "text": [
      "1,2,3,4,5,6,7,8,9\n"
     ]
    }
   ],
   "source": [
    "nums = input().split(',')"
   ]
  },
  {
   "cell_type": "code",
   "execution_count": 16,
   "id": "dd154b8d",
   "metadata": {},
   "outputs": [
    {
     "data": {
      "text/plain": [
       "list"
      ]
     },
     "execution_count": 16,
     "metadata": {},
     "output_type": "execute_result"
    }
   ],
   "source": [
    "type(nums)"
   ]
  },
  {
   "cell_type": "code",
   "execution_count": 17,
   "id": "9941aab0",
   "metadata": {},
   "outputs": [
    {
     "data": {
      "text/plain": [
       "['1', '2', '3', '4', '5', '6', '7', '8', '9']"
      ]
     },
     "execution_count": 17,
     "metadata": {},
     "output_type": "execute_result"
    }
   ],
   "source": [
    "nums"
   ]
  },
  {
   "cell_type": "code",
   "execution_count": 18,
   "id": "89a58acd",
   "metadata": {},
   "outputs": [
    {
     "data": {
      "text/plain": [
       "['P', 'kist', 'n']"
      ]
     },
     "execution_count": 18,
     "metadata": {},
     "output_type": "execute_result"
    }
   ],
   "source": [
    "\"Pakistan\".split(\"a\")"
   ]
  },
  {
   "cell_type": "code",
   "execution_count": 21,
   "id": "f1f7b8f3",
   "metadata": {},
   "outputs": [
    {
     "name": "stdout",
     "output_type": "stream",
     "text": [
      "1,2,3,4,5,5\n",
      "5\n"
     ]
    }
   ],
   "source": [
    "nums = input().split(\",\")\n",
    "for a in nums:\n",
    "    a = int(a)\n",
    "print(a)"
   ]
  },
  {
   "cell_type": "markdown",
   "id": "9129121d",
   "metadata": {},
   "source": [
    "# While loop"
   ]
  },
  {
   "cell_type": "code",
   "execution_count": 23,
   "id": "43f9b38a",
   "metadata": {},
   "outputs": [
    {
     "name": "stdout",
     "output_type": "stream",
     "text": [
      "0\n",
      "1\n",
      "2\n",
      "3\n",
      "4\n",
      "5\n",
      "6\n",
      "7\n",
      "8\n",
      "9\n"
     ]
    }
   ],
   "source": [
    "a = 0\n",
    "while a<10:\n",
    "    print(a)\n",
    "    a+=1"
   ]
  },
  {
   "cell_type": "code",
   "execution_count": 24,
   "id": "7cbacde5",
   "metadata": {},
   "outputs": [
    {
     "name": "stdout",
     "output_type": "stream",
     "text": [
      "10\n",
      "9\n",
      "8\n",
      "7\n",
      "6\n",
      "5\n",
      "4\n",
      "3\n",
      "2\n",
      "1\n"
     ]
    }
   ],
   "source": [
    "a = 10\n",
    "while a>0:\n",
    "    print(a)\n",
    "    a-=1"
   ]
  },
  {
   "cell_type": "code",
   "execution_count": 25,
   "id": "78938f05",
   "metadata": {},
   "outputs": [
    {
     "name": "stdout",
     "output_type": "stream",
     "text": [
      "Enter a guest name or press q to exitNasrullah\n",
      "Enter a guest name or press q to exitkhan\n",
      "Enter a guest name or press q to exitHassan\n",
      "Enter a guest name or press q to exitOmer\n",
      "Enter a guest name or press q to exitqasin\n",
      "Enter a guest name or press q to exitq\n"
     ]
    },
    {
     "data": {
      "text/plain": [
       "['Nasrullah', 'khan', 'Hassan', 'Omer', 'qasin']"
      ]
     },
     "execution_count": 25,
     "metadata": {},
     "output_type": "execute_result"
    }
   ],
   "source": [
    "guestList = []\n",
    "flag = True\n",
    "while flag:\n",
    "    guestName = input(\"Enter a guest name or press q to exit\")\n",
    "    if guestName == 'q':\n",
    "        flag = False\n",
    "    else:\n",
    "        guestList.append(guestName)\n",
    "guestList"
   ]
  },
  {
   "cell_type": "markdown",
   "id": "78253373",
   "metadata": {},
   "source": [
    "# Dictionary"
   ]
  },
  {
   "cell_type": "code",
   "execution_count": 3,
   "id": "192a5789",
   "metadata": {},
   "outputs": [],
   "source": [
    "alist = []\n",
    "atuple = ()\n",
    "aset = {2}\n",
    "adict = {\"Name\":\"SSUET\"}"
   ]
  },
  {
   "cell_type": "code",
   "execution_count": 4,
   "id": "8c7231a6",
   "metadata": {},
   "outputs": [
    {
     "data": {
      "text/plain": [
       "(set, dict)"
      ]
     },
     "execution_count": 4,
     "metadata": {},
     "output_type": "execute_result"
    }
   ],
   "source": [
    "type(aset),type(adict)"
   ]
  },
  {
   "cell_type": "code",
   "execution_count": 5,
   "id": "1c38bbe1",
   "metadata": {},
   "outputs": [],
   "source": [
    "student1 = {\"roll\":209, \"name\":\"Nasrullah\",\"course\":\"AI\",\"Status\":True}"
   ]
  },
  {
   "cell_type": "code",
   "execution_count": 7,
   "id": "55d68eef",
   "metadata": {},
   "outputs": [
    {
     "data": {
      "text/plain": [
       "'Nasrullah'"
      ]
     },
     "execution_count": 7,
     "metadata": {},
     "output_type": "execute_result"
    }
   ],
   "source": [
    "student1[\"name\"]"
   ]
  },
  {
   "cell_type": "code",
   "execution_count": 8,
   "id": "0b836319",
   "metadata": {},
   "outputs": [
    {
     "data": {
      "text/plain": [
       "'AI'"
      ]
     },
     "execution_count": 8,
     "metadata": {},
     "output_type": "execute_result"
    }
   ],
   "source": [
    "student1[\"course\"]"
   ]
  },
  {
   "cell_type": "code",
   "execution_count": 9,
   "id": "7f8e6bcd",
   "metadata": {},
   "outputs": [],
   "source": [
    "student1[\"Email\"]= \"nasrullah@gmail.com\""
   ]
  },
  {
   "cell_type": "code",
   "execution_count": 10,
   "id": "21199769",
   "metadata": {},
   "outputs": [
    {
     "data": {
      "text/plain": [
       "{'roll': 209,\n",
       " 'name': 'Nasrullah',\n",
       " 'course': 'AI',\n",
       " 'Status': True,\n",
       " 'Email': 'nasrullah@gmail.com'}"
      ]
     },
     "execution_count": 10,
     "metadata": {},
     "output_type": "execute_result"
    }
   ],
   "source": [
    "student1"
   ]
  },
  {
   "cell_type": "code",
   "execution_count": 11,
   "id": "a3691135",
   "metadata": {},
   "outputs": [],
   "source": [
    "del student1[\"roll\"]"
   ]
  },
  {
   "cell_type": "code",
   "execution_count": 12,
   "id": "2d30848d",
   "metadata": {},
   "outputs": [
    {
     "data": {
      "text/plain": [
       "{'name': 'Nasrullah',\n",
       " 'course': 'AI',\n",
       " 'Status': True,\n",
       " 'Email': 'nasrullah@gmail.com'}"
      ]
     },
     "execution_count": 12,
     "metadata": {},
     "output_type": "execute_result"
    }
   ],
   "source": [
    "student1"
   ]
  },
  {
   "cell_type": "code",
   "execution_count": 13,
   "id": "d29eeeef",
   "metadata": {},
   "outputs": [
    {
     "name": "stdout",
     "output_type": "stream",
     "text": [
      "name\n",
      "course\n",
      "Status\n",
      "Email\n"
     ]
    }
   ],
   "source": [
    "for a in student1:\n",
    "    print(a)"
   ]
  },
  {
   "cell_type": "code",
   "execution_count": 15,
   "id": "4303fec0",
   "metadata": {},
   "outputs": [
    {
     "name": "stdout",
     "output_type": "stream",
     "text": [
      "Nasrullah\n",
      "AI\n",
      "True\n",
      "nasrullah@gmail.com\n"
     ]
    }
   ],
   "source": [
    "for key in student1:\n",
    "    print(student1[key])"
   ]
  },
  {
   "cell_type": "code",
   "execution_count": 16,
   "id": "c2a66971",
   "metadata": {},
   "outputs": [
    {
     "name": "stdout",
     "output_type": "stream",
     "text": [
      "name\n",
      "course\n",
      "Status\n",
      "Email\n"
     ]
    }
   ],
   "source": [
    "for key in student1.keys():\n",
    "    print(key)"
   ]
  },
  {
   "cell_type": "code",
   "execution_count": 17,
   "id": "4e3ce4b4",
   "metadata": {},
   "outputs": [
    {
     "name": "stdout",
     "output_type": "stream",
     "text": [
      "Nasrullah\n",
      "AI\n",
      "True\n",
      "nasrullah@gmail.com\n"
     ]
    }
   ],
   "source": [
    "for key in student1.keys():\n",
    "    print(student1[key])"
   ]
  },
  {
   "cell_type": "code",
   "execution_count": 19,
   "id": "b836266d",
   "metadata": {},
   "outputs": [
    {
     "name": "stdout",
     "output_type": "stream",
     "text": [
      "Nasrullah\n",
      "AI\n",
      "True\n",
      "nasrullah@gmail.com\n"
     ]
    }
   ],
   "source": [
    "for value in student1.values():\n",
    "    print(value)"
   ]
  },
  {
   "cell_type": "code",
   "execution_count": 20,
   "id": "81cdf0a1",
   "metadata": {},
   "outputs": [
    {
     "name": "stdout",
     "output_type": "stream",
     "text": [
      "name Nasrullah\n",
      "course AI\n",
      "Status True\n",
      "Email nasrullah@gmail.com\n"
     ]
    }
   ],
   "source": [
    "for k,v in student1.items():\n",
    "    print(k,v)"
   ]
  },
  {
   "cell_type": "markdown",
   "id": "4079b832",
   "metadata": {},
   "source": [
    "# Paking or unpacking"
   ]
  },
  {
   "cell_type": "code",
   "execution_count": 21,
   "id": "86bf1e9f",
   "metadata": {},
   "outputs": [],
   "source": [
    "alist = [22,33]"
   ]
  },
  {
   "cell_type": "code",
   "execution_count": 22,
   "id": "8fbadb99",
   "metadata": {},
   "outputs": [],
   "source": [
    "asad,fahad = alist"
   ]
  },
  {
   "cell_type": "code",
   "execution_count": 23,
   "id": "79357f9f",
   "metadata": {},
   "outputs": [
    {
     "data": {
      "text/plain": [
       "22"
      ]
     },
     "execution_count": 23,
     "metadata": {},
     "output_type": "execute_result"
    }
   ],
   "source": [
    "asad"
   ]
  },
  {
   "cell_type": "code",
   "execution_count": 24,
   "id": "c775f4df",
   "metadata": {},
   "outputs": [
    {
     "data": {
      "text/plain": [
       "33"
      ]
     },
     "execution_count": 24,
     "metadata": {},
     "output_type": "execute_result"
    }
   ],
   "source": [
    "fahad"
   ]
  },
  {
   "cell_type": "code",
   "execution_count": 31,
   "id": "79ff0a42",
   "metadata": {},
   "outputs": [],
   "source": [
    "a =100, 200"
   ]
  },
  {
   "cell_type": "code",
   "execution_count": 32,
   "id": "7c982a73",
   "metadata": {},
   "outputs": [
    {
     "data": {
      "text/plain": [
       "(100, 200)"
      ]
     },
     "execution_count": 32,
     "metadata": {},
     "output_type": "execute_result"
    }
   ],
   "source": [
    "a"
   ]
  },
  {
   "cell_type": "code",
   "execution_count": 33,
   "id": "bbe66951",
   "metadata": {},
   "outputs": [],
   "source": [
    "q = a"
   ]
  },
  {
   "cell_type": "code",
   "execution_count": 34,
   "id": "4e401045",
   "metadata": {},
   "outputs": [
    {
     "data": {
      "text/plain": [
       "(100, 200)"
      ]
     },
     "execution_count": 34,
     "metadata": {},
     "output_type": "execute_result"
    }
   ],
   "source": [
    "q"
   ]
  },
  {
   "cell_type": "code",
   "execution_count": 35,
   "id": "4e94739f",
   "metadata": {},
   "outputs": [
    {
     "data": {
      "text/plain": [
       "(100, 200)"
      ]
     },
     "execution_count": 35,
     "metadata": {},
     "output_type": "execute_result"
    }
   ],
   "source": [
    "q"
   ]
  },
  {
   "cell_type": "code",
   "execution_count": 36,
   "id": "543276eb",
   "metadata": {},
   "outputs": [
    {
     "data": {
      "text/plain": [
       "(100, 200)"
      ]
     },
     "execution_count": 36,
     "metadata": {},
     "output_type": "execute_result"
    }
   ],
   "source": [
    "q"
   ]
  },
  {
   "cell_type": "code",
   "execution_count": 38,
   "id": "9fa028a8",
   "metadata": {},
   "outputs": [
    {
     "name": "stdout",
     "output_type": "stream",
     "text": [
      "('name', 'Nasrullah')\n",
      "('course', 'AI')\n",
      "('Status', True)\n",
      "('Email', 'nasrullah@gmail.com')\n"
     ]
    }
   ],
   "source": [
    "for a in student1.items():\n",
    "    print(a)"
   ]
  },
  {
   "cell_type": "code",
   "execution_count": null,
   "id": "dc8cc04f",
   "metadata": {},
   "outputs": [],
   "source": []
  }
 ],
 "metadata": {
  "kernelspec": {
   "display_name": "Python 3 (ipykernel)",
   "language": "python",
   "name": "python3"
  },
  "language_info": {
   "codemirror_mode": {
    "name": "ipython",
    "version": 3
   },
   "file_extension": ".py",
   "mimetype": "text/x-python",
   "name": "python",
   "nbconvert_exporter": "python",
   "pygments_lexer": "ipython3",
   "version": "3.10.4"
  }
 },
 "nbformat": 4,
 "nbformat_minor": 5
}
